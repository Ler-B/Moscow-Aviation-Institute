{
 "cells": [
  {
   "cell_type": "markdown",
   "metadata": {},
   "source": [
    "## Лабораторная работа 5"
   ]
  },
  {
   "cell_type": "markdown",
   "metadata": {},
   "source": [
    "### Вариант 10"
   ]
  },
  {
   "cell_type": "code",
   "execution_count": 1,
   "metadata": {},
   "outputs": [],
   "source": [
    "import matplotlib.pyplot as plt\n",
    "import math\n",
    "import numpy as np\n",
    "import seaborn as sns\n",
    "from ipywidgets import interact"
   ]
  },
  {
   "cell_type": "code",
   "execution_count": 2,
   "metadata": {},
   "outputs": [],
   "source": [
    "def Plot(count, points_xy):\n",
    "    rows = math.ceil(count/3)\n",
    "    cols = 3 if count > 3 else count\n",
    "    fig, subplots = plt.subplots(nrows=rows, ncols = cols)\n",
    "    \n",
    "    fig.set_figwidth(8 * cols)\n",
    "    fig.set_figheight(4 * rows)\n",
    "\n",
    "    colors = sns.color_palette(\"hls\", len(points_xy[0]))\n",
    "\n",
    "    for i, ax in enumerate(fig.axes):\n",
    "        if i < count:\n",
    "            for j, xy in enumerate(points_xy[i][:-1]):\n",
    "                try:\n",
    "                    lbl = xy[2]\n",
    "                except:\n",
    "                    lbl = '.'\n",
    "                ax.plot(xy[0], xy[1], color = colors[j], label = lbl)\n",
    "                ax.legend()\n",
    "            ax.set_title(points_xy[i][-1])\n",
    "    plt.subplots_adjust(hspace=0.5)\n",
    "\n",
    "#TRIDIAGONAL_MATRIX_ALGORITHM\n",
    "class Tridiagonal_Matrix_Algorithm:\n",
    "    def __init__(self, A, _d):\n",
    "        self.n = len(_d)\n",
    "        self.a = []\n",
    "        self.b = []\n",
    "        self.c = []\n",
    "        self.d = _d\n",
    "        self.A = A\n",
    "\n",
    "        self.a.append(0);\n",
    "        self.b.append(self.A[0][0])\n",
    "        self.c.append(self.A[0][1])\n",
    "        for i in range(1, self.n - 1):\n",
    "            self.a.append(self.A[i][i - 1])\n",
    "            self.b.append(self.A[i][i])\n",
    "            self.c.append(self.A[i][i + 1])\n",
    "\n",
    "        self.a.append(self.A[self.n - 1][self.n - 2])\n",
    "        self.b.append(self.A[self.n - 1][self.n - 1])\n",
    "        self.c.append(0)\n",
    "\n",
    "        self.Make_P_andQ()\n",
    "        self.x = self.Make_x()\n",
    "\n",
    "    def Ans(self):\n",
    "        return self.x\n",
    "\n",
    "    def Make_P_andQ(self):\n",
    "        self.p = []\n",
    "        self.q = []\n",
    "        self.p.append(- self.c[0] / self.b[0])\n",
    "        self.q.append(self.d[0] / self.b[0])\n",
    "\n",
    "        for i in range(1, self.n - 1):\n",
    "           self.p.append(- self.c[i] / (self.b[i] + self.a[i] * self.p[i - 1]))\n",
    "           self.q.append((self.d[i] - self.a[i] * self.q[i - 1]) / (self.b[i] + self.a[i] * self.p[i - 1]))\n",
    "\n",
    "    def Make_x(self):\n",
    "        self.ans = np.zeros(self.n)\n",
    "\n",
    "        self.ans[self.n - 1] = (self.d[self.n - 1] - self.a[self.n - 1] * self.q[self.n - 2]) / (self.b[self.n - 1] + self.a[self.n - 1] * self.p[self.n - 2]);\n",
    "\n",
    "        for i in range(self.n - 2, -1, -1):\n",
    "            self.ans[i] = self.p[i] * self.ans[i + 1] + self.q[i]\n",
    "\n",
    "        return self.ans.tolist()"
   ]
  },
  {
   "cell_type": "markdown",
   "metadata": {},
   "source": [
    "<!-- вар 9\n",
    "$$\n",
    "\\frac{\\partial{u}}{\\partial{t}} =  a \\frac{\\partial^2{u}}{\\partial{x^2}} + b \\frac{\\partial{u}}{\\partial{x}}$$\n",
    "$$  a > 0, b > 0 $$\n",
    "$$ u_x(0, t) - u(0, t) = - exp(-at)(cos(bt) + sin(bt)) $$\n",
    "$$ u_x(\\pi, t) - u(\\pi, t) = exp(-at)(cos(bt) + sin(bt)) $$\n",
    "$$ u(x, 0) = cos(x) $$\n",
    "\n",
    "$$ Аналитическое \\  решение: U(x, t) = exp(-at)cos(x + bt) $$ -->\n",
    "\n",
    "вар 10 \n",
    "$$\n",
    "\\frac{\\partial{u}}{\\partial{t}} =  a \\frac{\\partial^2{u}}{\\partial{x^2}} + b \\frac{\\partial{u}}{\\partial{x}} + cu$$\n",
    "$$  a > 0, b > 0, c < 0 $$\n",
    "$$ u_x(0, t) + u(0, t) = exp((c-a)t)(cos(bt) + sin(bt)) $$\n",
    "$$ u_x(\\pi, t) + u(\\pi, t) = -exp((c-a)t)(cos(bt) + sin(bt)) $$\n",
    "$$ u(x, 0) = sin(x) $$\n",
    "\n",
    "$$ Аналитическое \\  решение: U(x, t) = exp((c-a)t)sin(x + bt) $$"
   ]
  },
  {
   "cell_type": "code",
   "execution_count": 3,
   "metadata": {},
   "outputs": [],
   "source": [
    "a = 1\n",
    "b = 1\n",
    "c = -1\n",
    "f = lambda x, t : 0\n",
    "\n",
    "\n",
    "# U = lambda x, t: math.exp(a*t) * math.cos(x + b * t)\n",
    "U = lambda x, t: math.exp((c - a)*t) * math.sin(x + b * t)\n",
    "# U = lambda x, t: math.exp(-(math.pi)**2 * t * a) * math.sin(math.pi * x)\n",
    "\n",
    "alph_0 = 1\n",
    "beta_0 = 1\n",
    "\n",
    "alph_l = 1\n",
    "beta_l = 1\n",
    "\n",
    "\n",
    "# gamma_0 = lambda t: - math.exp(- a * t) * (math.cos(b * t) + math.sin(b * t))\n",
    "# gamma_l = lambda t: math.exp(- a * t) * (math.cos(b * t) + math.sin(b * t))\n",
    "gamma_0 = lambda t: math.exp((c - a) * t) * (math.cos(b * t) + math.sin(b * t))\n",
    "gamma_l = lambda t: - math.exp((c - a) * t) * (math.cos(b * t) + math.sin(b * t))\n",
    "# gamma_0 = lambda t: 0\n",
    "# gamma_l = lambda t: 0\n",
    "\n",
    "\n",
    "# u_0 = lambda x: math.cos(x)\n",
    "u_0 = lambda x: math.sin(x)\n",
    "# u_0 = lambda x: math.sin( math.pi * x)\n"
   ]
  },
  {
   "cell_type": "markdown",
   "metadata": {},
   "source": [
    "# 2Т1П"
   ]
  },
  {
   "cell_type": "markdown",
   "metadata": {},
   "source": [
    "\n",
    "\\\n",
    "$$ \\alpha_0 * \\frac{u_1^{k + 1} - u_0^{k + 1}}{h} + \\beta_0 * u_0^{k + 1}  = \\gamma_0(t^{k + 1})$$\n",
    "$$ \\alpha_l * \\frac{u_n^{k + 1} - u_{n-1}^{k + 1}}{h} + \\beta_l * u_n^{k + 1}  = \\gamma_l(t^{k + 1})$$\n",
    "\\\n"
   ]
  },
  {
   "cell_type": "markdown",
   "metadata": {},
   "source": [
    "### Явный"
   ]
  },
  {
   "cell_type": "markdown",
   "metadata": {},
   "source": [
    "$$ u_0^{k + 1} = \\frac{h * \\gamma_0(t^{k + 1}) - \\alpha_0 * u_1^{k + 1}}{h * \\beta_0 - \\alpha_0}  $$\n",
    "\n",
    "$$  u_i^{k + 1} = \\frac{a \\tau}{h^2} (u_{i-1}^k - 2 u_{i}^k + u_{i+1}^k) + \\frac{b \\tau}{2h}(u_{i+1}^k - u_{i-1}^k) + \\tau c u_{i}^k + \\tau f + u_{i}^k$$\n",
    "\n",
    "$$ u_n^{k + 1} = \\frac{h * \\gamma_l(t^{k + 1}) + \\alpha_l * u_{n - 1}^{k + 1}}{h * \\beta_l + \\alpha_l}   $$\n"
   ]
  },
  {
   "cell_type": "markdown",
   "metadata": {},
   "source": [
    "### Неявный"
   ]
  },
  {
   "cell_type": "markdown",
   "metadata": {},
   "source": [
    "$$  u_0^{k + 1} * (\\frac{- \\alpha_0}{h} + \\beta_0) + u_1^{k + 1} * (\\frac{\\alpha_0}{h}) = \\gamma_0(t^{k + 1})$$\n",
    "\n",
    "$$ u_{i-1}^{k+1} * (\\frac{a\\tau}{h^2} - \\frac{b\\tau}{2h}) + u_{i}^{k+1} * (-1 - \\frac{2a\\tau}{h^2} + c\\tau) + u_{i}^{k+1} * (\\frac{a\\tau}{h^2} + \\frac{b\\tau}{2h}) = - u_i^k$$\n",
    "\n",
    "$$  u_{n - 1}^{k + 1} * (\\frac{- \\alpha_l}{h}) + u_n^{k + 1} * (\\frac{\\alpha_l}{h} + \\beta_l) = \\gamma_l(t^{k + 1})$$"
   ]
  },
  {
   "cell_type": "markdown",
   "metadata": {},
   "source": [
    "### Комбинированный"
   ]
  },
  {
   "cell_type": "markdown",
   "metadata": {},
   "source": [
    "$$  u_0^{k + 1} * (\\frac{- \\alpha_0}{h} + \\beta_0) + u_1^{k + 1} * (\\frac{\\alpha_0}{h}) = \\gamma_0(t^{k + 1})$$\n",
    "\n",
    "$$ u_{i-1}^{k+1} * (\\frac{a\\tau \\theta}{h^2} - \\frac{b\\tau\\theta}{2h}) + u_{i}^{k+1} * (-1 - \\frac{2a\\tau\\theta}{h^2} + c\\tau\\theta) + u_{i}^{k+1} * (\\frac{a\\tau\\theta}{h^2} + \\frac{b\\tau\\theta}{2h}) = - u_i^k - \\theta \\tau f(x, t^{k + 1}) - \\tau(1 - \\theta)(a * \\frac{u_{i-1}^k - 2 u_i^k + u_{i + 1} ^ k}{h^2} + b * \\frac{u_{i+1}^k - u_{i - 1}^k}{2h} + cu_i^k + f(x, t^k))  $$\n",
    "\n",
    "$$  u_{n - 1}^{k + 1} * (\\frac{- \\alpha_l}{h}) + u_n^{k + 1} * (\\frac{\\alpha_l}{h} + \\beta_l) = \\gamma_l(t^{k + 1})$$"
   ]
  },
  {
   "cell_type": "code",
   "execution_count": 4,
   "metadata": {},
   "outputs": [
    {
     "data": {
      "image/png": "[encoded data removed]",
      "text/plain": [
       "<Figure size 1728x288 with 3 Axes>"
      ]
     },
     "metadata": {
      "needs_background": "light"
     },
     "output_type": "display_data"
    }
   ],
   "source": [
    "class Two_point_first_order:\n",
    "    def __init__(self, a, b, c, f, crnt = 1/4):\n",
    "        self.a = a\n",
    "        self.b = b\n",
    "        self.c = c\n",
    "        self.f = f\n",
    "        self.crnt = crnt\n",
    "    \n",
    "    def Explicit(self, alph_0, alph_l, beta_0, beta_l, gamma_0, gamma_l, u_0, T = 4, l = math.pi, n = 50):\n",
    "        h = l / n\n",
    "        tau =  self.crnt * h**2 / a\n",
    "        self.tau = tau\n",
    "        x = np.arange(0, l, h)\n",
    "        self.x = x\n",
    "\n",
    "        u = [u_0(x) for x in x]\n",
    "        _U = [u]\n",
    "        t = 0\n",
    "        while (t < T):\n",
    "            t += tau\n",
    "            _u = np.zeros(len(u))\n",
    "            u_k = _U[-1]\n",
    "            for i in range(1, len(_u) - 1):\n",
    "                _u[i] = (a * tau / h**2) * (u_k[i-1] - 2 * u_k[i] + u_k[i+1]) + (b * tau / (2 * h)) * (u_k[i+1] - u_k[i-1]) + tau * c * u_k[i] + u_k[i]   \n",
    "            _u[0] = (h * gamma_0(t) - alph_0 * _u[1]) / (h * beta_0 - alph_0)\n",
    "            _u[-1] = (h * gamma_l(t) + alph_l * _u[-2]) / (h * beta_l + alph_l)\n",
    "            _U.append(_u)\n",
    "\n",
    "        return _U\n",
    "    \n",
    "    def Implicit(self, alph_0, alph_l, beta_0, beta_l, gamma_0, gamma_l, u_0, T = 4, l = math.pi, n = 50):\n",
    "        h = l / n\n",
    "        tau =  self.crnt * h**2 / a\n",
    "        self.tau = tau\n",
    "        x = np.arange(0, math.pi, h)\n",
    "        self.x = x\n",
    "\n",
    "        u = [u_0(x) for x in x]\n",
    "        _U = [u]\n",
    "        t = 0\n",
    "        while (t < T):\n",
    "            t += tau\n",
    "\n",
    "            A = np.zeros((n, n))\n",
    "            d = np.zeros(n)\n",
    "\n",
    "            A[0][0] = -alph_0 /  h + beta_0\n",
    "            A[0][1] = alph_0 / h\n",
    "            d[0] = gamma_0(t)\n",
    "            \n",
    "            A[-1][-2] = - alph_l /  h\n",
    "            A[-1][-1] = alph_l / h  + beta_l\n",
    "            d[-1] = gamma_l(t)\n",
    "\n",
    "            i = 0\n",
    "            for row in A[1:-1]:\n",
    "                row[i] = a * tau / h**2 - b * tau / (2*h)\n",
    "                row[i + 1] = -1 - 2*a*tau / h**2 + c * tau \n",
    "                row[i + 2] = a * tau / h**2 + b * tau / (2*h)\n",
    "                i += 1\n",
    "\n",
    "                d[i] = -_U[-1][i]\n",
    "                \n",
    "            tr = Tridiagonal_Matrix_Algorithm(A, d)\n",
    "            u = tr.Ans()\n",
    "            _U.append(u)\n",
    "        return _U\n",
    "\n",
    "    def Combined(self, alph_0, alph_l, beta_0, beta_l, gamma_0, gamma_l, u_0, theta, T = 4, l = math.pi, n = 50):\n",
    "        h = l / n\n",
    "        tau =  self.crnt * h**2 / a\n",
    "        self.tau = tau\n",
    "        x = np.arange(0, math.pi, h)\n",
    "        self.x = x\n",
    "\n",
    "        u = [u_0(x) for x in x]\n",
    "        _U = [u]\n",
    "        t = 0\n",
    "        while (t < T):\n",
    "            t += tau\n",
    "\n",
    "            A = np.zeros((n, n))\n",
    "            d = np.zeros(n)\n",
    "\n",
    "            A[0][0] = -alph_0 /  h + beta_0\n",
    "            A[0][1] = alph_0 / h\n",
    "            d[0] = gamma_0(t)\n",
    "            \n",
    "            A[-1][-2] = - alph_l /  h\n",
    "            A[-1][-1] = alph_l / h  + beta_l\n",
    "            d[-1] = gamma_l(t)\n",
    "\n",
    "            i = 0\n",
    "            for row in A[1:-1]:\n",
    "                row[i] = a * tau * theta / h**2 - b * tau * theta / (2*h)\n",
    "                row[i + 1] = -1 - 2 * a * tau * theta / h**2 + c * tau * theta \n",
    "                row[i + 2] = a * tau * theta / h**2 + b * tau * theta / (2*h)\n",
    "                i += 1\n",
    "\n",
    "                d[i] = -_U[-1][i] - tau * (1 - theta) * ((_U[-1][i - 1] - 2 * _U[-1][i] + _U[-1][i + 1])/ h**2 + (_U[-1][i + 1] - _U[-1][i - 1]) / (2 * h) + c * _U[-1][i])\n",
    "                \n",
    "            tr = Tridiagonal_Matrix_Algorithm(A, d)\n",
    "            u = tr.Ans()\n",
    "            _U.append(u)\n",
    "        return _U\n",
    "\n",
    "    def Get_real_vals(self, f, appr_U):\n",
    "        U = []\n",
    "        for i, u_appr in enumerate(appr_U):\n",
    "            U.append([f(_x, self.tau * i) for _x in self.x])\n",
    "        return U\n",
    "\n",
    "    def Get_epx(self, U_appr, U_real):\n",
    "        eps = [max(abs(np.array(U_real[i]) - np.array(U_appr[i]))) for i in range(len(U_appr))]\n",
    "        return eps\n",
    "\n",
    "\n",
    "met_2T1P = Two_point_first_order(a, b, c, f)\n",
    "\n",
    "ex_U21_appr = met_2T1P.Explicit(alph_0, alph_l, beta_0, beta_l, gamma_0, gamma_l, u_0, T = 6, n = 100)\n",
    "ex_U21_real = met_2T1P.Get_real_vals(U, ex_U21_appr)\n",
    "ex_eps21 = met_2T1P.Get_epx(ex_U21_appr, ex_U21_real)\n",
    "\n",
    "im_U21_appr = met_2T1P.Implicit(alph_0, alph_l, beta_0, beta_l, gamma_0, gamma_l, u_0, T = 6, n = 100)\n",
    "im_U21_real = met_2T1P.Get_real_vals(U, im_U21_appr)\n",
    "im_eps21 = met_2T1P.Get_epx(im_U21_appr, im_U21_real)\n",
    "\n",
    "cmb_U21_appr = met_2T1P.Combined(alph_0, alph_l, beta_0, beta_l, gamma_0, gamma_l, u_0, theta = 1/4, T = 6, n = 100)\n",
    "cmb_U21_real = met_2T1P.Get_real_vals(U, cmb_U21_appr)\n",
    "cmb_eps21 = met_2T1P.Get_epx(cmb_U21_appr, cmb_U21_real)\n",
    "\n",
    "data = []  \n",
    "data.append([[[met_2T1P.tau * i for i in range(len(ex_U21_appr))], ex_eps21, f' eps'], f'Explicit'])\n",
    "data.append([[[met_2T1P.tau * i for i in range(len(im_U21_appr))], im_eps21, f' eps'], f'Implicit'])\n",
    "data.append([[[met_2T1P.tau * i for i in range(len(cmb_U21_appr))], cmb_eps21, f' eps'], f'Combined'])\n",
    "\n",
    "Plot(len(data), data)"
   ]
  },
  {
   "cell_type": "code",
   "execution_count": 5,
   "metadata": {},
   "outputs": [
    {
     "data": {
      "application/vnd.jupyter.widget-view+json": {
       "model_id": "46d798d55d7e4f1fb648af65e371e983",
       "version_major": 2,
       "version_minor": 0
      },
      "text/plain": [
       "interactive(children=(IntSlider(value=0, description='i', max=24219), Output()), _dom_classes=('widget-interac…"
      ]
     },
     "metadata": {},
     "output_type": "display_data"
    }
   ],
   "source": [
    "%matplotlib inline\n",
    "\n",
    "U_real = [ex_U21_real, im_U21_real, cmb_U21_real]\n",
    "U_appr = [ex_U21_appr, im_U21_appr, cmb_U21_appr]\n",
    "\n",
    "def plot_met_2_1(i=0):\n",
    "    fig, subplots = plt.subplots(nrows=1, ncols = 3)\n",
    "    fig.set_figwidth(8 * 3)\n",
    "    fig.set_figheight(5)\n",
    "\n",
    "    labls = ['явный', 'неявный', 'комбинированный']\n",
    "\n",
    "    for j in range(3 if len(U_real) > 3 else len(U_real)):\n",
    "        fig.axes[j].plot(met_2T1P.x, U_real[j][i], 'g', label = 'real');\n",
    "        fig.axes[j].plot(met_2T1P.x, U_appr[j][i], '.', 'b', label = '2Т1П ');\n",
    "        fig.axes[j].set_title(f\"{labls[j]} \\n  t = {met_2T1P.tau * i}\")\n",
    "        fig.axes[j].legend()\n",
    "\n",
    "\n",
    "    plt.show();\n",
    "    \n",
    "interact(plot_met_2_1, i = (0, len(U_appr[0]) - 100, 1));"
   ]
  },
  {
   "cell_type": "markdown",
   "metadata": {},
   "source": [
    "# 3T2П"
   ]
  },
  {
   "cell_type": "markdown",
   "metadata": {},
   "source": [
    "$$ \\alpha_0 * \\frac{-3u_0^{k + 1} + 4u_1^{k + 1} - u_2^{k+1}}{2h} + \\beta_0 * u_0^{k + 1}  = \\gamma_0(t^{k + 1})$$\n",
    "$$ \\alpha_l * \\frac{u_{n - 2}^{k+1} - 4u_{n - 1}^{k + 1} + 3u_n^{k+1}}{2h} + \\beta_l * u_n^{k + 1}  = \\gamma_l(t^{k + 1})$$"
   ]
  },
  {
   "cell_type": "markdown",
   "metadata": {},
   "source": [
    "### Явный "
   ]
  },
  {
   "cell_type": "markdown",
   "metadata": {},
   "source": [
    "$$ u_0^{k + 1} = \\frac{2 h \\gamma_0(t^{k + 1}) + \\alpha_0 (u_2^{k + 1} - 4 u_1^{k + 1}) }{2 h \\beta_0 - 3 \\alpha_0} $$\n",
    "\n",
    "$$  u_i^{k + 1} = \\frac{a \\tau}{h^2} (u_{i-1}^k - 2 u_{i}^k + u_{i+1}^k) + \\frac{b \\tau}{2h}(u_{i+1}^k - u_{i-1}^k) + \\tau c u_{i}^k + \\tau f + u_{i}^k$$\n",
    "\n",
    "$$ u_n^{k + 1} = \\frac{2 h \\gamma_l(t^{k+1}) + \\alpha_l (4 u_{n - 1}^{k + 1} - u_{n - 2}^{k + 1}) }{2 h \\beta_l + 3 \\alpha_l} $$"
   ]
  },
  {
   "cell_type": "markdown",
   "metadata": {},
   "source": [
    "### Неявный"
   ]
  },
  {
   "cell_type": "markdown",
   "metadata": {},
   "source": [
    "\n",
    "$$  u_0^{k + 1} * (\\frac{- 3\\alpha_0}{2h} + \\beta_0) + u_1^{k + 1} * (\\frac{4 \\alpha_0}{2 h}) +  u_2^{k + 1} * (\\frac{-\\alpha_0}{2h}) = \\gamma_0(t^{k + 1})$$\n",
    "\n",
    "$$ u_{i-1}^{k+1} * (\\frac{a\\tau}{h^2} - \\frac{b\\tau}{2h}) + u_{i}^{k+1} * (-1 - \\frac{2a\\tau}{h^2} + c \\tau) + u_{i}^{k+1} * (\\frac{a\\tau}{h^2} + \\frac{b\\tau}{2h}) = - u_i^k$$\n",
    "\n",
    "$$  u_{n - 2}^{k + 1} * (\\frac{\\alpha_l}{2h} ) + u_{n - 1}^{k + 1} * (\\frac{- 4 \\alpha_l}{2 h}) + u_n^{k + 1} * (\\frac{3\\alpha_l}{2h} + \\beta_l) = \\gamma_l(t^{k + 1})$$"
   ]
  },
  {
   "cell_type": "markdown",
   "metadata": {},
   "source": [
    "### Комбинированный"
   ]
  },
  {
   "cell_type": "markdown",
   "metadata": {},
   "source": [
    "$$  u_0^{k + 1} * (\\frac{- 3\\alpha_0}{2h} + \\beta_0) + u_1^{k + 1} * (\\frac{4 \\alpha_0}{2 h}) +  u_2^{k + 1} * (\\frac{-\\alpha_0}{2h}) = \\gamma_0(t^{k + 1})$$\n",
    "\n",
    "$$ u_{i-1}^{k+1} * (\\frac{a\\tau \\theta}{h^2} - \\frac{b\\tau\\theta}{2h}) + u_{i}^{k+1} * (-1 - \\frac{2a\\tau\\theta}{h^2} + c\\tau\\theta) + u_{i}^{k+1} * (\\frac{a\\tau\\theta}{h^2} + \\frac{b\\tau\\theta}{2h}) = - u_i^k - \\theta \\tau f(x, t^{k + 1}) - \\tau(1 - \\theta)(a * \\frac{u_{i-1}^k - 2 u_i^k + u_{i + 1} ^ k}{h^2} + b * \\frac{u_{i+1}^k - u_{i - 1}^k}{2h} + cu_i^k + f(x, t^k))  $$\n",
    "\n",
    "$$  u_{n - 2}^{k + 1} * (\\frac{\\alpha_l}{2h} ) + u_{n - 1}^{k + 1} * (\\frac{- 4 \\alpha_l}{2 h}) + u_n^{k + 1} * (\\frac{3\\alpha_l}{2h} + \\beta_l) = \\gamma_l(t^{k + 1})$$"
   ]
  },
  {
   "cell_type": "code",
   "execution_count": 6,
   "metadata": {},
   "outputs": [
    {
     "data": {
      "image/png": "[encoded data removed]",
      "text/plain": [
       "<Figure size 1728x288 with 3 Axes>"
      ]
     },
     "metadata": {
      "needs_background": "light"
     },
     "output_type": "display_data"
    }
   ],
   "source": [
    "class Three_point_second_order:\n",
    "    def __init__(self, a, b, c, f, crnt = 1/4):\n",
    "        self.a = a\n",
    "        self.b = b\n",
    "        self.c = c\n",
    "        self.f = f\n",
    "        self.crnt = crnt\n",
    "    \n",
    "    def Explicit(self, alph_0, alph_l, beta_0, beta_l, gamma_0, gamma_l, u_0, T = 4, l = math.pi, n = 50):\n",
    "        h = l / n\n",
    "        tau =  self.crnt * h**2 / a\n",
    "        self.tau = tau\n",
    "        x = np.arange(0, math.pi, h)\n",
    "        self.x = x\n",
    "\n",
    "        u = [u_0(x) for x in x]\n",
    "        _U = [u]\n",
    "        t = 0\n",
    "        while (t < T):\n",
    "            t += tau\n",
    "            _u = np.zeros(len(u))\n",
    "            u_k = _U[-1]\n",
    "            for i in range(1, len(_u) - 1):\n",
    "                _u[i] = (a * tau / h**2) * (u_k[i-1] - 2 * u_k[i] + u_k[i+1]) + (b * tau / (2 * h)) * (u_k[i+1] - u_k[i-1]) + tau * c * u_k[i] + u_k[i]   \n",
    "            _u[0] = (2 * h * gamma_0(t) + alph_0 * (_u[2] - 4 * _u[1])) / (2 * h * beta_0 - 3 * alph_0)\n",
    "            _u[-1] = (2 * h * gamma_l(t) + alph_l * (4 * _u[-2] - _u[-3])) / (2 * h * beta_l + 3 * alph_l)\n",
    "            _U.append(_u)\n",
    "\n",
    "        return _U\n",
    "    \n",
    "    def Implicit(self, alph_0, alph_l, beta_0, beta_l, gamma_0, gamma_l, u_0, T = 4, l = math.pi, n = 50):\n",
    "        h = l / n\n",
    "        tau =  self.crnt * h**2 / a\n",
    "        self.tau = tau\n",
    "        x = np.arange(0, math.pi, h)\n",
    "        self.x = x\n",
    "\n",
    "        u = [u_0(x) for x in x]\n",
    "        _U = [u]\n",
    "        t = 0\n",
    "        while (t < T):\n",
    "            t += tau\n",
    "\n",
    "            A = np.zeros((n, n))\n",
    "            d = np.zeros(n)\n",
    "\n",
    "            A[0][0] = -3 * alph_0 / (2*h) + beta_0\n",
    "            A[0][1] = 4 * alph_0 / (2 * h)\n",
    "            A[0][2] = -alph_0 / (2 * h)\n",
    "            d[0] = gamma_0(t)\n",
    "\n",
    "            A[-1][-3] = alph_l / (2 * h)\n",
    "            A[-1][-2] = -4 * alph_l / (2 * h)\n",
    "            A[-1][-1] = 3 * alph_l / (2*h) + beta_l\n",
    "            d[-1] = gamma_l(t)\n",
    "\n",
    "            i = 0\n",
    "            for row in A[1:-1]:\n",
    "                row[i] = a * tau / h**2 - b * tau / (2*h)\n",
    "                row[i + 1] = -1 - 2*a*tau / h**2 + c* tau\n",
    "                row[i + 2] = a * tau / h**2 + b * tau / (2*h)\n",
    "                i += 1\n",
    "                d[i] = -_U[-1][i]\n",
    "            \n",
    "\n",
    "            cf1 = A[0][2] / A[1][2]\n",
    "            A[0] = A[0] - A[1] * cf1 \n",
    "            d[0] = d[0] - d[1] * cf1\n",
    "\n",
    "            \n",
    "            cf2 = A[-1][-3] / A[-2][-3]\n",
    "            A[-1] = A[-1] - A[-2] * cf2\n",
    "            d[-1] = d[-1] - d[-2] * cf2\n",
    "\n",
    "            tr = Tridiagonal_Matrix_Algorithm(A, d)\n",
    "            u = tr.Ans()\n",
    "            _U.append(u)\n",
    "        return _U\n",
    "\n",
    "    def Combined(self, alph_0, alph_l, beta_0, beta_l, gamma_0, gamma_l, u_0, theta, T = 4, l = math.pi, n = 50):\n",
    "        h = l / n\n",
    "        tau =  self.crnt * h**2 / a\n",
    "        self.tau = tau\n",
    "        x = np.arange(0, math.pi, h)\n",
    "        self.x = x\n",
    "\n",
    "        u = [u_0(x) for x in x]\n",
    "        _U = [u]\n",
    "        t = 0\n",
    "        while (t < T):\n",
    "            t += tau\n",
    "\n",
    "            A = np.zeros((n, n))\n",
    "            d = np.zeros(n)\n",
    "\n",
    "            A[0][0] = -3 * alph_0 / (2*h) + beta_0\n",
    "            A[0][1] = 4 * alph_0 / (2 * h)\n",
    "            A[0][2] = -alph_0 / (2 * h)\n",
    "            d[0] = gamma_0(t)\n",
    "\n",
    "            A[-1][-3] = alph_l / (2 * h)\n",
    "            A[-1][-2] = -4 * alph_l / (2 * h)\n",
    "            A[-1][-1] = 3 * alph_l / (2*h) + beta_l\n",
    "            d[-1] = gamma_l(t)\n",
    "\n",
    "            i = 0\n",
    "            for row in A[1:-1]:\n",
    "                row[i] = a * tau * theta / h**2 - b * tau * theta / (2*h)\n",
    "                row[i + 1] = -1 - 2 * a * tau * theta / h**2 + c * tau * theta \n",
    "                row[i + 2] = a * tau * theta / h**2 + b * tau * theta / (2*h)\n",
    "                i += 1\n",
    "\n",
    "                d[i] = -_U[-1][i] - tau * (1 - theta) * ((_U[-1][i - 1] - 2 * _U[-1][i] + _U[-1][i + 1])/ h**2 + (_U[-1][i + 1] - _U[-1][i - 1]) / (2 * h) + c * _U[-1][i])\n",
    "                \n",
    "\n",
    "            cf1 = A[0][2] / A[1][2]\n",
    "            A[0] = A[0] - A[1] * cf1 \n",
    "            d[0] = d[0] - d[1] * cf1\n",
    "\n",
    "            \n",
    "            cf2 = A[-1][-3] / A[-2][-3]\n",
    "            A[-1] = A[-1] - A[-2] * cf2\n",
    "            d[-1] = d[-1] - d[-2] * cf2\n",
    "\n",
    "            tr = Tridiagonal_Matrix_Algorithm(A, d)\n",
    "            u = tr.Ans()\n",
    "            _U.append(u)\n",
    "        return _U\n",
    "\n",
    "    def Get_real_vals(self, f, appr_U):\n",
    "        U = []\n",
    "        for i, u_appr in enumerate(appr_U):\n",
    "            U.append([f(_x, self.tau * i) for _x in self.x])\n",
    "        return U\n",
    "\n",
    "    def Get_epx(self, U_appr, U_real):\n",
    "        eps = [max(abs(np.array(U_real[i]) - np.array(U_appr[i]))) for i in range(len(U_appr))]\n",
    "        return eps\n",
    "\n",
    "\n",
    "met_3T2P = Three_point_second_order(a, b, c, f)\n",
    "\n",
    "ex_U32_appr = met_3T2P.Explicit(alph_0, alph_l, beta_0, beta_l, gamma_0, gamma_l, u_0, T = 6)\n",
    "ex_U32_real = met_3T2P.Get_real_vals(U, ex_U32_appr)\n",
    "ex_eps32 = met_3T2P.Get_epx(ex_U32_appr, ex_U32_real)\n",
    "\n",
    "im_U32_appr = met_3T2P.Implicit(alph_0, alph_l, beta_0, beta_l, gamma_0, gamma_l, u_0, T = 6)\n",
    "im_U32_real = met_3T2P.Get_real_vals(U, im_U32_appr)\n",
    "im_eps32 = met_3T2P.Get_epx(im_U32_appr, im_U32_real)\n",
    "\n",
    "cmb_U32_appr = met_3T2P.Combined(alph_0, alph_l, beta_0, beta_l, gamma_0, gamma_l, u_0, theta = 1/4, T = 6)\n",
    "cmb_U32_real = met_3T2P.Get_real_vals(U, cmb_U32_appr)\n",
    "cmb_eps32 = met_3T2P.Get_epx(cmb_U32_appr, cmb_U32_real)\n",
    "\n",
    "\n",
    "data = []  \n",
    "data.append([[[met_3T2P.tau * i for i in range(len(ex_U32_appr))], ex_eps32, f' eps'], f'Explicit'])\n",
    "data.append([[[met_3T2P.tau * i for i in range(len(im_U32_appr))], im_eps32, f' eps'], f'Implicit'])\n",
    "data.append([[[met_3T2P.tau * i for i in range(len(cmb_U32_appr))], cmb_eps32, f' eps'], f'Combined'])\n",
    "\n",
    "Plot(len(data), data)"
   ]
  },
  {
   "cell_type": "code",
   "execution_count": 7,
   "metadata": {},
   "outputs": [
    {
     "data": {
      "application/vnd.jupyter.widget-view+json": {
       "model_id": "114ebd5cf69949ac8ae1f0dd468c07aa",
       "version_major": 2,
       "version_minor": 0
      },
      "text/plain": [
       "interactive(children=(IntSlider(value=0, description='i', max=5981), Output()), _dom_classes=('widget-interact…"
      ]
     },
     "metadata": {},
     "output_type": "display_data"
    }
   ],
   "source": [
    "%matplotlib inline\n",
    "\n",
    "U_real = [ex_U32_real, im_U32_real, cmb_U32_real]\n",
    "U_appr = [ex_U32_appr, im_U32_appr, cmb_U32_appr]\n",
    "\n",
    "def plot_met_3_2(i=0):\n",
    "    fig, subplots = plt.subplots(nrows=1, ncols = 3)\n",
    "    fig.set_figwidth(8 * 3)\n",
    "    fig.set_figheight(5)\n",
    "\n",
    "    labls = ['явный', 'неявный', 'комбинированный']\n",
    "\n",
    "    for j in range(3 if len(U_real) > 3 else len(U_real)):\n",
    "        fig.axes[j].plot(met_3T2P.x, U_real[j][i], 'g', label = 'real');\n",
    "        fig.axes[j].plot(met_3T2P.x, U_appr[j][i], 'b', label = '3Т2П ');\n",
    "        fig.axes[j].set_title(f\"{labls[j]} \\n t = {met_3T2P.tau * i}\")\n",
    "        fig.axes[j].legend()\n",
    "\n",
    "\n",
    "    plt.show();\n",
    "    \n",
    "interact(plot_met_3_2, i = (0, len(U_appr[0]) - 100, 1));"
   ]
  },
  {
   "cell_type": "markdown",
   "metadata": {},
   "source": [
    "# 2Т2П"
   ]
  },
  {
   "cell_type": "markdown",
   "metadata": {},
   "source": [
    "$$  u_1^{k + 1} = u_0^{k + 1} + u'_x(0, t ^{k + 1}) * h + ( \\frac{1}{a} * u'_t(0, t ^{k + 1}) - \\frac{b}{a}u'_x(0, t ^{k + 1}) - \\frac{c}{a}u_0^{k + 1} - \\frac{f(0, t^{k + 1})}{a} ) * \\frac{h^2}{2} $$  \n",
    "  \n",
    "$$ u'_t(0, t ^{k + 1}) = \\frac{u_0^{k + 1} - u_0^k}{\\tau} $$  \n",
    "  \n",
    "##### $$ u'_x(0, t ^{k + 1}) * (\\frac{h^2 b}{2a} - h) = u_0^{k + 1} * (1 - \\frac{h^2 c}{2a} + \\frac{h^2}{2\\tau a}) + u_0^{k} * (\\frac{- h^2}{2 \\tau a}) + \\frac{- f h^2}{2a} - u_1^{k+1}$$  \n",
    "  \n",
    "$$ u'_x(0, t ^{k + 1}) * A_3 = u_0^{k + 1} * A_0 + u_0^{k} * A_1 + A_2 - u_1^{k+1}$$  \n",
    "  \n",
    ".  \n",
    "  \n",
    "$$  u_{n - 1}^{k + 1} = u_n^{k + 1} + u'_x(l, t ^{k + 1}) *(- h) + ( \\frac{1}{a} * u'_t(l, t ^{k + 1}) - \\frac{b}{a}u'_x(l, t ^{k + 1}) - \\frac{c}{a}u_n^{k + 1} - \\frac{f(l, t^{k + 1})}{a} ) * \\frac{h^2}{2} $$  \n",
    "  \n",
    "$$ u'_t(l, t ^{k + 1}) = \\frac{u_n^{k + 1} - u_n^k}{\\tau} $$ \n",
    "\n",
    "##### $$ u'_x(l, t ^{k + 1}) * (\\frac{h^2 b}{2a} + h) = u_n^{k + 1} * (1 - \\frac{h^2 c}{2a} + \\frac{h^2}{2\\tau a}) + u_n^{k} * (\\frac{- h^2}{2 \\tau a}) + \\frac{- f h^2}{2a} - u_{n - 1}^{k+1}$$  \n",
    "\n",
    "$$ u'_x(l, t ^{k + 1}) * B_3 = u_n^{k + 1} * B_0 + u_n^{k} * B_1 + B_2 - u_{n - 1}^{k+1}$$  "
   ]
  },
  {
   "cell_type": "markdown",
   "metadata": {},
   "source": [
    "#### $$ u'_x(0, t ^{k + 1}) = \\frac{ u_0^{k + 1} A_0 + u_0^{k} A_1 + A_2 - u_1^{k+1} } {A_3} $$\n",
    "#### $$ u'_x(l, t ^{k + 1}) = \\frac{ u_n^{k + 1} B_0 + u_n^{k} B_1 + B_2 - u_{n - 1}^{k+1} } {B_3}$$"
   ]
  },
  {
   "cell_type": "markdown",
   "metadata": {},
   "source": [
    "### Явный "
   ]
  },
  {
   "cell_type": "markdown",
   "metadata": {},
   "source": [
    "$$ u_0^{k + 1} = \\frac{\\gamma_0(t^{k + 1}) A_3 + \\alpha_0 u_1^{k + 1} - \\alpha_0(A_1 u_0^k + A_2) }{A_3 \\beta_0 - \\alpha_0 A_0} $$\n",
    "\n",
    "$$  u_i^{k + 1} = \\frac{a \\tau}{h^2} (u_{i-1}^k - 2 u_{i}^k + u_{i+1}^k) + \\frac{b \\tau}{2h}(u_{i+1}^k - u_{i-1}^k) + \\tau c u_{i}^k + \\tau f + u_{i}^k$$\n",
    "\n",
    "$$ u_0^{k + 1} = \\frac{\\gamma_l(t^{k + 1}) B_3 + \\alpha_l u_{n - 1}^{k + 1} - \\alpha_l(B_1 u_0^k + B_2) }{B_3 \\beta_l - \\alpha_l B_0} $$"
   ]
  },
  {
   "cell_type": "markdown",
   "metadata": {},
   "source": [
    "### Неявный "
   ]
  },
  {
   "cell_type": "markdown",
   "metadata": {},
   "source": [
    "$$ u_0^{k + 1} * (\\frac{\\alpha_0 A_0}{A_3} + \\beta_0) + u_1^{k + 1} * (\\frac{-\\alpha_0}{A_3}) +  = \\gamma_0(t^{k + 1}) - \\frac{\\alpha_0 (A_1 u_0^k + A_2)}{A_3}$$\n",
    "\n",
    "$$ u_{i-1}^{k+1} * (\\frac{a\\tau \\theta}{h^2} - \\frac{b\\tau\\theta}{2h}) + u_{i}^{k+1} * (-1 - \\frac{2a\\tau\\theta}{h^2} + c\\tau\\theta) + u_{i}^{k+1} * (\\frac{a\\tau\\theta}{h^2} + \\frac{b\\tau\\theta}{2h}) = - u_i^k - \\theta \\tau f(x, t^{k + 1}) - \\tau(1 - \\theta)(a * \\frac{u_{i-1}^k - 2 u_i^k + u_{i + 1} ^ k}{h^2} + b * \\frac{u_{i+1}^k - u_{i - 1}^k}{2h} + cu_i^k + f(x, t^k))  $$\n",
    "\n",
    "$$ u_{n - 1}^{k + 1} * (\\frac{- \\alpha_l}{B_3}) + u_n^{k + 1} * (\\frac{\\alpha_l B_0}{B_3} + \\beta_l) = \\gamma_l(t^{k + 1}) - \\frac{\\alpha_l (B_1 u_n^k + B_2)}{B_3}$$"
   ]
  },
  {
   "cell_type": "code",
   "execution_count": null,
   "metadata": {},
   "outputs": [
    {
     "data": {
      "image/png": "[encoded data removed]",
      "text/plain": [
       "<Figure size 1728x288 with 3 Axes>"
      ]
     },
     "metadata": {
      "needs_background": "light"
     },
     "output_type": "display_data"
    }
   ],
   "source": [
    "class Two_point_second_order:\n",
    "    def __init__(self, a, b, c, f, crnt = 1/4):\n",
    "        self.a = a\n",
    "        self.b = b\n",
    "        self.c = c\n",
    "        self.f = f\n",
    "        self.crnt = crnt\n",
    "    \n",
    "    def Explicit(self, alph_0, alph_l, beta_0, beta_l, gamma_0, gamma_l, u_0, T = 4, l = math.pi, n = 50):\n",
    "        h = l / n\n",
    "        tau =  self.crnt * h**2 / a\n",
    "        self.tau = tau\n",
    "        x = np.arange(0, math.pi, h)\n",
    "        self.x = x\n",
    "\n",
    "        u = [u_0(x) for x in x]\n",
    "        _U = [u]\n",
    "        t = 0\n",
    "\n",
    "        A0 = 1 - h**2 * c / (2 * a) + h**2 / (2 * tau * a)\n",
    "        A1 = - h**2 / (2 * tau * a)\n",
    "        A2 = 0\n",
    "        A3 = h**2 * b / (2 * a) - h\n",
    "\n",
    "        B0 = A0\n",
    "        B1 = A1\n",
    "        B2 = 0\n",
    "        B3 = h**2 * b / (2 * a) + h\n",
    "\n",
    "        while (t < T):\n",
    "            t += tau\n",
    "            _u = np.zeros(len(u))\n",
    "            u_k = _U[-1]\n",
    "            for i in range(1, len(_u) - 1):\n",
    "                _u[i] = (a * tau / h**2) * (u_k[i-1] - 2 * u_k[i] + u_k[i+1]) + (b * tau / (2 * h)) * (u_k[i+1] - u_k[i-1]) + tau * c * u_k[i] + u_k[i]   \n",
    "            _u[0] = (gamma_0(t) * A3 + alph_0 * _u[1] - alph_0 * (A1 * _U[-1][0] + A2) ) / (A3 * beta_0 + alph_0 * A0)\n",
    "            _u[-1] = (gamma_l(t) * B3 + alph_l * _u[-2] - alph_l * (B1 * _U[-1][-1] + B2) ) / (B3 * beta_l + alph_l * B0)\n",
    "            _U.append(_u)\n",
    "\n",
    "        return _U\n",
    "    \n",
    "    def Implicit(self, alph_0, alph_l, beta_0, beta_l, gamma_0, gamma_l, u_0, T = 4, l = math.pi, n = 50):\n",
    "        h = l / n\n",
    "        tau =  self.crnt * h**2 / a\n",
    "        self.tau = tau\n",
    "        x = np.arange(0, math.pi, h)\n",
    "        self.x = x\n",
    "\n",
    "        u = [u_0(x) for x in x]\n",
    "        _U = [u]\n",
    "        t = 0\n",
    "\n",
    "        A0 = 1 - h**2 * c / (2 * a) + h**2 / (2 * tau * a)\n",
    "        A1 = - h**2 / (2 * tau * a)\n",
    "        A2 = 0\n",
    "        A3 = h**2 * b / (2 * a) - h\n",
    "\n",
    "        B0 = A0\n",
    "        B1 = A1\n",
    "        B2 = 0\n",
    "        B3 = h**2 * b / (2 * a) + h\n",
    "\n",
    "        while (t < T):\n",
    "            t += tau\n",
    "\n",
    "            A = np.zeros((n, n))\n",
    "            d = np.zeros(n)\n",
    "\n",
    "            A[0][0] = alph_0 * A0 / A3 + beta_0\n",
    "            A[0][1] = - alph_0 / A3\n",
    "            d[0] = gamma_0(t) - alph_0 * (A1 * _U[-1][0] + A2) / A3\n",
    "            \n",
    "            A[-1][-2] = - alph_l /  B3\n",
    "            A[-1][-1] = alph_l * B0 / B3 + beta_l\n",
    "            d[-1] = gamma_l(t) - alph_l * (B1 * _U[-1][-1] + B2) / B3\n",
    "\n",
    "            i = 0\n",
    "            for row in A[1:-1]:\n",
    "                row[i] = a * tau / h**2 - b * tau / (2*h)\n",
    "                row[i + 1] = -1 - 2*a*tau / h**2 + c * tau \n",
    "                row[i + 2] = a * tau / h**2 + b * tau / (2*h)\n",
    "                i += 1\n",
    "\n",
    "                d[i] = -_U[-1][i]\n",
    "                \n",
    "            tr = Tridiagonal_Matrix_Algorithm(A, d)\n",
    "            u = tr.Ans()\n",
    "            _U.append(u)\n",
    "        return _U\n",
    "\n",
    "    def Combined(self, alph_0, alph_l, beta_0, beta_l, gamma_0, gamma_l, u_0, theta, T = 4, l = math.pi, n = 50):\n",
    "        h = l / n\n",
    "        tau =  self.crnt * h**2 / a\n",
    "        self.tau = tau\n",
    "        x = np.arange(0, math.pi, h)\n",
    "        self.x = x\n",
    "\n",
    "        u = [u_0(x) for x in x]\n",
    "        _U = [u]\n",
    "        t = 0\n",
    "\n",
    "        A0 = 1 - h**2 * c / (2 * a) + h**2 / (2 * tau * a)\n",
    "        A1 = - h**2 / (2 * tau * a)\n",
    "        A2 = 0\n",
    "        A3 = h**2 * b / (2 * a) - h\n",
    "\n",
    "        B0 = A0\n",
    "        B1 = A1\n",
    "        B2 = 0\n",
    "        B3 = h**2 * b / (2 * a) + h\n",
    "\n",
    "        while (t < T):\n",
    "            t += tau\n",
    "\n",
    "            A = np.zeros((n, n))\n",
    "            d = np.zeros(n)\n",
    "\n",
    "            A[0][0] = alph_0 * A0 / A3 + beta_0\n",
    "            A[0][1] = - alph_0 / A3\n",
    "            d[0] = gamma_0(t) - alph_0 * (A1 * _U[-1][0] + A2) / A3\n",
    "            \n",
    "            A[-1][-2] = - alph_l /  B3\n",
    "            A[-1][-1] = alph_l * B0 / B3 + beta_l\n",
    "            d[-1] = gamma_l(t) - alph_l * (B1 * _U[-1][-1] + B2) / B3\n",
    "\n",
    "            i = 0\n",
    "            for row in A[1:-1]:\n",
    "                row[i] = a * tau * theta / h**2 - b * tau * theta / (2*h)\n",
    "                row[i + 1] = -1 - 2 * a * tau * theta / h**2 + c * tau * theta \n",
    "                row[i + 2] = a * tau * theta / h**2 + b * tau * theta / (2*h)\n",
    "                i += 1\n",
    "\n",
    "                d[i] = -_U[-1][i] - tau * (1 - theta) * ((_U[-1][i - 1] - 2 * _U[-1][i] + _U[-1][i + 1])/ h**2 + (_U[-1][i + 1] - _U[-1][i - 1]) / (2 * h) + c * _U[-1][i])\n",
    "                \n",
    "            tr = Tridiagonal_Matrix_Algorithm(A, d)\n",
    "            u = tr.Ans()\n",
    "            _U.append(u)\n",
    "        return _U\n",
    "\n",
    "    def Get_real_vals(self, f, appr_U):\n",
    "        U = []\n",
    "        for i, u_appr in enumerate(appr_U):\n",
    "            U.append([f(_x, self.tau * i) for _x in self.x])\n",
    "        return U\n",
    "\n",
    "    def Get_epx(self, U_appr, U_real):\n",
    "        eps = [max(abs(np.array(U_real[i]) - np.array(U_appr[i]))) for i in range(len(U_appr))]\n",
    "        return eps\n",
    "\n",
    "met_2T2P = Two_point_second_order(a, b, c, f)\n",
    "\n",
    "ex_U22_appr = met_2T2P.Explicit(alph_0, alph_l, beta_0, beta_l, gamma_0, gamma_l, u_0, T = 6)\n",
    "ex_U22_real = met_2T2P.Get_real_vals(U, ex_U22_appr)\n",
    "ex_eps22 = met_2T2P.Get_epx(ex_U22_appr, ex_U22_real)\n",
    "\n",
    "im_U22_appr = met_2T2P.Implicit(alph_0, alph_l, beta_0, beta_l, gamma_0, gamma_l, u_0, T = 6)\n",
    "im_U22_real = met_2T2P.Get_real_vals(U, im_U22_appr)\n",
    "im_eps22 = met_2T2P.Get_epx(im_U22_appr, im_U22_real)\n",
    "\n",
    "cmb_U22_appr = met_2T2P.Combined(alph_0, alph_l, beta_0, beta_l, gamma_0, gamma_l, u_0, theta = 1/4, T = 6)\n",
    "cmb_U22_real = met_2T2P.Get_real_vals(U, cmb_U22_appr)\n",
    "cmb_eps22 = met_2T2P.Get_epx(cmb_U22_appr, cmb_U22_real)\n",
    "\n",
    "\n",
    "data = []  \n",
    "data.append([[[met_2T2P.tau * i for i in range(len(ex_U22_appr))], ex_eps22, f' eps'], f'Explicit'])\n",
    "data.append([[[met_2T2P.tau * i for i in range(len(im_U22_appr))], im_eps22, f' eps'], f'Implicit'])\n",
    "data.append([[[met_2T2P.tau * i for i in range(len(im_U22_appr))], cmb_eps22, f' eps'], f'Combined'])\n",
    "\n",
    "Plot(len(data), data)"
   ]
  },
  {
   "cell_type": "code",
   "execution_count": null,
   "metadata": {},
   "outputs": [
    {
     "data": {
      "application/vnd.jupyter.widget-view+json": {
       "model_id": "3a966d43b6744169909de8887aa329aa",
       "version_major": 2,
       "version_minor": 0
      },
      "text/plain": [
       "interactive(children=(IntSlider(value=0, description='i', max=5981), Output()), _dom_classes=('widget-interact…"
      ]
     },
     "metadata": {},
     "output_type": "display_data"
    }
   ],
   "source": [
    "%matplotlib inline\n",
    "\n",
    "U_real = [ex_U22_real, im_U22_real, cmb_U22_real]\n",
    "U_appr = [ex_U22_appr, im_U22_appr, cmb_U22_appr]\n",
    "def plot_met_2_2(i=0):\n",
    "    fig, subplots = plt.subplots(nrows=1, ncols = 3)\n",
    "    fig.set_figwidth(8 * 3)\n",
    "    fig.set_figheight(5)\n",
    "\n",
    "    labls = ['явный', 'неявный', 'комбинированный']\n",
    "\n",
    "    for j in range(3 if len(U_real) > 3 else len(U_real)):\n",
    "        fig.axes[j].plot(met_2T2P.x, U_real[j][i], 'g', label = 'real');\n",
    "        fig.axes[j].plot(met_2T2P.x, U_appr[j][i], 'b', label = '2Т2П ');\n",
    "        fig.axes[j].set_title(f\"{labls[j]} \\n t = {met_2T2P.tau * i}\")\n",
    "        fig.axes[j].legend()\n",
    "\n",
    "\n",
    "    plt.show();\n",
    "    \n",
    "interact(plot_met_2_2, i = (0, len(U_appr[0]) - 100, 1));"
   ]
  },
  {
   "cell_type": "code",
   "execution_count": null,
   "metadata": {},
   "outputs": [],
   "source": []
  }
 ],
 "metadata": {
  "kernelspec": {
   "display_name": "Python 3",
   "language": "python",
   "name": "python3"
  },
  "language_info": {
   "codemirror_mode": {
    "name": "ipython",
    "version": 3
   },
   "file_extension": ".py",
   "mimetype": "text/x-python",
   "name": "python",
   "nbconvert_exporter": "python",
   "pygments_lexer": "ipython3",
   "version": "3.8.2"
  },
  "orig_nbformat": 4,
  "vscode": {
   "interpreter": {
    "hash": "752579dbebe7f4dfe7c1aa72eac13e23fc88be2cc1ea7ab14e1f8d69b2d97d12"
   }
  }
 },
 "nbformat": 4,
 "nbformat_minor": 2
}
