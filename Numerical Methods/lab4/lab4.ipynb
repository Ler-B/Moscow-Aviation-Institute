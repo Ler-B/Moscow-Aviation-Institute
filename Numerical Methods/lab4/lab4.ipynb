{
 "cells": [
  {
   "cell_type": "markdown",
   "metadata": {},
   "source": [
    "# Лабораторная работа 4\n",
    "Вариант 3 \n",
    "\n",
    "Сутдент: Будникова Валерия Павловна \n",
    "\n",
    "группа: М8О-307Б-19  "
   ]
  },
  {
   "cell_type": "markdown",
   "metadata": {},
   "source": [
    "### Часть 4_1"
   ]
  },
  {
   "cell_type": "code",
   "execution_count": 7,
   "metadata": {},
   "outputs": [],
   "source": [
    "def Plot2(Xi, Yi, X, Y, t1 = ''):\n",
    "    fig = plt.figure(figsize= (6, 6))\n",
    "    plt.scatter(Xi, Yi, c = 'r')\n",
    "    plt.plot(Xi, Yi, c = 'r')\n",
    "    plt.plot(X, Y, c = 'b')\n",
    "    plt.plot(Xi, Yi, c = 'r')\n",
    "    plt.title(t1)\n",
    "    plt.show()"
   ]
  },
  {
   "cell_type": "code",
   "execution_count": 5,
   "metadata": {},
   "outputs": [],
   "source": [
    "def RungeRombergMethod(Met, h, r, p):\n",
    "    if (r >= 1):\n",
    "        return np.abs((Met.Get(h)[::r] - Met.Get(h * r)) / (r ** p - 1)).tolist()\n",
    "    else :\n",
    "        return np.abs((Met.Get(h) - Met.Get(h * r)[::int(1/r)]) / (r ** p - 1)).tolist()"
   ]
  },
  {
   "cell_type": "markdown",
   "metadata": {},
   "source": [
    "#### Задание: \n",
    "Реализовать методы Эйлера, Рунге-Кутты и Адамса 4-го порядка в виде программ, задавая в качестве входных данных шаг сетки h. С использованием разработанного программного обеспечения решить задачу Коши для ОДУ 2-го порядка на указанном отрезке. Оценить погрешность численного решения с использованием метода Рунге – Ромберга и путем сравнения с точным решением. \n",
    "\n",
    "| Краевая задача | Точное решение |\n",
    "|:------:|:------:|\n",
    "|$$ y'' - 2y - 4x^2e^{x^2} = 0 \\\\ y(0) = 3 \\\\ y'(0) = 0 \\\\ x \\in [0, 1] \\\\ h = 0.1 $$|$$ y = e^{x^2} + e^{x\\sqrt{2}} + e^{-x\\sqrt{2}} $$|\n"
   ]
  },
  {
   "cell_type": "markdown",
   "metadata": {},
   "source": [
    "$$ \n",
    "y' = z \\\\\n",
    "z'= 2y + 4x^2e^{x^2} \\\\ \n",
    "y(0) = 3 \\\\\n",
    "z(0) = 0\n",
    "$$"
   ]
  },
  {
   "cell_type": "markdown",
   "metadata": {},
   "source": [
    "Метод Эйлера"
   ]
  },
  {
   "cell_type": "markdown",
   "metadata": {},
   "source": [
    "$$ \n",
    "y' = z \\\\\n",
    "y(0) = 3 \\\\\n",
    "z'= 2y + 4x^2e^{x^2} \\\\ \n",
    "z(0) = 0\n",
    "$$"
   ]
  },
  {
   "cell_type": "code",
   "execution_count": 3,
   "metadata": {},
   "outputs": [],
   "source": [
    "h = 0.1\n",
    "\n",
    "f = lambda x: math.exp(x**2) + math.exp(x * math.sqrt(2)) + math.exp(-x * math.sqrt(2))\n",
    "\n",
    "dy = lambda x, y, z: z\n",
    "dz = lambda x, y, z: 2*y + x**2 * 4 * math.exp(x**2)\n",
    "dy1 = lambda x, y, z: z\n",
    "dz1 = lambda x, y, z: 2*y + x**2 * 4 * math.exp(x**2)"
   ]
  },
  {
   "cell_type": "code",
   "execution_count": 16,
   "metadata": {},
   "outputs": [
    {
     "name": "stdout",
     "output_type": "stream",
     "text": [
      "y = 3.00000 \t Euler_y = 3.00000 \t\t RungeRomberg: 0.00000\t Локальная погрешность: 0.00000\n",
      "y = 3.19080 \t Euler_y = 3.18750 \t\t RungeRomberg: 0.00345\t Локальная погрешность: 0.20120\n",
      "y = 3.80521 \t Euler_y = 3.77835 \t\t RungeRomberg: 0.03670\t Локальная погрешность: 0.25638\n",
      "y = 4.98956 \t Euler_y = 4.90878 \t\t RungeRomberg: 0.11377\t Локальная погрешность: 0.37896\n",
      "y = 7.07465 \t Euler_y = 6.88234 \t\t RungeRomberg: 0.27335\t Локальная погрешность: 0.63594\n",
      "\n",
      "Погрешность решения:  0.21033605921419316\n"
     ]
    },
    {
     "data": {
      "image/png": "[encoded data removed]",
      "text/plain": [
       "<Figure size 432x432 with 1 Axes>"
      ]
     },
     "metadata": {
      "needs_background": "light"
     },
     "output_type": "display_data"
    }
   ],
   "source": [
    "class Euler:\n",
    "    def __init__(self, x0, y0, z0, finish):\n",
    "        self.x0 = x0\n",
    "        self.y0 = y0\n",
    "        self.z0 = z0\n",
    "        self.finish = finish\n",
    "\n",
    "    def Get(self, h):\n",
    "        xk = self.x0\n",
    "        yk = self.y0\n",
    "        zk = self.z0\n",
    "\n",
    "        self.Yk = [self.y0]\n",
    "        self.Zk = [self.z0]\n",
    "        self.Xk = [self.x0]\n",
    "        \n",
    "        self.eps_loc = [0]\n",
    "        \n",
    "        while not math.isclose(xk, self.finish):\n",
    "            z_predictor = zk + h * dz(xk, yk, zk)\n",
    "            y_predictor = yk + h * dy(xk, yk, zk)\n",
    "\n",
    "            z_corrector = zk + h * (dz(xk, yk, zk) + dz(xk + h, y_predictor, z_predictor)) / 2\n",
    "            y_corrector = yk + h * (dy(xk, zk, zk) + dy(xk + h, y_predictor, z_predictor)) / 2\n",
    "\n",
    "\n",
    "            self.eps_loc.append(h**2 * dz(xk + h/2, y_corrector, z_corrector) / 2)\n",
    "\n",
    "            xk += h\n",
    "            yk = y_corrector\n",
    "            zk = z_corrector\n",
    "\n",
    "            self.Yk.append(yk)\n",
    "            self.Zk.append(zk)\n",
    "            self.Xk.append(xk)\n",
    "\n",
    "        return np.array(self.Yk)\n",
    "        \n",
    "    def Get_True_Val(self, f, h):\n",
    "        xk = self.x0\n",
    "        Val = [self.y0]\n",
    "        while not math.isclose(xk, self.finish):\n",
    "            xk += h\n",
    "            Val.append(f(xk))\n",
    "        return Val\n",
    "\n",
    "x0 = 0.0\n",
    "y0 = 3.0\n",
    "z0 = 0.0\n",
    "el = Euler(x0, y0, z0, 1)\n",
    "\n",
    "h = 0.25\n",
    "rrm = RungeRombergMethod(el, h, 1/2, 1)\n",
    "\n",
    "el_ans = el.Get(h)\n",
    "true_ans = el.Get_True_Val(f, h)\n",
    "\n",
    "for i in range(len(el_ans)):\n",
    "    print(f\"y = {true_ans[i]:.5f} \\t Euler_y = {el_ans[i]:.5f} \\t\"+ \n",
    "            f\"\\t RungeRomberg: {rrm[i]:.5f}\"  +\n",
    "            f\"\\t Локальная погрешность: {el.eps_loc[i]:.5f}\")\n",
    "\n",
    "eps_h = math.sqrt(np.sum(np.square(el_ans - true_ans)))\n",
    "\n",
    "print(\"\\nПогрешность решения: \", eps_h)\n",
    "\n",
    "\n",
    "el_ans = el.Get(h)\n",
    "X_ = np.linspace(0,  1, num=100)\n",
    "Y_ = [f(x) for x in X_]\n",
    "Plot2(el.Xk, el_ans, X_, Y_)"
   ]
  },
  {
   "cell_type": "code",
   "execution_count": 90,
   "metadata": {},
   "outputs": [
    {
     "name": "stdout",
     "output_type": "stream",
     "text": [
      "y = 3.00000 \t RungeKutta_y = 3.00000 \t\t RungeRomberg: 0.00000\n",
      "y = 3.03008 \t RungeKutta_y = 3.03008 \t\t RungeRomberg: 0.00000\n",
      "y = 3.12135 \t RungeKutta_y = 3.12134 \t\t RungeRomberg: 0.00000\n",
      "y = 3.27689 \t RungeKutta_y = 3.27689 \t\t RungeRomberg: 0.00000\n",
      "y = 3.50214 \t RungeKutta_y = 3.50213 \t\t RungeRomberg: 0.00000\n",
      "y = 3.80521 \t RungeKutta_y = 3.80520 \t\t RungeRomberg: 0.00001\n",
      "y = 4.19758 \t RungeKutta_y = 4.19757 \t\t RungeRomberg: 0.00001\n",
      "y = 4.69501 \t RungeKutta_y = 4.69499 \t\t RungeRomberg: 0.00002\n",
      "y = 5.31897 \t RungeKutta_y = 5.31895 \t\t RungeRomberg: 0.00003\n",
      "y = 6.09877 \t RungeKutta_y = 6.09873 \t\t RungeRomberg: 0.00004\n",
      "y = 7.07465 \t RungeKutta_y = 7.07459 \t\t RungeRomberg: 0.00006\n",
      "\n",
      "Погрешность решения:  7.967105337097549e-05\n"
     ]
    },
    {
     "data": {
      "image/png": "[encoded data removed]",
      "text/plain": [
       "<Figure size 432x432 with 1 Axes>"
      ]
     },
     "metadata": {
      "needs_background": "light"
     },
     "output_type": "display_data"
    }
   ],
   "source": [
    "class RungeKutta:\n",
    "    def __init__(self, x0, y0, z0, finish):\n",
    "        self.x0 = x0\n",
    "        self.y0 = y0\n",
    "        self.z0 = z0\n",
    "        self.finish = finish\n",
    "\n",
    "    def Get(self, h, dz = dz1, dy = dy1):\n",
    "        xk = self.x0\n",
    "        yk = self.y0\n",
    "        zk = self.z0\n",
    "\n",
    "        self.Yk = [y0]\n",
    "        self.Xk = [x0]\n",
    "        self.Zk = [z0]\n",
    "        \n",
    "        while not math.isclose(xk, self.finish):\n",
    "            L1 = h * dz(xk, yk, zk)\n",
    "            K1 = h * dy(xk, yk, zk)\n",
    "\n",
    "            L2 = h * dz(xk + h / 2, yk + K1 / 2, zk + L1 / 2)\n",
    "            K2 = h * dy(xk + h / 2, yk + K1 / 2, zk + L1 / 2)\n",
    "            \n",
    "\n",
    "            L3 = h * dz(xk + h / 2, yk + K2 / 2, zk + L2 / 2)\n",
    "            K3 = h * dy(xk + h / 2, yk + K2 / 2, zk + L2 / 2)\n",
    "\n",
    "            L4 = h * dz(xk + h, yk + K3, zk + L3)\n",
    "            K4 = h * dy(xk + h, yk + K3, zk + L3)\n",
    "\n",
    "            delt_y = (K1 + 2 * K2 + 2 * K3 + K4) / 6\n",
    "            delt_z = (L1 + 2 * L2 + 2 * L3 + L4) / 6\n",
    "\n",
    "            z = zk + delt_z\n",
    "            y = yk + delt_y\n",
    "\n",
    "            xk += h\n",
    "            yk = y\n",
    "            zk = z\n",
    "\n",
    "\n",
    "            self.Xk.append(xk)\n",
    "            self.Yk.append(yk)\n",
    "            self.Zk.append(zk)\n",
    "\n",
    "        return np.array(self.Yk)\n",
    "        \n",
    "    def Get_True_Val(self, f, h):\n",
    "        xk = self.x0\n",
    "        Val = [self.y0]\n",
    "        while not math.isclose(xk, self.finish):\n",
    "            xk += h\n",
    "            Val.append(f(xk))\n",
    "        return Val\n",
    "\n",
    "x0 = 0.0\n",
    "y0 = 3.0\n",
    "z0 = 0.0\n",
    "\n",
    "rk = RungeKutta(x0, y0, z0, 1)\n",
    "\n",
    "rrm = RungeRombergMethod(rk, h, 1/2, 4)\n",
    "rk_ans = rk.Get(h)\n",
    "true_ans = rk.Get_True_Val(f, h)\n",
    "\n",
    "for i in range(len(rk_ans)):\n",
    "     print(f\"y = {true_ans[i]:.5f} \\t RungeKutta_y = {rk_ans[i]:.5f} \\t\"+ \n",
    "            f\"\\t RungeRomberg: {rrm[i]:.5f}\") \n",
    "\n",
    "eps_h = math.sqrt(np.sum(np.square(rk_ans - true_ans)))\n",
    "\n",
    "print(\"\\nПогрешность решения: \", eps_h)\n",
    "\n",
    "rk_ans = rk.Get(h)\n",
    "X_ = np.linspace(0,  1, num=100)\n",
    "Y_ = [f(x) for x in X_]\n",
    "Plot2(rk.Xk, rk_ans, X_, Y_)"
   ]
  },
  {
   "cell_type": "markdown",
   "metadata": {},
   "source": [
    "Метод Адамса"
   ]
  },
  {
   "cell_type": "code",
   "execution_count": 91,
   "metadata": {},
   "outputs": [
    {
     "name": "stdout",
     "output_type": "stream",
     "text": [
      "y = 3.00000 \t Adams_y = 3.00000 \t\t RungeRomberg: 0.00000\n",
      "y = 3.03008 \t Adams_y = 3.03008 \t\t RungeRomberg: 0.00000\n",
      "y = 3.12135 \t Adams_y = 3.12134 \t\t RungeRomberg: 0.00000\n",
      "y = 3.27689 \t Adams_y = 3.27689 \t\t RungeRomberg: 0.00091\n",
      "y = 3.50214 \t Adams_y = 3.50212 \t\t RungeRomberg: 0.00359\n",
      "y = 3.80521 \t Adams_y = 3.80800 \t\t RungeRomberg: 0.00337\n",
      "y = 4.19758 \t Adams_y = 4.20693 \t\t RungeRomberg: 0.00028\n",
      "y = 4.69501 \t Adams_y = 4.71657 \t\t RungeRomberg: 0.00912\n",
      "y = 5.31897 \t Adams_y = 5.36112 \t\t RungeRomberg: 0.02574\n",
      "y = 6.09877 \t Adams_y = 6.17395 \t\t RungeRomberg: 0.05393\n",
      "y = 7.07465 \t Adams_y = 7.20143 \t\t RungeRomberg: 0.09940\n",
      "\n",
      "Погрешность решения:  0.15512138061344175\n"
     ]
    },
    {
     "data": {
      "image/png": "[encoded data removed]",
      "text/plain": [
       "<Figure size 432x432 with 1 Axes>"
      ]
     },
     "metadata": {
      "needs_background": "light"
     },
     "output_type": "display_data"
    }
   ],
   "source": [
    "class Adams:\n",
    "    def __init__(self, x0, y0, z0, finish):\n",
    "        self.x0 = x0\n",
    "        self.y0 = y0\n",
    "        self.z0 = z0\n",
    "        self.rk = RungeKutta(x0, y0, x0, 1)\n",
    "        self.finish = finish\n",
    "        \n",
    "    def Get(self, h):\n",
    "        xk = self.x0\n",
    "        \n",
    "        self.Yk = rk.Get(h)[:4].tolist()\n",
    "        self.Xk = rk.Xk[:4]\n",
    "        self.Zk = rk.Zk[:4]\n",
    "        \n",
    "        xk += 3*h\n",
    "        while not math.isclose(xk, self.finish):\n",
    "            z_predictor = self.Zk[-1] + h * (55 * dz(self.Xk[-1], self.Yk[-1], self.Zk[-1]) - \n",
    "                                             59 * dz(self.Xk[-2], self.Yk[-2], self.Zk[-2]) + \n",
    "                                             37 * dz(self.Xk[-3], self.Yk[-3], self.Zk[-3]) - \n",
    "                                             9  * dz(self.Xk[-4], self.Yk[-4], self.Zk[-4])) / 24\n",
    "            \n",
    "            y_predictor = self.Yk[-1] + h * (55 * dy(self.Xk[-1], self.Yk[-1], self.Zk[-1]) - \n",
    "                                             59 * dy(self.Xk[-2], self.Yk[-2], self.Zk[-2]) + \n",
    "                                             37 * dy(self.Xk[-3], self.Yk[-3], self.Zk[-3]) - \n",
    "                                             9  * dy(self.Xk[-4], self.Yk[-4], self.Zk[-4])) / 24\n",
    "            \n",
    "\n",
    "            z_corrector = self.Zk[-1] + h * (9 * dz(xk + h, y_predictor, z_predictor) + \n",
    "\t\t                                    19 * dz(self.Xk[-1] + h, self.Yk[-1], self.Zk[-1]) - \n",
    "\t\t                                    5  * dz(self.Xk[-2] + h, self.Yk[-2], self.Zk[-2]) + \n",
    "\t\t                                         dz(self.Xk[-3] + h, self.Yk[-3], self.Zk[-3])) / 24\n",
    "            \n",
    "            y_corrector = self.Yk[-1] + h * (9 * dy(xk + h, y_predictor, z_predictor) + \n",
    "\t\t                           19 * dy(self.Xk[-1] + h, self.Yk[-1], self.Zk[-1]) - \n",
    "\t\t                           5  * dy(self.Xk[-2] + h, self.Yk[-2], self.Zk[-2]) + \n",
    "\t\t                                dy(self.Xk[-3] + h, self.Yk[-3], self.Zk[-3])) / 24\n",
    "\n",
    "\n",
    "            xk += h\n",
    "\n",
    "            self.Xk.append(xk)\n",
    "            self.Yk.append(y_corrector)\n",
    "            self.Zk.append(z_corrector)\n",
    "\n",
    "        return np.array(self.Yk)\n",
    "        \n",
    "    def Get_True_Val(self, f, h):\n",
    "        xk = self.x0\n",
    "        Val = [self.y0]\n",
    "        while not math.isclose(xk, self.finish):\n",
    "            xk += h\n",
    "            Val.append(f(xk))\n",
    "        return Val\n",
    "\n",
    "x0 = 0.0\n",
    "y0 = 3.0\n",
    "z0 = 0.0\n",
    "\n",
    "ad  = Adams(x0, y0, z0, 1)\n",
    "\n",
    "rrm = RungeRombergMethod(ad, h, 1/2, 1)\n",
    "ad_ans = ad.Get(h)\n",
    "true_ans = ad.Get_True_Val(f, h)\n",
    "\n",
    "for i in range(len(ad_ans)):\n",
    "    print(f\"y = {true_ans[i]:.5f} \\t Adams_y = {ad_ans[i]:.5f} \\t\"+ \n",
    "            f\"\\t RungeRomberg: {rrm[i]:.5f}\")\n",
    "\n",
    "eps_h = math.sqrt(np.sum(np.square(ad_ans - true_ans)))\n",
    "\n",
    "print(\"\\nПогрешность решения: \", eps_h)\n",
    "\n",
    "ad_ans = ad.Get(h)\n",
    "X_ = np.linspace(0,  1, num=100)\n",
    "Y_ = [f(x) for x in X_]\n",
    "Plot2(ad.Xk, ad_ans, X_, Y_)"
   ]
  },
  {
   "cell_type": "markdown",
   "metadata": {},
   "source": [
    "### Часть 4_2"
   ]
  },
  {
   "cell_type": "markdown",
   "metadata": {},
   "source": [
    "#### Задание: \n",
    "Реализовать метод стрельбы и конечно-разностный метод решения краевой задачи для ОДУ в виде программ. С использованием разработанного программного обеспечения решить краевую задачу для обыкновенного дифференциального уравнения 2-го порядка на указанном отрезке. Оценить погрешность численного решения с использованием метода Рунге – Ромберга и путем сравнения с точным решением.  \n",
    "\n",
    "| Задача Коши | Точное решение |\n",
    "|:------:|:------:|\n",
    "|$$ x^2(x + 1)y'' - 2y  = 0 \\\\ y'(1) = -1 \\\\ 2y(2) - 4y'(2)=4 $$| $$ y(x) = \\frac{1}{x} + 1$$|\n"
   ]
  },
  {
   "cell_type": "markdown",
   "metadata": {},
   "source": [
    "$$\n",
    "z = y' \\\\\n",
    "z' = \\frac{2y}{x^2(x + 1)} \\\\\n",
    "z(1) = -1 \\\\\n",
    "z(2) = \\frac{2y(2) - 4}{4}\n",
    "$$"
   ]
  },
  {
   "cell_type": "code",
   "execution_count": 92,
   "metadata": {},
   "outputs": [],
   "source": [
    "def Plot2(Xi, Yi, X, Y, t1 = ''):\n",
    "    fig = plt.figure(figsize= (6, 6))\n",
    "    plt.scatter(Xi, Yi, c = 'r')\n",
    "    plt.plot(X, Y, c = 'b')\n",
    "    plt.title(t1)\n",
    "    plt.show()"
   ]
  },
  {
   "cell_type": "code",
   "execution_count": 93,
   "metadata": {},
   "outputs": [],
   "source": [
    "def RungeRombergMethod(Met, dz, dy, h, r, p):\n",
    "    if (r >= 1):\n",
    "        return np.max(np.abs((Met.Get(h, dz, dy)[::r] - Met.Get(h * r, dz, dy)) / (r ** p - 1)).tolist())\n",
    "    else :\n",
    "        return np.max(np.abs((Met.Get(h, dz, dy) - Met.Get(h * r, dz, dy)[::int(1/r)]) / (r ** p - 1)).tolist())"
   ]
  },
  {
   "cell_type": "code",
   "execution_count": 94,
   "metadata": {},
   "outputs": [],
   "source": [
    "class RungeKutta:\n",
    "    def __init__(self, x0, y0, z0, finish):\n",
    "        self.x0 = x0\n",
    "        self.y0 = y0\n",
    "        self.z0 = z0\n",
    "        self.finish = finish\n",
    "\n",
    "    def Get(self, h, dz = dz1, dy = dy1):\n",
    "        xk = self.x0\n",
    "        yk = self.y0\n",
    "        zk = self.z0\n",
    "\n",
    "        self.Yk = [self.y0]\n",
    "        self.Xk = [self.x0]\n",
    "        self.Zk = [self.z0]\n",
    "        \n",
    "        while abs(xk - self.finish) > abs(h) / 10:\n",
    "            L1 = h * dz(xk, yk, zk)\n",
    "            K1 = h * dy(xk, yk, zk)\n",
    "\n",
    "            L2 = h * dz(xk + h / 2, yk + K1 / 2, zk + L1 / 2)\n",
    "            K2 = h * dy(xk + h / 2, yk + K1 / 2, zk + L1 / 2)\n",
    "            \n",
    "\n",
    "            L3 = h * dz(xk + h / 2, yk + K2 / 2, zk + L2 / 2)\n",
    "            K3 = h * dy(xk + h / 2, yk + K2 / 2, zk + L2 / 2)\n",
    "\n",
    "            L4 = h * dz(xk + h, yk + K3, zk + L3)\n",
    "            K4 = h * dy(xk + h, yk + K3, zk + L3)\n",
    "\n",
    "            delt_y = (K1 + 2 * K2 + 2 * K3 + K4) / 6\n",
    "            delt_z = (L1 + 2 * L2 + 2 * L3 + L4) / 6\n",
    "\n",
    "            z = zk + delt_z\n",
    "            y = yk + delt_y\n",
    "\n",
    "            xk += h\n",
    "            yk = y\n",
    "            zk = z\n",
    "\n",
    "            self.Xk.append(xk)\n",
    "            self.Yk.append(yk)\n",
    "            self.Zk.append(zk)\n",
    "\n",
    "        return np.array(self.Yk)\n",
    "        \n",
    "    def Get_True_Val(self, f, h):\n",
    "        xk = self.x0\n",
    "        Val = [self.y0]\n",
    "        while not math.isclose(xk, self.finish):\n",
    "            xk += h\n",
    "            Val.append(f(xk))\n",
    "        return Val"
   ]
  },
  {
   "cell_type": "markdown",
   "metadata": {},
   "source": [
    "#### Задание: \n",
    "Реализовать метод стрельбы и конечно-разностный метод решения краевой задачи для ОДУ в виде программ. С использованием разработанного программного обеспечения решить краевую задачу для обыкновенного дифференциального уравнения 2-го порядка на указанном отрезке. Оценить погрешность численного решения с использованием метода Рунге – Ромберга и путем сравнения с точным решением. \n",
    "\n",
    "| Краевая задача | Точное решение |\n",
    "|:------:|:------:|\n",
    "|$$ x^2(x+1)y'' - 2y = 0 \\\\ y'(1)=-1 \\\\ 2y(2) - 4y'(2) = 4 $$|$$ y = \\frac{1}{x} + 1 $$|\n"
   ]
  },
  {
   "cell_type": "markdown",
   "metadata": {},
   "source": [
    "$$ \n",
    "y'' = \\frac{2y}{x^2(x+1)} \\\\\n",
    "y'(1) = -1 \\\\ \n",
    "y(2) = \\frac{1}{2} + 2y'(2) \\\\\n",
    "$$"
   ]
  },
  {
   "cell_type": "markdown",
   "metadata": {},
   "source": [
    "$$ \n",
    "y' = z \\\\\n",
    "z' = \\frac{2y}{x^2(x+1)} \\\\\n",
    "z(1) = -1 \\\\ \n",
    "y(2) = \\mu \\\\\n",
    "z(2) = \\frac{2\\mu - 4}{4} \\\\\n",
    "$$"
   ]
  },
  {
   "cell_type": "code",
   "execution_count": 95,
   "metadata": {},
   "outputs": [],
   "source": [
    "def RungeRombergMet(Met, h, r, p):\n",
    "    if (abs(r) >= 1):\n",
    "        return np.max(np.abs((Met.Get(h)[::r] - Met.Get(h * r)) / (r ** p - 1)).tolist())\n",
    "    else :\n",
    "        return np.max(np.abs((Met.Get(h) - Met.Get(h * r)[::int(1/r)]) / (r ** p - 1)).tolist())"
   ]
  },
  {
   "cell_type": "code",
   "execution_count": 96,
   "metadata": {},
   "outputs": [],
   "source": [
    "f = lambda x: 1/x + 1\n",
    "dy2 = lambda xk, yk, zk : zk\n",
    "dz2 = lambda xk, yk, zk : 2 * yk / (xk**2 * (xk + 1))"
   ]
  },
  {
   "cell_type": "code",
   "execution_count": 97,
   "metadata": {},
   "outputs": [
    {
     "name": "stdout",
     "output_type": "stream",
     "text": [
      "Метод стрельбы\n",
      " y(2) = 1.5    y(2) = mu = 1.5000292211448194\n",
      "Ошибка Рунге Ромберга: 0.00013936855035523443\n"
     ]
    },
    {
     "data": {
      "image/png": "[encoded data removed]",
      "text/plain": [
       "<Figure size 432x432 with 1 Axes>"
      ]
     },
     "metadata": {
      "needs_background": "light"
     },
     "output_type": "display_data"
    }
   ],
   "source": [
    "class Shooting:\n",
    "    def __init__(self, mu1, mu2):\n",
    "        self.mu1 = mu1\n",
    "        self.mu2 = mu2\n",
    "\n",
    "    def Get(self, h):\n",
    "        a = 2\n",
    "        z_a = lambda mu: (2 * mu - 4) / 4\n",
    "\n",
    "        b = 1\n",
    "        z_b = -1\n",
    "\n",
    "        eps = 0.000001\n",
    "\n",
    "        mu1 = self.mu1\n",
    "        mu2 = self.mu2\n",
    "        rk1 = RungeKutta(x0 = a, y0 = mu1, z0 = z_a(mu1), finish=b)\n",
    "        rk2 = RungeKutta(x0 = a, y0 = mu2, z0 = z_a(mu2), finish=b)\n",
    "        rk1.Get(h, dz = dz2, dy =dy2)\n",
    "        rk2.Get(h, dz = dz2, dy =dy2)\n",
    "\n",
    "\n",
    "        phi1 = rk1.Zk[-1] + 1 \n",
    "        phi2 = rk2.Zk[-1] + 1 \n",
    "\n",
    "        while abs(phi2) > eps:\n",
    "            dphi = (phi2 - phi1) / (mu2 - mu1);\n",
    "            dmu = - phi2 / dphi;\n",
    "            mu1 = mu2;\n",
    "            mu2 += dmu;\n",
    "\n",
    "            phi1 = phi2;\n",
    "\n",
    "            rk = RungeKutta(x0 = a, y0 = mu2, z0 = z_a(mu2), finish=b)\n",
    "            rk.Get(h, dz = dz2, dy =dy2)\n",
    "            \n",
    "            phi2 = rk.Zk[-1] - z_b  \n",
    "\n",
    "        self.Xi = rk.Xk\n",
    "        self.Yi = rk.Yk\n",
    "        self.mu = mu2\n",
    "        return np.array(self.Yi)\n",
    "\n",
    "sh = Shooting(1, 3)\n",
    "\n",
    "Yi = sh.Get(-0.1)\n",
    "Xi = sh.Xi\n",
    "\n",
    "\n",
    "X = np.linspace(np.min(Xi), np.max(Xi), 100)\n",
    "Y = [f(x) for x in X]\n",
    "\n",
    "print(\"Метод стрельбы\")\n",
    "\n",
    "print(f\" y(2) = {f(2)}    y(2) = mu = {sh.mu}\")\n",
    "\n",
    "\n",
    "print(f\"Ошибка Рунге Ромберга: {RungeRombergMet(sh, -0.1, 2, 2)}\")\n",
    "\n",
    "Plot2(Xi, Yi, X, Y)\n"
   ]
  },
  {
   "cell_type": "markdown",
   "metadata": {},
   "source": [
    "Метод конечных разностей"
   ]
  },
  {
   "cell_type": "markdown",
   "metadata": {},
   "source": [
    "$$ \n",
    "x^2(x+1)y'' - 2y = 0 $$\n",
    "$$ y'' + \\frac{-2}{x^2(x+1)}y = 0 $$\n",
    "\n",
    "$$ p(x) = 0 $$\n",
    "$$ q(x) = \\frac{-2}{x^2(x+1)} $$\n",
    "$$ r(x) = 0 $$"
   ]
  },
  {
   "cell_type": "code",
   "execution_count": 98,
   "metadata": {},
   "outputs": [],
   "source": [
    "#TRIDIAGONAL_MATRIX_ALGORITHM\n",
    "class Tridiagonal_Matrix_Algorithm:\n",
    "    def __init__(self, A, _d):\n",
    "        self.n = len(_d)\n",
    "        self.a = []\n",
    "        self.b = []\n",
    "        self.c = []\n",
    "        self.d = _d\n",
    "        self.A = A\n",
    "\n",
    "        self.a.append(0);\n",
    "        self.b.append(self.A[0][0])\n",
    "        self.c.append(self.A[0][1])\n",
    "        for i in range(1, self.n - 1):\n",
    "            self.a.append(self.A[i][i - 1])\n",
    "            self.b.append(self.A[i][i])\n",
    "            self.c.append(self.A[i][i + 1])\n",
    "\n",
    "        self.a.append(self.A[self.n - 1][self.n - 2])\n",
    "        self.b.append(self.A[self.n - 1][self.n - 1])\n",
    "        self.c.append(0)\n",
    "\n",
    "        self.Make_P_andQ()\n",
    "        self.x = self.Make_x()\n",
    "\n",
    "    def Ans(self):\n",
    "        return self.x\n",
    "\n",
    "    def Make_P_andQ(self):\n",
    "        self.p = []\n",
    "        self.q = []\n",
    "        self.p.append(- self.c[0] / self.b[0])\n",
    "        self.q.append(self.d[0] / self.b[0])\n",
    "\n",
    "        for i in range(1, self.n - 1):\n",
    "           self.p.append(- self.c[i] / (self.b[i] + self.a[i] * self.p[i - 1]))\n",
    "           self.q.append((self.d[i] - self.a[i] * self.q[i - 1]) / (self.b[i] + self.a[i] * self.p[i - 1]))\n",
    "\n",
    "\n",
    "    def Make_x(self):\n",
    "        self.ans = np.zeros(self.n)\n",
    "\n",
    "        self.ans[self.n - 1] = (self.d[self.n - 1] - self.a[self.n - 1] * self.q[self.n - 2]) / (self.b[self.n - 1] + self.a[self.n - 1] * self.p[self.n - 2]);\n",
    "\n",
    "        for i in range(self.n - 2, -1, -1):\n",
    "            self.ans[i] = self.p[i] * self.ans[i + 1] + self.q[i]\n",
    "\n",
    "        return self.ans.tolist()"
   ]
  },
  {
   "cell_type": "code",
   "execution_count": 99,
   "metadata": {},
   "outputs": [],
   "source": [
    "def RungeRombergMet(Met, h, r, p):\n",
    "    if (r >= 1):\n",
    "        return np.max(np.abs((Met.Get(h) - Met.Get(h * r)[::r]) / (r ** p - 1)).tolist())\n",
    "    else :\n",
    "        return np.max(np.abs((Met.Get(h)[::int(1/r)] - Met.Get(h * r)) / (r ** p - 1)).tolist())"
   ]
  },
  {
   "cell_type": "code",
   "execution_count": 100,
   "metadata": {},
   "outputs": [],
   "source": [
    "q = lambda x: -2 / ((x+1) * (x**2))\n",
    "p = lambda x: 0\n",
    "r = lambda x: 0"
   ]
  },
  {
   "cell_type": "code",
   "execution_count": 101,
   "metadata": {},
   "outputs": [
    {
     "name": "stdout",
     "output_type": "stream",
     "text": [
      "Ошибка Рунге Ромберга: 1.3802287350594966e-05\n"
     ]
    },
    {
     "data": {
      "image/png": "[encoded data removed]",
      "text/plain": [
       "<Figure size 432x432 with 1 Axes>"
      ]
     },
     "metadata": {
      "needs_background": "light"
     },
     "output_type": "display_data"
    }
   ],
   "source": [
    "class Met:\n",
    "    def Get(self, n):\n",
    "        x0 = 1\n",
    "        xn = 2\n",
    "\n",
    "        h = (xn - x0) / n\n",
    "\n",
    "        Xk = np.arange(x0, xn + h, h)\n",
    "\n",
    "        A = np.zeros((n + 1, n + 1))\n",
    "        b = np.zeros(n + 1)\n",
    "\n",
    "        A[0][0] = 1\n",
    "        A[0][1] = 0\n",
    "        b[0] = 2\n",
    "\n",
    "        for i in range(1, n):\n",
    "\n",
    "            A[i][i - 1] = 1 / h**2 - p(Xk[i]) / (2*h)\n",
    "            A[i][i] = -2 / h**2 + q(Xk[i])\n",
    "            A[i][i + 1] = 1 / h**2 + p(Xk[i]) / (2*h)\n",
    "            \n",
    "            b[i] = -r(Xk[i])\n",
    "\n",
    "        A[n][n-1] = 0\n",
    "        A[n][n] = 1\n",
    "        b[n] = 1.5\n",
    "\n",
    "        tr = Tridiagonal_Matrix_Algorithm(A, b)\n",
    "        Yk = tr.Ans()\n",
    "        self.Xk = Xk\n",
    "\n",
    "        return np.array(Yk)\n",
    "\n",
    "m = Met()\n",
    "Yk = m.Get(10)\n",
    "Xk = m.Xk\n",
    "\n",
    "X = np.linspace(Xk[0], Xk[-1], 100)\n",
    "Y = [f(x) for x in X]\n",
    "\n",
    "print(f\"Ошибка Рунге Ромберга: {RungeRombergMet(m, 50, 2, 1)}\")\n",
    "\n",
    "Plot2(Xk, Yk, X, Y)\n",
    "\n"
   ]
  }
 ],
 "metadata": {
  "interpreter": {
   "hash": "752579dbebe7f4dfe7c1aa72eac13e23fc88be2cc1ea7ab14e1f8d69b2d97d12"
  },
  "kernelspec": {
   "display_name": "Python 3",
   "language": "python",
   "name": "python3"
  },
  "language_info": {
   "codemirror_mode": {
    "name": "ipython",
    "version": 3
   },
   "file_extension": ".py",
   "mimetype": "text/x-python",
   "name": "python",
   "nbconvert_exporter": "python",
   "pygments_lexer": "ipython3",
   "version": "3.8.2"
  },
  "orig_nbformat": 4
 },
 "nbformat": 4,
 "nbformat_minor": 2
}
