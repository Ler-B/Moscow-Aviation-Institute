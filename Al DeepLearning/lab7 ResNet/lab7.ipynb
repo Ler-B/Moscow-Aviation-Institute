{
  "cells": [
    {
      "cell_type": "markdown",
      "metadata": {
        "id": "3lZdgap3yoFr"
      },
      "source": [
        "## Будникова Валерия Павловна \n",
        "### группа М8О-407Б-19\n",
        "## Лабораторная работа 7"
      ]
    },
    {
      "cell_type": "code",
      "execution_count": null,
      "metadata": {
        "id": "QJuvONocZWWR"
      },
      "outputs": [],
      "source": [
        "import torch\n",
        "import torchvision\n",
        "from torchvision import datasets, models, transforms\n",
        "\n",
        "import numpy as np\n",
        "import matplotlib.pyplot as plt\n",
        "import time\n",
        "import os\n",
        "from pathlib import Path\n",
        "import tqdm as tqdm\n",
        "from torch.utils.data import DataLoader, Dataset\n",
        "\n",
        "import onnx\n",
        "import onnxruntime as ort"
      ]
    },
    {
      "cell_type": "markdown",
      "metadata": {
        "id": "RrRJkXUDyoFx"
      },
      "source": [
        "Загрузка данных из kaggle"
      ]
    },
    {
      "cell_type": "code",
      "execution_count": null,
      "metadata": {
        "colab": {
          "base_uri": "https://localhost:8080/"
        },
        "id": "B3-EYxjJgJwp",
        "outputId": "6d4118ee-b600-4ddd-e342-7f137f82a501"
      },
      "outputs": [
        {
          "name": "stdout",
          "output_type": "stream",
          "text": [
            "Looking in indexes: https://pypi.org/simple, https://us-python.pkg.dev/colab-wheels/public/simple/\n",
            "Requirement already satisfied: kaggle in /usr/local/lib/python3.10/dist-packages (1.5.13)\n",
            "Requirement already satisfied: six>=1.10 in /usr/local/lib/python3.10/dist-packages (from kaggle) (1.16.0)\n",
            "Requirement already satisfied: certifi in /usr/local/lib/python3.10/dist-packages (from kaggle) (2022.12.7)\n",
            "Requirement already satisfied: python-dateutil in /usr/local/lib/python3.10/dist-packages (from kaggle) (2.8.2)\n",
            "Requirement already satisfied: requests in /usr/local/lib/python3.10/dist-packages (from kaggle) (2.27.1)\n",
            "Requirement already satisfied: tqdm in /usr/local/lib/python3.10/dist-packages (from kaggle) (4.65.0)\n",
            "Requirement already satisfied: python-slugify in /usr/local/lib/python3.10/dist-packages (from kaggle) (8.0.1)\n",
            "Requirement already satisfied: urllib3 in /usr/local/lib/python3.10/dist-packages (from kaggle) (1.26.15)\n",
            "Requirement already satisfied: text-unidecode>=1.3 in /usr/local/lib/python3.10/dist-packages (from python-slugify->kaggle) (1.3)\n",
            "Requirement already satisfied: charset-normalizer~=2.0.0 in /usr/local/lib/python3.10/dist-packages (from requests->kaggle) (2.0.12)\n",
            "Requirement already satisfied: idna<4,>=2.5 in /usr/local/lib/python3.10/dist-packages (from requests->kaggle) (3.4)\n"
          ]
        }
      ],
      "source": [
        "! pip install kaggle"
      ]
    },
    {
      "cell_type": "code",
      "execution_count": null,
      "metadata": {
        "id": "KFv7204ngPRe"
      },
      "outputs": [],
      "source": [
        "! mkdir ~/.kaggle"
      ]
    },
    {
      "cell_type": "code",
      "execution_count": null,
      "metadata": {
        "id": "LvjUMYHdgR7l"
      },
      "outputs": [],
      "source": [
        "! cp kaggle.json ~/.kaggle/"
      ]
    },
    {
      "cell_type": "code",
      "execution_count": null,
      "metadata": {
        "id": "e3exARaIgUj9"
      },
      "outputs": [],
      "source": [
        "! chmod 600 ~/.kaggle/kaggle.json"
      ]
    },
    {
      "cell_type": "code",
      "execution_count": null,
      "metadata": {
        "colab": {
          "base_uri": "https://localhost:8080/"
        },
        "id": "Y-C4vsUigX8N",
        "outputId": "2d59025e-ce72-41d7-b258-b990e6054b0b"
      },
      "outputs": [
        {
          "name": "stdout",
          "output_type": "stream",
          "text": [
            "Downloading caltech256.zip to /content\n",
            "100% 2.12G/2.12G [01:38<00:00, 23.1MB/s]\n",
            "100% 2.12G/2.12G [01:38<00:00, 23.1MB/s]\n"
          ]
        }
      ],
      "source": [
        "! kaggle datasets download jessicali9530/caltech256"
      ]
    },
    {
      "cell_type": "code",
      "execution_count": null,
      "metadata": {
        "id": "tD5L3hNThhXK"
      },
      "outputs": [],
      "source": [
        "! unzip caltech256.zip >/dev/null"
      ]
    },
    {
      "cell_type": "markdown",
      "metadata": {
        "id": "WwCC6uUOyoF4"
      },
      "source": [
        "Разделение данных на тестовую и валидационную части"
      ]
    },
    {
      "cell_type": "code",
      "execution_count": null,
      "metadata": {
        "id": "RSM-_tsBayz6"
      },
      "outputs": [],
      "source": [
        "train_lst_path = \"/content/lst/train_lst.txt\"\n",
        "with open(train_lst_path) as file:\n",
        "    train_lst = [line.rstrip() for line in file]\n",
        "\n",
        "val_lst_path = \"/content/lst/val_lst.txt\"\n",
        "with open(val_lst_path) as file:\n",
        "    val_lst = [line.rstrip() for line in file]"
      ]
    },
    {
      "cell_type": "code",
      "execution_count": null,
      "metadata": {
        "colab": {
          "base_uri": "https://localhost:8080/"
        },
        "id": "UTbyw6G8iPB9",
        "outputId": "666d6494-ad22-4766-96d4-91a47955e9db"
      },
      "outputs": [
        {
          "name": "stdout",
          "output_type": "stream",
          "text": [
            "256_ObjectCategories/112.human-skeleton/112_0009.jpg 111 human-skeleton\n"
          ]
        }
      ],
      "source": [
        "print(train_lst[0])"
      ]
    },
    {
      "cell_type": "code",
      "execution_count": null,
      "metadata": {
        "id": "ZLj2ZywOaypZ"
      },
      "outputs": [],
      "source": [
        "!mkdir data\n",
        "!mkdir data/train\n",
        "!mkdir data/val"
      ]
    },
    {
      "cell_type": "code",
      "execution_count": null,
      "metadata": {
        "id": "kyzkOEU-jJOJ"
      },
      "outputs": [],
      "source": [
        "import shutil\n",
        "import os\n",
        "from pathlib import Path\n",
        "\n",
        "train_path = \"/content/data/train\"\n",
        "for train in train_lst:\n",
        "  path, n, name = train.split()\n",
        "  folder, cls, file = path.split(\"/\")\n",
        "\n",
        "  class_path = os.path.join(train_path, name)\n",
        "  Path(class_path).mkdir(parents=True, exist_ok=True)\n",
        "  shutil.copy(\"/content/\"+path, os.path.join(class_path, file))\n",
        "\n",
        "\n",
        "val_path = \"/content/data/val\"\n",
        "for val in val_lst:\n",
        "  path, n, name = val.split()\n",
        "  folder, cls, file = path.split(\"/\")\n",
        "\n",
        "  class_path = os.path.join(val_path, name)\n",
        "  Path(class_path).mkdir(parents=True, exist_ok=True)\n",
        "  shutil.copy(\"/content/\"+path, os.path.join(class_path, file))"
      ]
    },
    {
      "cell_type": "markdown",
      "metadata": {
        "id": "k6onCrltyoGA"
      },
      "source": [
        "Аугментация данных"
      ]
    },
    {
      "cell_type": "code",
      "execution_count": null,
      "metadata": {
        "id": "Mp576CeclApS"
      },
      "outputs": [],
      "source": [
        "import os\n",
        "\n",
        "data_transforms = {\n",
        "    'train': transforms.Compose([\n",
        "        transforms.RandomResizedCrop(224, scale=(0.5, 1)), \n",
        "        transforms.RandomRotation(45),\n",
        "        transforms.RandomCrop(224),\n",
        "        transforms.RandomHorizontalFlip(), \n",
        "        transforms.TrivialAugmentWide(),\n",
        "        transforms.ToTensor(),\n",
        "        transforms.RandomErasing(0.1),\n",
        "        transforms.Normalize([0.485, 0.456, 0.406], [0.229, 0.224, 0.225]) \n",
        "    ]),\n",
        "    'val': transforms.Compose([\n",
        "        transforms.Resize(256), \n",
        "        transforms.CenterCrop(224), \n",
        "        transforms.ToTensor(), \n",
        "        transforms.Normalize([0.485, 0.456, 0.406], [0.229, 0.224, 0.225]) \n",
        "    ]),      \n",
        "    'train2': transforms.Compose([\n",
        "        transforms.RandomResizedCrop(224, scale=(0.5, 1)), \n",
        "        transforms.RandomRotation(45),\n",
        "        transforms.RandomCrop(224),\n",
        "        transforms.RandomHorizontalFlip(), \n",
        "        transforms.TrivialAugmentWide(),\n",
        "        transforms.ToTensor(),\n",
        "        transforms.RandomErasing(0.1),\n",
        "        transforms.Normalize([0.485, 0.456, 0.406], [0.229, 0.224, 0.225]) \n",
        "    ]),      \n",
        "    'train3': transforms.Compose([\n",
        "        transforms.RandomResizedCrop(224, scale=(0.5, 1)), \n",
        "        transforms.RandomRotation(45),\n",
        "        transforms.RandomCrop(224),\n",
        "        transforms.RandomHorizontalFlip(), \n",
        "        transforms.TrivialAugmentWide(),\n",
        "        transforms.ToTensor(),\n",
        "        transforms.RandomErasing(0.1),\n",
        "        transforms.Normalize([0.485, 0.456, 0.406], [0.229, 0.224, 0.225]) \n",
        "    ]),      \n",
        "}\n",
        "\n",
        "dataset = {x: datasets.ImageFolder(os.path.join('/content/data/', x),\n",
        "                                          data_transforms[x])\n",
        "                  for x in ['train', 'val']}\n",
        "\n",
        "class_names = dataset['train'].classes"
      ]
    },
    {
      "cell_type": "markdown",
      "metadata": {
        "id": "mmVp5c5kyoGC"
      },
      "source": [
        "Информация о данных"
      ]
    },
    {
      "cell_type": "code",
      "execution_count": null,
      "metadata": {
        "colab": {
          "base_uri": "https://localhost:8080/"
        },
        "id": "HTsemiFRnJ8V",
        "outputId": "f24780ea-0bd7-4ae8-efef-476161664750"
      },
      "outputs": [
        {
          "name": "stdout",
          "output_type": "stream",
          "text": [
            "dataset['train'] size: 18056, data_train size: 283 \n",
            "dataset['val'] size: 5862, data_val size: 92 \n",
            "batch size: 64\n",
            "classes:  ['airplanes-101', 'ak47', 'american-flag', 'backpack', 'baseball-bat', 'baseball-glove', 'basketball-hoop', 'bat', 'bathtub', 'bear', 'beer-mug', 'billiards', 'binoculars', 'birdbath', 'blimp', 'bonsai-101', 'boom-box', 'bowling-ball', 'bowling-pin', 'boxing-glove', 'brain-101', 'breadmaker', 'buddha-101', 'bulldozer', 'butterfly', 'cactus', 'cake', 'calculator', 'camel', 'cannon', 'canoe', 'car-side-101', 'car-tire', 'cartman', 'cd', 'centipede', 'cereal-box', 'chandelier-101', 'chess-board', 'chimp', 'chopsticks', 'cockroach', 'coffee-mug', 'coffin', 'coin', 'comet', 'computer-keyboard', 'computer-monitor', 'computer-mouse', 'conch', 'cormorant', 'covered-wagon', 'cowboy-hat', 'crab-101', 'desk-globe', 'diamond-ring', 'dice', 'dog', 'dolphin-101', 'doorknob', 'drinking-straw', 'duck', 'dumb-bell', 'eiffel-tower', 'electric-guitar-101', 'elephant-101', 'elk', 'ewer-101', 'eyeglasses', 'faces-easy-101', 'fern', 'fighter-jet', 'fire-extinguisher', 'fire-hydrant', 'fire-truck', 'fireworks', 'flashlight', 'floppy-disk', 'football-helmet', 'french-horn', 'fried-egg', 'frisbee', 'frog', 'frying-pan', 'galaxy', 'gas-pump', 'giraffe', 'goat', 'golden-gate-bridge', 'goldfish', 'golf-ball', 'goose', 'gorilla', 'grand-piano-101', 'grapes', 'grasshopper', 'greyhound', 'guitar-pick', 'hamburger', 'hammock', 'harmonica', 'harp', 'harpsichord', 'hawksbill-101', 'head-phones', 'helicopter-101', 'hibiscus', 'homer-simpson', 'horse', 'horseshoe-crab', 'hot-air-balloon', 'hot-dog', 'hot-tub', 'hourglass', 'house-fly', 'human-skeleton', 'hummingbird', 'ibis-101', 'ice-cream-cone', 'iguana', 'ipod', 'iris', 'jesus-christ', 'joy-stick', 'kangaroo-101', 'kayak', 'ketch-101', 'killer-whale', 'knife', 'ladder', 'laptop-101', 'lathe', 'leopards-101', 'license-plate', 'light-house', 'lightbulb', 'lightning', 'llama-101', 'mailbox', 'mandolin', 'mars', 'mattress', 'megaphone', 'menorah-101', 'microscope', 'microwave', 'minaret', 'minotaur', 'motorbikes-101', 'mountain-bike', 'mushroom', 'mussels', 'necktie', 'octopus', 'ostrich', 'owl', 'palm-pilot', 'palm-tree', 'paper-shredder', 'paperclip', 'pci-card', 'penguin', 'people', 'pez-dispenser', 'photocopier', 'picnic-table', 'playing-card', 'porcupine', 'pram', 'praying-mantis', 'pyramid', 'raccoon', 'radio-telescope', 'rainbow', 'refrigerator', 'revolver-101', 'rifle', 'rotary-phone', 'roulette-wheel', 'saddle', 'saturn', 'school-bus', 'scorpion-101', 'screwdriver', 'segway', 'self-propelled-lawn-mower', 'sextant', 'sheet-music', 'skateboard', 'skunk', 'skyscraper', 'smokestack', 'snail', 'snake', 'sneaker', 'snowmobile', 'soccer-ball', 'socks', 'soda-can', 'spaghetti', 'speed-boat', 'spider', 'spoon', 'stained-glass', 'starfish-101', 'steering-wheel', 'stirrups', 'sunflower-101', 'superman', 'sushi', 'swan', 'swiss-army-knife', 'sword', 'syringe', 't-shirt', 'tambourine', 'teapot', 'teddy-bear', 'teepee', 'telephone-box', 'tennis-ball', 'tennis-court', 'tennis-racket', 'tennis-shoes', 'theodolite', 'toad', 'toaster', 'tomato', 'tombstone', 'top-hat', 'touring-bike', 'tower-pisa', 'traffic-light', 'treadmill', 'triceratops', 'tricycle', 'trilobite-101', 'tripod', 'tuning-fork', 'tweezer', 'umbrella-101', 'unicorn', 'vcr', 'video-projector', 'washing-machine', 'watch-101', 'waterfall', 'watermelon', 'welding-mask', 'wheelbarrow', 'windmill', 'wine-bottle', 'xylophone', 'yarmulke', 'yo-yo', 'zebra']\n"
          ]
        }
      ],
      "source": [
        "bs = 64\n",
        "data_train = torch.utils.data.DataLoader(dataset[\"train\"], batch_size=bs)\n",
        "data_val = torch.utils.data.DataLoader(dataset[\"val\"], batch_size=bs)\n",
        "\n",
        "print(f\"dataset['train'] size: {len(dataset['train'])}, data_train size: {len(data_train)} \")\n",
        "print(f\"dataset['val'] size: {len(dataset['val'])}, data_val size: {len(data_val)} \")\n",
        "print(f\"batch size: {bs}\")\n",
        "print(f\"classes: \", class_names)"
      ]
    },
    {
      "cell_type": "markdown",
      "metadata": {
        "id": "AIQYAF-AyoGG"
      },
      "source": [
        "Просмотр изображений"
      ]
    },
    {
      "cell_type": "code",
      "execution_count": null,
      "metadata": {
        "colab": {
          "base_uri": "https://localhost:8080/",
          "height": 182
        },
        "id": "5OCE6Oy0lAiw",
        "outputId": "d91d37ec-2737-467f-c5b0-74d8417ddda2"
      },
      "outputs": [
        {
          "data": {
            "image/png": "[encoded data removed]",
            "text/plain": [
              "<Figure size 640x480 with 1 Axes>"
            ]
          },
          "metadata": {},
          "output_type": "display_data"
        }
      ],
      "source": [
        "def imshow(inp, title=None):\n",
        "    inp = inp.numpy().transpose((1, 2, 0))\n",
        "    mean = np.array([0.485, 0.456, 0.406])\n",
        "    std = np.array([0.229, 0.224, 0.225])\n",
        "    inp = std * inp + mean\n",
        "    inp = np.clip(inp, 0, 1)\n",
        "    plt.imshow(inp)\n",
        "    if title is not None:\n",
        "        plt.title(title)\n",
        "\n",
        "inputs, classes = next(iter(data_train))\n",
        "\n",
        "n = 5\n",
        "inputs = inputs[:n]\n",
        "classes = classes[:n]\n",
        "\n",
        "out = torchvision.utils.make_grid(inputs)\n",
        "\n",
        "imshow(out, title=[class_names[x] for x in classes])"
      ]
    },
    {
      "cell_type": "markdown",
      "metadata": {
        "id": "8con9iYFyoGI"
      },
      "source": [
        "Проверка на сбалансированность"
      ]
    },
    {
      "cell_type": "code",
      "execution_count": null,
      "metadata": {
        "colab": {
          "base_uri": "https://localhost:8080/",
          "height": 449
        },
        "id": "8nnRSY1eiBwy",
        "outputId": "f2e5bd71-f98f-48ab-e1e9-d6700d605508"
      },
      "outputs": [
        {
          "data": {
            "text/plain": [
              "[<matplotlib.lines.Line2D at 0x7ff8e32927d0>]"
            ]
          },
          "execution_count": 27,
          "metadata": {},
          "output_type": "execute_result"
        },
        {
          "data": {
            "image/png": "[encoded data removed]",
            "text/plain": [
              "<Figure size 640x480 with 1 Axes>"
            ]
          },
          "metadata": {},
          "output_type": "display_data"
        }
      ],
      "source": [
        "count_cl = np.zeros(len(class_names))\n",
        "for d, cls in data_train:\n",
        "  for i in cls:\n",
        "    count_cl[i] += 1\n",
        "\n",
        "plt.plot(np.arange(0, len(count_cl)), count_cl)"
      ]
    },
    {
      "cell_type": "markdown",
      "metadata": {
        "id": "1vDYw9NTyoGJ"
      },
      "source": [
        "Так как данные не сбалансированы, проведем undesampling"
      ]
    },
    {
      "cell_type": "code",
      "execution_count": null,
      "metadata": {
        "id": "YYVB-qKVBXmI"
      },
      "outputs": [],
      "source": [
        "! rm -rf data/train2\n",
        "! rm -rf data/train3"
      ]
    },
    {
      "cell_type": "code",
      "execution_count": null,
      "metadata": {
        "id": "-IALmL4FkfG4"
      },
      "outputs": [],
      "source": [
        "count_cl2 = np.zeros(len(count_cl))\n",
        "train_path = '/content/data/train2'\n",
        "train_path2 = '/content/data/train3'\n",
        "for train in train_lst:\n",
        "  path, n, name = train.split()\n",
        "  folder, cls, file = path.split(\"/\")\n",
        "  \n",
        "  ind = class_names.index(name)\n",
        "  count_cl2[ind] += 1\n",
        "  \n",
        "  if count_cl2[ind] < 150:\n",
        "    class_path = os.path.join(train_path, name)\n",
        "    Path(class_path).mkdir(parents=True, exist_ok=True)\n",
        "    shutil.copy(\"/content/\"+path, os.path.join(class_path, file)) # было /content/\n",
        "    \n",
        "    if ind < 140:\n",
        "      class_path = os.path.join(train_path2, name)\n",
        "      Path(class_path).mkdir(parents=True, exist_ok=True)\n",
        "      shutil.copy(\"/content/\"+path, os.path.join(class_path, file))\n"
      ]
    },
    {
      "cell_type": "code",
      "execution_count": null,
      "metadata": {
        "id": "byTdwdc_qw7c"
      },
      "outputs": [],
      "source": [
        "dataset = {x: datasets.ImageFolder(os.path.join('/content/data/', x),\n",
        "                                          data_transforms[x])\n",
        "                  for x in ['train2', 'val', 'train3']}\n",
        "\n",
        "data_train = torch.utils.data.DataLoader(dataset[\"train2\"], batch_size=bs, shuffle = True)\n",
        "data_train2 = torch.utils.data.DataLoader(dataset[\"train3\"], batch_size=bs, shuffle = True)\n",
        "data_val = torch.utils.data.DataLoader(dataset[\"val\"], batch_size=bs, shuffle = True)"
      ]
    },
    {
      "cell_type": "markdown",
      "metadata": {
        "id": "bN9TAEQyyoGM"
      },
      "source": [
        "Обучение модели из Pytorch"
      ]
    },
    {
      "cell_type": "code",
      "execution_count": null,
      "metadata": {
        "colab": {
          "base_uri": "https://localhost:8080/"
        },
        "id": "hHpTXDMalAcC",
        "outputId": "04f25b31-f35d-4b65-e0ea-df04a215695b"
      },
      "outputs": [
        {
          "name": "stdout",
          "output_type": "stream",
          "text": [
            "cuda:0\n"
          ]
        },
        {
          "name": "stderr",
          "output_type": "stream",
          "text": [
            "  0%|          | 0/90 [00:00<?, ?it/s]"
          ]
        },
        {
          "name": "stdout",
          "output_type": "stream",
          "text": [
            "train Loss: 5.7254 Acc: 0.0137\n"
          ]
        },
        {
          "name": "stderr",
          "output_type": "stream",
          "text": [
            "  1%|          | 1/90 [03:06<4:36:30, 186.41s/it]"
          ]
        },
        {
          "name": "stdout",
          "output_type": "stream",
          "text": [
            "val Loss: 5.2431 Acc: 0.0426\n",
            "train Loss: 5.3694 Acc: 0.0258\n"
          ]
        },
        {
          "name": "stderr",
          "output_type": "stream",
          "text": [
            "  2%|▏         | 2/90 [06:12<4:33:24, 186.41s/it]"
          ]
        },
        {
          "name": "stdout",
          "output_type": "stream",
          "text": [
            "val Loss: 5.1915 Acc: 0.0390\n",
            "train Loss: 5.2476 Acc: 0.0351\n"
          ]
        },
        {
          "name": "stderr",
          "output_type": "stream",
          "text": [
            "  3%|▎         | 3/90 [09:16<4:28:28, 185.15s/it]"
          ]
        },
        {
          "name": "stdout",
          "output_type": "stream",
          "text": [
            "val Loss: 4.9442 Acc: 0.0716\n",
            "train Loss: 5.1307 Acc: 0.0476\n"
          ]
        },
        {
          "name": "stderr",
          "output_type": "stream",
          "text": [
            "  4%|▍         | 4/90 [12:23<4:26:18, 185.80s/it]"
          ]
        },
        {
          "name": "stdout",
          "output_type": "stream",
          "text": [
            "val Loss: 4.8199 Acc: 0.0860\n",
            "train Loss: 5.0384 Acc: 0.0572\n"
          ]
        },
        {
          "name": "stderr",
          "output_type": "stream",
          "text": [
            "  6%|▌         | 5/90 [15:39<4:28:33, 189.58s/it]"
          ]
        },
        {
          "name": "stdout",
          "output_type": "stream",
          "text": [
            "val Loss: 4.7081 Acc: 0.1049\n",
            "train Loss: 4.9616 Acc: 0.0650\n"
          ]
        },
        {
          "name": "stderr",
          "output_type": "stream",
          "text": [
            "  7%|▋         | 6/90 [21:00<5:28:08, 234.39s/it]"
          ]
        },
        {
          "name": "stdout",
          "output_type": "stream",
          "text": [
            "val Loss: 4.5877 Acc: 0.1234\n",
            "train Loss: 4.9046 Acc: 0.0697\n"
          ]
        },
        {
          "name": "stderr",
          "output_type": "stream",
          "text": [
            "  8%|▊         | 7/90 [26:24<6:04:36, 263.58s/it]"
          ]
        },
        {
          "name": "stdout",
          "output_type": "stream",
          "text": [
            "val Loss: 4.4696 Acc: 0.1322\n",
            "train Loss: 4.8495 Acc: 0.0777\n"
          ]
        },
        {
          "name": "stderr",
          "output_type": "stream",
          "text": [
            "  9%|▉         | 8/90 [31:38<6:22:00, 279.51s/it]"
          ]
        },
        {
          "name": "stdout",
          "output_type": "stream",
          "text": [
            "val Loss: 4.4499 Acc: 0.1397\n",
            "train Loss: 4.7743 Acc: 0.0847\n"
          ]
        },
        {
          "name": "stderr",
          "output_type": "stream",
          "text": [
            " 10%|█         | 9/90 [36:50<6:31:16, 289.83s/it]"
          ]
        },
        {
          "name": "stdout",
          "output_type": "stream",
          "text": [
            "val Loss: 4.4127 Acc: 0.1418\n",
            "train Loss: 4.7117 Acc: 0.0903\n"
          ]
        },
        {
          "name": "stderr",
          "output_type": "stream",
          "text": [
            " 11%|█         | 10/90 [42:10<6:38:33, 298.92s/it]"
          ]
        },
        {
          "name": "stdout",
          "output_type": "stream",
          "text": [
            "val Loss: 4.4671 Acc: 0.1355\n",
            "train Loss: 4.6699 Acc: 0.0972\n"
          ]
        },
        {
          "name": "stderr",
          "output_type": "stream",
          "text": [
            " 12%|█▏        | 11/90 [47:56<6:52:48, 313.52s/it]"
          ]
        },
        {
          "name": "stdout",
          "output_type": "stream",
          "text": [
            "val Loss: 4.3363 Acc: 0.1502\n",
            "train Loss: 4.6263 Acc: 0.1026\n"
          ]
        },
        {
          "name": "stderr",
          "output_type": "stream",
          "text": [
            " 13%|█▎        | 12/90 [53:50<7:03:22, 325.67s/it]"
          ]
        },
        {
          "name": "stdout",
          "output_type": "stream",
          "text": [
            "val Loss: 4.2762 Acc: 0.1616\n",
            "train Loss: 4.5655 Acc: 0.1086\n"
          ]
        },
        {
          "name": "stderr",
          "output_type": "stream",
          "text": [
            " 14%|█▍        | 13/90 [58:44<6:45:51, 316.26s/it]"
          ]
        },
        {
          "name": "stdout",
          "output_type": "stream",
          "text": [
            "val Loss: 4.2268 Acc: 0.1688\n",
            "train Loss: 4.5198 Acc: 0.1144\n"
          ]
        },
        {
          "name": "stderr",
          "output_type": "stream",
          "text": [
            " 16%|█▌        | 14/90 [1:03:38<6:32:05, 309.55s/it]"
          ]
        },
        {
          "name": "stdout",
          "output_type": "stream",
          "text": [
            "val Loss: 4.0721 Acc: 0.1751\n",
            "train Loss: 4.4564 Acc: 0.1225\n"
          ]
        },
        {
          "name": "stderr",
          "output_type": "stream",
          "text": [
            " 17%|█▋        | 15/90 [1:08:23<6:17:30, 302.00s/it]"
          ]
        },
        {
          "name": "stdout",
          "output_type": "stream",
          "text": [
            "val Loss: 4.6087 Acc: 0.1437\n",
            "train Loss: 4.4303 Acc: 0.1241\n"
          ]
        },
        {
          "name": "stderr",
          "output_type": "stream",
          "text": [
            " 18%|█▊        | 16/90 [1:13:13<6:08:13, 298.55s/it]"
          ]
        },
        {
          "name": "stdout",
          "output_type": "stream",
          "text": [
            "val Loss: 3.9965 Acc: 0.1959\n",
            "train Loss: 4.3764 Acc: 0.1324\n"
          ]
        },
        {
          "name": "stderr",
          "output_type": "stream",
          "text": [
            " 19%|█▉        | 17/90 [1:18:07<6:01:29, 297.11s/it]"
          ]
        },
        {
          "name": "stdout",
          "output_type": "stream",
          "text": [
            "val Loss: 3.9367 Acc: 0.2079\n",
            "train Loss: 4.3477 Acc: 0.1372\n"
          ]
        },
        {
          "name": "stderr",
          "output_type": "stream",
          "text": [
            " 20%|██        | 18/90 [1:22:53<5:52:23, 293.66s/it]"
          ]
        },
        {
          "name": "stdout",
          "output_type": "stream",
          "text": [
            "val Loss: 3.8597 Acc: 0.2098\n",
            "train Loss: 4.2846 Acc: 0.1450\n"
          ]
        },
        {
          "name": "stderr",
          "output_type": "stream",
          "text": [
            " 21%|██        | 19/90 [1:27:51<5:48:59, 294.92s/it]"
          ]
        },
        {
          "name": "stdout",
          "output_type": "stream",
          "text": [
            "val Loss: 3.9653 Acc: 0.1975\n",
            "train Loss: 4.2366 Acc: 0.1487\n"
          ]
        },
        {
          "name": "stderr",
          "output_type": "stream",
          "text": [
            " 22%|██▏       | 20/90 [1:32:38<5:41:33, 292.77s/it]"
          ]
        },
        {
          "name": "stdout",
          "output_type": "stream",
          "text": [
            "val Loss: 3.8054 Acc: 0.2214\n",
            "train Loss: 4.2042 Acc: 0.1561\n"
          ]
        },
        {
          "name": "stderr",
          "output_type": "stream",
          "text": [
            " 23%|██▎       | 21/90 [1:37:31<5:36:30, 292.62s/it]"
          ]
        },
        {
          "name": "stdout",
          "output_type": "stream",
          "text": [
            "val Loss: 3.8591 Acc: 0.2107\n",
            "train Loss: 4.1740 Acc: 0.1565\n"
          ]
        },
        {
          "name": "stderr",
          "output_type": "stream",
          "text": [
            " 24%|██▍       | 22/90 [1:42:21<5:30:43, 291.82s/it]"
          ]
        },
        {
          "name": "stdout",
          "output_type": "stream",
          "text": [
            "val Loss: 3.8585 Acc: 0.2226\n",
            "train Loss: 4.0998 Acc: 0.1673\n"
          ]
        },
        {
          "name": "stderr",
          "output_type": "stream",
          "text": [
            " 26%|██▌       | 23/90 [1:47:04<5:23:13, 289.46s/it]"
          ]
        },
        {
          "name": "stdout",
          "output_type": "stream",
          "text": [
            "val Loss: 3.7206 Acc: 0.2430\n",
            "train Loss: 4.1002 Acc: 0.1747\n"
          ]
        },
        {
          "name": "stderr",
          "output_type": "stream",
          "text": [
            " 27%|██▋       | 24/90 [1:51:53<5:18:09, 289.24s/it]"
          ]
        },
        {
          "name": "stdout",
          "output_type": "stream",
          "text": [
            "val Loss: 3.6385 Acc: 0.2531\n",
            "train Loss: 4.0231 Acc: 0.1792\n"
          ]
        },
        {
          "name": "stderr",
          "output_type": "stream",
          "text": [
            " 28%|██▊       | 25/90 [1:56:49<5:15:26, 291.18s/it]"
          ]
        },
        {
          "name": "stdout",
          "output_type": "stream",
          "text": [
            "val Loss: 3.9330 Acc: 0.2113\n",
            "train Loss: 3.9919 Acc: 0.1848\n"
          ]
        },
        {
          "name": "stderr",
          "output_type": "stream",
          "text": [
            " 29%|██▉       | 26/90 [2:01:37<5:09:34, 290.23s/it]"
          ]
        },
        {
          "name": "stdout",
          "output_type": "stream",
          "text": [
            "val Loss: 3.7589 Acc: 0.2414\n",
            "train Loss: 3.9527 Acc: 0.1915\n"
          ]
        },
        {
          "name": "stderr",
          "output_type": "stream",
          "text": [
            " 30%|███       | 27/90 [2:06:59<5:14:40, 299.69s/it]"
          ]
        },
        {
          "name": "stdout",
          "output_type": "stream",
          "text": [
            "val Loss: 3.5573 Acc: 0.2616\n",
            "train Loss: 3.9102 Acc: 0.1979\n"
          ]
        },
        {
          "name": "stderr",
          "output_type": "stream",
          "text": [
            " 31%|███       | 28/90 [2:16:15<6:29:14, 376.68s/it]"
          ]
        },
        {
          "name": "stdout",
          "output_type": "stream",
          "text": [
            "val Loss: 3.6107 Acc: 0.2567\n",
            "train Loss: 3.8900 Acc: 0.2017\n"
          ]
        },
        {
          "name": "stderr",
          "output_type": "stream",
          "text": [
            " 32%|███▏      | 29/90 [2:22:29<6:22:05, 375.82s/it]"
          ]
        },
        {
          "name": "stdout",
          "output_type": "stream",
          "text": [
            "val Loss: 3.4547 Acc: 0.2796\n",
            "train Loss: 3.8495 Acc: 0.2037\n"
          ]
        },
        {
          "name": "stderr",
          "output_type": "stream",
          "text": [
            " 33%|███▎      | 30/90 [2:25:44<5:21:35, 321.59s/it]"
          ]
        },
        {
          "name": "stdout",
          "output_type": "stream",
          "text": [
            "val Loss: 3.4794 Acc: 0.2808\n",
            "train Loss: 3.8145 Acc: 0.2083\n"
          ]
        },
        {
          "name": "stderr",
          "output_type": "stream",
          "text": [
            " 34%|███▍      | 31/90 [2:29:10<4:42:13, 287.01s/it]"
          ]
        },
        {
          "name": "stdout",
          "output_type": "stream",
          "text": [
            "val Loss: 3.6012 Acc: 0.2567\n",
            "train Loss: 3.7552 Acc: 0.2175\n"
          ]
        },
        {
          "name": "stderr",
          "output_type": "stream",
          "text": [
            " 36%|███▌      | 32/90 [2:32:13<4:07:10, 255.70s/it]"
          ]
        },
        {
          "name": "stdout",
          "output_type": "stream",
          "text": [
            "val Loss: 3.5079 Acc: 0.2855\n",
            "train Loss: 3.7282 Acc: 0.2243\n"
          ]
        },
        {
          "name": "stderr",
          "output_type": "stream",
          "text": [
            " 37%|███▋      | 33/90 [2:35:16<3:42:10, 233.86s/it]"
          ]
        },
        {
          "name": "stdout",
          "output_type": "stream",
          "text": [
            "val Loss: 3.4308 Acc: 0.2844\n",
            "train Loss: 3.6782 Acc: 0.2346\n"
          ]
        },
        {
          "name": "stderr",
          "output_type": "stream",
          "text": [
            " 38%|███▊      | 34/90 [2:38:29<3:27:01, 221.81s/it]"
          ]
        },
        {
          "name": "stdout",
          "output_type": "stream",
          "text": [
            "val Loss: 3.6227 Acc: 0.2622\n",
            "train Loss: 3.6328 Acc: 0.2364\n"
          ]
        },
        {
          "name": "stderr",
          "output_type": "stream",
          "text": [
            " 39%|███▉      | 35/90 [2:41:43<3:15:35, 213.36s/it]"
          ]
        },
        {
          "name": "stdout",
          "output_type": "stream",
          "text": [
            "val Loss: 3.3801 Acc: 0.2929\n",
            "train Loss: 3.6161 Acc: 0.2405\n"
          ]
        },
        {
          "name": "stderr",
          "output_type": "stream",
          "text": [
            " 40%|████      | 36/90 [2:45:01<3:07:54, 208.79s/it]"
          ]
        },
        {
          "name": "stdout",
          "output_type": "stream",
          "text": [
            "val Loss: 3.5400 Acc: 0.2892\n",
            "train Loss: 3.5861 Acc: 0.2401\n"
          ]
        },
        {
          "name": "stderr",
          "output_type": "stream",
          "text": [
            " 41%|████      | 37/90 [2:48:20<3:01:41, 205.68s/it]"
          ]
        },
        {
          "name": "stdout",
          "output_type": "stream",
          "text": [
            "val Loss: 3.3144 Acc: 0.3124\n",
            "train Loss: 3.5344 Acc: 0.2518\n"
          ]
        },
        {
          "name": "stderr",
          "output_type": "stream",
          "text": [
            " 42%|████▏     | 38/90 [2:51:35<2:55:37, 202.64s/it]"
          ]
        },
        {
          "name": "stdout",
          "output_type": "stream",
          "text": [
            "val Loss: 3.2333 Acc: 0.3236\n",
            "train Loss: 3.5081 Acc: 0.2573\n"
          ]
        },
        {
          "name": "stderr",
          "output_type": "stream",
          "text": [
            " 43%|████▎     | 39/90 [2:54:54<2:51:11, 201.39s/it]"
          ]
        },
        {
          "name": "stdout",
          "output_type": "stream",
          "text": [
            "val Loss: 3.2805 Acc: 0.3223\n",
            "train Loss: 3.4606 Acc: 0.2687\n"
          ]
        },
        {
          "name": "stderr",
          "output_type": "stream",
          "text": [
            " 44%|████▍     | 40/90 [2:58:13<2:47:13, 200.68s/it]"
          ]
        },
        {
          "name": "stdout",
          "output_type": "stream",
          "text": [
            "val Loss: 3.1695 Acc: 0.3384\n",
            "train Loss: 3.4301 Acc: 0.2709\n"
          ]
        },
        {
          "name": "stderr",
          "output_type": "stream",
          "text": [
            " 46%|████▌     | 41/90 [3:01:42<2:46:03, 203.33s/it]"
          ]
        },
        {
          "name": "stdout",
          "output_type": "stream",
          "text": [
            "val Loss: 3.2320 Acc: 0.3287\n",
            "train Loss: 3.3855 Acc: 0.2808\n"
          ]
        },
        {
          "name": "stderr",
          "output_type": "stream",
          "text": [
            " 47%|████▋     | 42/90 [3:05:20<2:46:13, 207.77s/it]"
          ]
        },
        {
          "name": "stdout",
          "output_type": "stream",
          "text": [
            "val Loss: 3.3385 Acc: 0.3181\n",
            "train Loss: 3.3504 Acc: 0.2848\n"
          ]
        },
        {
          "name": "stderr",
          "output_type": "stream",
          "text": [
            " 48%|████▊     | 43/90 [3:08:30<2:38:23, 202.20s/it]"
          ]
        },
        {
          "name": "stdout",
          "output_type": "stream",
          "text": [
            "val Loss: 3.4244 Acc: 0.2985\n",
            "train Loss: 3.3137 Acc: 0.2914\n"
          ]
        },
        {
          "name": "stderr",
          "output_type": "stream",
          "text": [
            " 49%|████▉     | 44/90 [3:11:18<2:27:12, 192.02s/it]"
          ]
        },
        {
          "name": "stdout",
          "output_type": "stream",
          "text": [
            "val Loss: 3.3328 Acc: 0.3136\n",
            "train Loss: 3.2780 Acc: 0.3005\n"
          ]
        },
        {
          "name": "stderr",
          "output_type": "stream",
          "text": [
            " 50%|█████     | 45/90 [3:14:08<2:19:11, 185.59s/it]"
          ]
        },
        {
          "name": "stdout",
          "output_type": "stream",
          "text": [
            "val Loss: 3.1780 Acc: 0.3452\n",
            "train Loss: 3.2425 Acc: 0.3028\n"
          ]
        },
        {
          "name": "stderr",
          "output_type": "stream",
          "text": [
            " 51%|█████     | 46/90 [3:16:54<2:11:42, 179.59s/it]"
          ]
        },
        {
          "name": "stdout",
          "output_type": "stream",
          "text": [
            "val Loss: 3.2187 Acc: 0.3412\n",
            "train Loss: 3.2006 Acc: 0.3092\n"
          ]
        },
        {
          "name": "stderr",
          "output_type": "stream",
          "text": [
            " 52%|█████▏    | 47/90 [3:19:43<2:06:31, 176.55s/it]"
          ]
        },
        {
          "name": "stdout",
          "output_type": "stream",
          "text": [
            "val Loss: 3.1959 Acc: 0.3462\n",
            "train Loss: 3.1740 Acc: 0.3137\n"
          ]
        },
        {
          "name": "stderr",
          "output_type": "stream",
          "text": [
            " 53%|█████▎    | 48/90 [3:22:33<2:02:08, 174.50s/it]"
          ]
        },
        {
          "name": "stdout",
          "output_type": "stream",
          "text": [
            "val Loss: 3.1163 Acc: 0.3615\n",
            "train Loss: 3.1585 Acc: 0.3151\n"
          ]
        },
        {
          "name": "stderr",
          "output_type": "stream",
          "text": [
            " 54%|█████▍    | 49/90 [3:25:24<1:58:34, 173.52s/it]"
          ]
        },
        {
          "name": "stdout",
          "output_type": "stream",
          "text": [
            "val Loss: 3.0656 Acc: 0.3642\n",
            "train Loss: 3.1066 Acc: 0.3239\n"
          ]
        },
        {
          "name": "stderr",
          "output_type": "stream",
          "text": [
            " 56%|█████▌    | 50/90 [3:28:19<1:55:50, 173.76s/it]"
          ]
        },
        {
          "name": "stdout",
          "output_type": "stream",
          "text": [
            "val Loss: 3.1493 Acc: 0.3625\n",
            "train Loss: 3.0904 Acc: 0.3310\n"
          ]
        },
        {
          "name": "stderr",
          "output_type": "stream",
          "text": [
            " 57%|█████▋    | 51/90 [3:31:12<1:52:48, 173.56s/it]"
          ]
        },
        {
          "name": "stdout",
          "output_type": "stream",
          "text": [
            "val Loss: 3.1135 Acc: 0.3601\n",
            "train Loss: 3.0517 Acc: 0.3345\n"
          ]
        },
        {
          "name": "stderr",
          "output_type": "stream",
          "text": [
            " 58%|█████▊    | 52/90 [3:34:06<1:50:05, 173.83s/it]"
          ]
        },
        {
          "name": "stdout",
          "output_type": "stream",
          "text": [
            "val Loss: 3.2559 Acc: 0.3475\n",
            "train Loss: 2.9985 Acc: 0.3501\n"
          ]
        },
        {
          "name": "stderr",
          "output_type": "stream",
          "text": [
            " 59%|█████▉    | 53/90 [3:37:01<1:47:26, 174.23s/it]"
          ]
        },
        {
          "name": "stdout",
          "output_type": "stream",
          "text": [
            "val Loss: 3.0417 Acc: 0.3809\n",
            "train Loss: 2.9828 Acc: 0.3482\n"
          ]
        },
        {
          "name": "stderr",
          "output_type": "stream",
          "text": [
            " 60%|██████    | 54/90 [3:39:56<1:44:32, 174.24s/it]"
          ]
        },
        {
          "name": "stdout",
          "output_type": "stream",
          "text": [
            "val Loss: 3.0759 Acc: 0.3710\n",
            "train Loss: 2.9335 Acc: 0.3539\n"
          ]
        },
        {
          "name": "stderr",
          "output_type": "stream",
          "text": [
            " 61%|██████    | 55/90 [3:42:51<1:41:46, 174.46s/it]"
          ]
        },
        {
          "name": "stdout",
          "output_type": "stream",
          "text": [
            "val Loss: 3.0504 Acc: 0.3842\n",
            "train Loss: 2.8857 Acc: 0.3687\n"
          ]
        },
        {
          "name": "stderr",
          "output_type": "stream",
          "text": [
            " 62%|██████▏   | 56/90 [3:45:46<1:39:00, 174.72s/it]"
          ]
        },
        {
          "name": "stdout",
          "output_type": "stream",
          "text": [
            "val Loss: 3.1467 Acc: 0.3684\n",
            "train Loss: 2.8392 Acc: 0.3746\n"
          ]
        },
        {
          "name": "stderr",
          "output_type": "stream",
          "text": [
            " 63%|██████▎   | 57/90 [3:48:40<1:35:54, 174.38s/it]"
          ]
        },
        {
          "name": "stdout",
          "output_type": "stream",
          "text": [
            "val Loss: 3.0744 Acc: 0.3729\n",
            "train Loss: 2.8498 Acc: 0.3758\n"
          ]
        },
        {
          "name": "stderr",
          "output_type": "stream",
          "text": [
            " 64%|██████▍   | 58/90 [3:51:34<1:32:58, 174.33s/it]"
          ]
        },
        {
          "name": "stdout",
          "output_type": "stream",
          "text": [
            "val Loss: 3.0386 Acc: 0.3878\n",
            "train Loss: 2.8157 Acc: 0.3826\n"
          ]
        },
        {
          "name": "stderr",
          "output_type": "stream",
          "text": [
            " 66%|██████▌   | 59/90 [3:54:28<1:30:00, 174.22s/it]"
          ]
        },
        {
          "name": "stdout",
          "output_type": "stream",
          "text": [
            "val Loss: 3.0674 Acc: 0.3835\n",
            "train Loss: 2.8000 Acc: 0.3859\n"
          ]
        },
        {
          "name": "stderr",
          "output_type": "stream",
          "text": [
            " 67%|██████▋   | 60/90 [3:57:23<1:27:13, 174.45s/it]"
          ]
        },
        {
          "name": "stdout",
          "output_type": "stream",
          "text": [
            "val Loss: 3.0085 Acc: 0.3906\n",
            "train Loss: 2.7448 Acc: 0.3949\n"
          ]
        },
        {
          "name": "stderr",
          "output_type": "stream",
          "text": [
            " 68%|██████▊   | 61/90 [4:00:14<1:23:50, 173.46s/it]"
          ]
        },
        {
          "name": "stdout",
          "output_type": "stream",
          "text": [
            "val Loss: 3.0669 Acc: 0.3873\n",
            "train Loss: 2.7018 Acc: 0.4029\n"
          ]
        },
        {
          "name": "stderr",
          "output_type": "stream",
          "text": [
            " 69%|██████▉   | 62/90 [4:03:04<1:20:30, 172.53s/it]"
          ]
        },
        {
          "name": "stdout",
          "output_type": "stream",
          "text": [
            "val Loss: 3.0394 Acc: 0.3925\n",
            "train Loss: 2.7078 Acc: 0.4030\n"
          ]
        },
        {
          "name": "stderr",
          "output_type": "stream",
          "text": [
            " 70%|███████   | 63/90 [4:05:56<1:17:35, 172.41s/it]"
          ]
        },
        {
          "name": "stdout",
          "output_type": "stream",
          "text": [
            "val Loss: 3.0373 Acc: 0.3909\n",
            "train Loss: 2.6655 Acc: 0.4134\n"
          ]
        },
        {
          "name": "stderr",
          "output_type": "stream",
          "text": [
            " 71%|███████   | 64/90 [4:08:52<1:15:05, 173.30s/it]"
          ]
        },
        {
          "name": "stdout",
          "output_type": "stream",
          "text": [
            "val Loss: 2.9849 Acc: 0.4015\n",
            "train Loss: 2.6357 Acc: 0.4204\n"
          ]
        },
        {
          "name": "stderr",
          "output_type": "stream",
          "text": [
            " 72%|███████▏  | 65/90 [4:11:46<1:12:17, 173.51s/it]"
          ]
        },
        {
          "name": "stdout",
          "output_type": "stream",
          "text": [
            "val Loss: 2.9879 Acc: 0.4023\n",
            "train Loss: 2.6045 Acc: 0.4339\n"
          ]
        },
        {
          "name": "stderr",
          "output_type": "stream",
          "text": [
            " 73%|███████▎  | 66/90 [4:14:41<1:09:37, 174.07s/it]"
          ]
        },
        {
          "name": "stdout",
          "output_type": "stream",
          "text": [
            "val Loss: 2.9505 Acc: 0.4057\n",
            "train Loss: 2.5734 Acc: 0.4482\n"
          ]
        },
        {
          "name": "stderr",
          "output_type": "stream",
          "text": [
            " 74%|███████▍  | 67/90 [4:17:39<1:07:07, 175.11s/it]"
          ]
        },
        {
          "name": "stdout",
          "output_type": "stream",
          "text": [
            "val Loss: 2.9461 Acc: 0.4133\n",
            "train Loss: 2.5506 Acc: 0.4561\n"
          ]
        },
        {
          "name": "stderr",
          "output_type": "stream",
          "text": [
            " 76%|███████▌  | 68/90 [4:21:14<1:08:36, 187.12s/it]"
          ]
        },
        {
          "name": "stdout",
          "output_type": "stream",
          "text": [
            "val Loss: 2.9804 Acc: 0.4044\n",
            "train Loss: 2.5284 Acc: 0.4672\n"
          ]
        },
        {
          "name": "stderr",
          "output_type": "stream",
          "text": [
            " 77%|███████▋  | 69/90 [4:24:01<1:03:21, 181.05s/it]"
          ]
        },
        {
          "name": "stdout",
          "output_type": "stream",
          "text": [
            "val Loss: 2.9358 Acc: 0.4131\n",
            "train Loss: 2.4984 Acc: 0.4749\n"
          ]
        },
        {
          "name": "stderr",
          "output_type": "stream",
          "text": [
            " 78%|███████▊  | 70/90 [4:26:50<59:12, 177.62s/it]  "
          ]
        },
        {
          "name": "stdout",
          "output_type": "stream",
          "text": [
            "val Loss: 2.9139 Acc: 0.4158\n",
            "train Loss: 2.4823 Acc: 0.4829\n"
          ]
        },
        {
          "name": "stderr",
          "output_type": "stream",
          "text": [
            " 79%|███████▉  | 71/90 [4:29:45<56:00, 176.87s/it]"
          ]
        },
        {
          "name": "stdout",
          "output_type": "stream",
          "text": [
            "val Loss: 2.9021 Acc: 0.4203\n",
            "train Loss: 2.4719 Acc: 0.4871\n"
          ]
        },
        {
          "name": "stderr",
          "output_type": "stream",
          "text": [
            " 80%|████████  | 72/90 [4:32:41<52:55, 176.42s/it]"
          ]
        },
        {
          "name": "stdout",
          "output_type": "stream",
          "text": [
            "val Loss: 2.8981 Acc: 0.4256\n",
            "train Loss: 2.4489 Acc: 0.4901\n"
          ]
        },
        {
          "name": "stderr",
          "output_type": "stream",
          "text": [
            " 81%|████████  | 73/90 [4:35:36<49:55, 176.19s/it]"
          ]
        },
        {
          "name": "stdout",
          "output_type": "stream",
          "text": [
            "val Loss: 2.8852 Acc: 0.4394\n",
            "train Loss: 2.4387 Acc: 0.4923\n"
          ]
        },
        {
          "name": "stderr",
          "output_type": "stream",
          "text": [
            " 82%|████████▏ | 74/90 [4:38:31<46:53, 175.82s/it]"
          ]
        },
        {
          "name": "stdout",
          "output_type": "stream",
          "text": [
            "val Loss: 2.8761 Acc: 0.4439\n",
            "train Loss: 2.4067 Acc: 0.5001\n"
          ]
        },
        {
          "name": "stderr",
          "output_type": "stream",
          "text": [
            " 83%|████████▎ | 75/90 [4:41:28<43:59, 175.94s/it]"
          ]
        },
        {
          "name": "stdout",
          "output_type": "stream",
          "text": [
            "val Loss: 2.8698 Acc: 0.4589\n",
            "train Loss: 2.4136 Acc: 0.5078\n"
          ]
        },
        {
          "name": "stderr",
          "output_type": "stream",
          "text": [
            " 84%|████████▍ | 76/90 [4:44:28<41:23, 177.40s/it]"
          ]
        },
        {
          "name": "stdout",
          "output_type": "stream",
          "text": [
            "val Loss: 2.8611 Acc: 0.4603\n",
            "train Loss: 2.3989 Acc: 0.5103\n"
          ]
        },
        {
          "name": "stderr",
          "output_type": "stream",
          "text": [
            " 86%|████████▌ | 77/90 [4:47:19<37:58, 175.24s/it]"
          ]
        },
        {
          "name": "stdout",
          "output_type": "stream",
          "text": [
            "val Loss: 2.8503 Acc: 0.4728\n",
            "train Loss: 2.3871 Acc: 0.5147\n"
          ]
        },
        {
          "name": "stderr",
          "output_type": "stream",
          "text": [
            " 87%|████████▋ | 78/90 [4:50:10<34:48, 174.06s/it]"
          ]
        },
        {
          "name": "stdout",
          "output_type": "stream",
          "text": [
            "val Loss: 2.8471 Acc: 0.4887\n",
            "train Loss: 2.3731 Acc: 0.5237\n"
          ]
        },
        {
          "name": "stderr",
          "output_type": "stream",
          "text": [
            " 88%|████████▊ | 79/90 [4:53:28<33:15, 181.40s/it]"
          ]
        },
        {
          "name": "stdout",
          "output_type": "stream",
          "text": [
            "val Loss: 2.8367 Acc: 0.4956\n",
            "train Loss: 2.3587 Acc: 0.5367\n"
          ]
        },
        {
          "name": "stderr",
          "output_type": "stream",
          "text": [
            " 89%|████████▉ | 80/90 [4:56:47<31:04, 186.42s/it]"
          ]
        },
        {
          "name": "stdout",
          "output_type": "stream",
          "text": [
            "val Loss: 2.8245 Acc: 0.5090\n",
            "train Loss: 2.3513 Acc: 0.5471\n"
          ]
        },
        {
          "name": "stderr",
          "output_type": "stream",
          "text": [
            " 90%|█████████ | 81/90 [5:00:03<28:25, 189.51s/it]"
          ]
        },
        {
          "name": "stdout",
          "output_type": "stream",
          "text": [
            "val Loss: 2.8134 Acc: 0.5183\n",
            "train Loss: 2.3501 Acc: 0.5560\n"
          ]
        },
        {
          "name": "stderr",
          "output_type": "stream",
          "text": [
            " 91%|█████████ | 82/90 [5:03:36<26:12, 196.52s/it]"
          ]
        },
        {
          "name": "stdout",
          "output_type": "stream",
          "text": [
            "val Loss: 2.8003 Acc: 0.5384\n",
            "train Loss: 2.3398 Acc: 0.5601\n"
          ]
        },
        {
          "name": "stderr",
          "output_type": "stream",
          "text": [
            " 92%|█████████▏| 83/90 [5:07:12<23:35, 202.22s/it]"
          ]
        },
        {
          "name": "stdout",
          "output_type": "stream",
          "text": [
            "val Loss: 2.7998 Acc: 0.5467\n",
            "train Loss: 2.3356 Acc: 0.5756\n"
          ]
        },
        {
          "name": "stderr",
          "output_type": "stream",
          "text": [
            " 93%|█████████▎| 84/90 [5:11:01<21:01, 210.25s/it]"
          ]
        },
        {
          "name": "stdout",
          "output_type": "stream",
          "text": [
            "val Loss: 2.7545 Acc: 0.5582\n",
            "train Loss: 2.3301 Acc: 0.5831\n"
          ]
        },
        {
          "name": "stderr",
          "output_type": "stream",
          "text": [
            " 94%|█████████▍| 85/90 [5:15:37<19:10, 230.01s/it]"
          ]
        },
        {
          "name": "stdout",
          "output_type": "stream",
          "text": [
            "val Loss: 2.7045 Acc: 0.5621\n",
            "train Loss: 2.3284 Acc: 0.5977\n"
          ]
        },
        {
          "name": "stderr",
          "output_type": "stream",
          "text": [
            " 96%|█████████▌| 86/90 [5:18:59<14:47, 221.78s/it]"
          ]
        },
        {
          "name": "stdout",
          "output_type": "stream",
          "text": [
            "val Loss: 2.6981 Acc: 0.5698\n",
            "train Loss: 2.3246 Acc: 0.6045\n"
          ]
        },
        {
          "name": "stderr",
          "output_type": "stream",
          "text": [
            " 97%|█████████▋| 87/90 [5:22:38<11:02, 220.84s/it]"
          ]
        },
        {
          "name": "stdout",
          "output_type": "stream",
          "text": [
            "val Loss: 2.6827 Acc: 0.5742\n",
            "train Loss: 2.3210 Acc: 0.6103\n"
          ]
        },
        {
          "name": "stderr",
          "output_type": "stream",
          "text": [
            " 98%|█████████▊| 88/90 [5:26:07<07:14, 217.22s/it]"
          ]
        },
        {
          "name": "stdout",
          "output_type": "stream",
          "text": [
            "val Loss: 2.6532 Acc: 0.5882\n",
            "train Loss: 2.3178 Acc: 0.6251\n"
          ]
        },
        {
          "name": "stderr",
          "output_type": "stream",
          "text": [
            " 99%|█████████▉| 89/90 [5:29:39<03:35, 215.79s/it]"
          ]
        },
        {
          "name": "stdout",
          "output_type": "stream",
          "text": [
            "val Loss: 2.5164 Acc: 0.5901\n",
            "train Loss: 2.3128 Acc: 0.6450\n"
          ]
        },
        {
          "name": "stderr",
          "output_type": "stream",
          "text": [
            "100%|██████████| 90/90 [5:33:32<00:00, 222.36s/it]"
          ]
        },
        {
          "name": "stdout",
          "output_type": "stream",
          "text": [
            "val Loss: 2.4322 Acc: 0.5983\n"
          ]
        },
        {
          "name": "stderr",
          "output_type": "stream",
          "text": [
            "\n"
          ]
        }
      ],
      "source": [
        "from torch import optim\n",
        "from torch.optim import lr_scheduler\n",
        "import copy\n",
        "device = torch.device(\"cuda:0\" if torch.cuda.is_available() else \"cpu\")\n",
        "print(device)\n",
        "\n",
        "model = models.resnet18()\n",
        "model_ft = model.to(device)\n",
        "criterion = torch.nn.CrossEntropyLoss()\n",
        "optimizer = torch.optim.SGD(model.parameters(), lr=0.1, momentum=0.9)\n",
        "scheduler = lr_scheduler.CosineAnnealingLR(optimizer, T_max=80)\n",
        "\n",
        "best_model_wts = copy.deepcopy(model.state_dict())\n",
        "best_acc = 0.0\n",
        "num_epochs = 90\n",
        "\n",
        "for epoch in tqdm.tqdm(range(num_epochs)):\n",
        "  if best_acc > 0.6:\n",
        "    break\n",
        "  for phase in ['train', 'val']:\n",
        "    if phase == 'train':\n",
        "        model.train()\n",
        "        d = data_train\n",
        "    else:\n",
        "        model.eval()\n",
        "        d = data_val\n",
        "    l_loss = []\n",
        "    l_acc = []\n",
        "    for inputs, labels in d:\n",
        "        inputs = inputs.to(device)\n",
        "        labels = labels.to(device)\n",
        "\n",
        "        optimizer.zero_grad()\n",
        "\n",
        "        with torch.set_grad_enabled(phase == 'train'):\n",
        "            outputs = model(inputs)\n",
        "            _, preds = torch.max(outputs, 1)\n",
        "            loss = criterion(outputs, labels)\n",
        "\n",
        "            if phase == 'train':\n",
        "                loss.backward()\n",
        "                optimizer.step()\n",
        "\n",
        "        l_loss += [loss.item()]\n",
        "        l_acc += [torch.sum(preds == labels.data).item() / len(preds)]\n",
        "\n",
        "    if phase == 'train':\n",
        "        scheduler.step()\n",
        "\n",
        "    epoch_loss = sum(l_loss) / len(l_loss)\n",
        "    epoch_acc = sum(l_acc) / len(l_acc)\n",
        "\n",
        "    print(f'{phase} Loss: {epoch_loss:.4f} Acc: {epoch_acc:.4f}')\n",
        "\n",
        "    if phase == 'val' and epoch_acc > best_acc:\n",
        "        best_acc = epoch_acc\n",
        "        best_model_wts = copy.deepcopy(model.state_dict())\n",
        "  \n",
        "\n",
        "model.load_state_dict(best_model_wts)"
      ]
    },
    {
      "cell_type": "markdown",
      "metadata": {
        "id": "MXd8rXu1yoGQ"
      },
      "source": [
        "ONNX формат, проверка совпадения результатов"
      ]
    },
    {
      "cell_type": "code",
      "execution_count": null,
      "metadata": {
        "id": "hUexFv8FAzOJ"
      },
      "outputs": [],
      "source": [
        "model.eval() \n",
        "\n",
        "# Let's create a dummy input tensor  \n",
        "dummy_input = torch.randn(10, 3, 224, 224, device=\"cuda\")  \n",
        "\n",
        "# Export the model   \n",
        "torch.onnx.export(model,                                 # model being run \n",
        "      dummy_input,                                        # model input (or a tuple for multiple inputs) \n",
        "      'resnet18.onnx',                                          # where to save the model  \n",
        "      export_params=True,                                 # store the trained parameter weights inside the model file \n",
        "      opset_version=10,                                   # the ONNX version to export the model to \n",
        "      do_constant_folding=True,                           # whether to execute constant folding for optimization \n",
        "      input_names = ['modelInput'],                       # the model's input names \n",
        "      output_names = ['modelOutput'],                     # the model's output names \n",
        "      dynamic_axes={'modelInput' : {0 : 'batch_size'},    # variable length axes \n",
        "                            'modelOutput' : {0 : 'batch_size'}}) \n"
      ]
    },
    {
      "cell_type": "code",
      "execution_count": null,
      "metadata": {
        "id": "02gIRVh_lAVs"
      },
      "outputs": [],
      "source": [
        "model_onnx = onnx.load(\"resnet18.onnx\")\n",
        "onnx.checker.check_model(model_onnx)"
      ]
    },
    {
      "cell_type": "code",
      "execution_count": null,
      "metadata": {
        "id": "emTKIfpslAOB"
      },
      "outputs": [],
      "source": [
        "x = torch.randn(bs, 3, 224, 224, requires_grad=True).to(device)\n",
        "torch_out = model(x)\n",
        "\n",
        "ort_session = ort.InferenceSession('resnet18.onnx')\n",
        "\n",
        "def to_numpy(tensor):\n",
        "    return tensor.detach().cpu().numpy() if tensor.requires_grad else tensor.cpu().numpy()\n",
        "\n",
        "# compute ONNX Runtime output prediction\n",
        "ort_inputs = {ort_session.get_inputs()[0].name: to_numpy(x)}\n",
        "ort_outs = ort_session.run(None, ort_inputs)\n",
        "\n",
        "# compare ONNX Runtime and PyTorch results\n",
        "np.testing.assert_allclose(to_numpy(torch_out), ort_outs[0], rtol=1e-03, atol=1e-05)"
      ]
    },
    {
      "cell_type": "markdown",
      "metadata": {
        "id": "NJvcSj0HyoGU"
      },
      "source": [
        "Структура модели ResNet"
      ]
    },
    {
      "cell_type": "code",
      "execution_count": null,
      "metadata": {
        "id": "_yJewf85wqhK"
      },
      "outputs": [],
      "source": [
        "class ResnetBlock(torch.nn.Module):\n",
        "    def __init__(self, in_channels, out_channels):\n",
        "        super(ResnetBlock, self).__init__()\n",
        "        self.conv1 = torch.nn.Conv2d(in_channels, out_channels, kernel_size=3, stride=(1 + (in_channels != out_channels)), padding=1, bias=False)\n",
        "        self.bn1 = torch.nn.BatchNorm2d(out_channels)\n",
        "        self.relu = torch.nn.ReLU(True)\n",
        "        self.conv2 = torch.nn.Conv2d(out_channels, out_channels, kernel_size=3, stride=1, padding=1, bias=False)\n",
        "        self.bn2 = torch.nn.BatchNorm2d(out_channels)\n",
        "        self.downsample = None\n",
        "        if in_channels != out_channels:\n",
        "            self.downsample = torch.nn.Sequential(\n",
        "                torch.nn.Conv2d(in_channels, out_channels, kernel_size=1, stride=2, bias=False),\n",
        "                torch.nn.BatchNorm2d(out_channels)\n",
        "            )\n",
        "\n",
        "    def forward(self, x):\n",
        "        out = self.relu(self.bn1(self.conv1(x)))\n",
        "        out = self.bn2(self.conv2(out))\n",
        "        if self.downsample is not None:\n",
        "            x = self.downsample(x)\n",
        "        return self.relu(x + out)\n",
        "    \n",
        "class Resnet18(torch.nn.Module):\n",
        "    def __init__(self, num_classes):\n",
        "        super(Resnet18, self).__init__()\n",
        "        self.conv1 = torch.nn.Conv2d(3, 64, kernel_size=7, stride=2, padding=3, bias=False)\n",
        "        self.bn1 = torch.nn.BatchNorm2d(64)\n",
        "        self.relu = torch.nn.ReLU(True)\n",
        "        self.maxpool = torch.nn.MaxPool2d(kernel_size=3, stride=2, padding=1)\n",
        "\n",
        "        self.layer1 = torch.nn.Sequential(\n",
        "            ResnetBlock(64, 64),\n",
        "            ResnetBlock(64, 64)\n",
        "        )\n",
        "        self.layer2 = torch.nn.Sequential(\n",
        "            ResnetBlock(64, 128),\n",
        "            ResnetBlock(128, 128)\n",
        "        )\n",
        "        self.layer3 = torch.nn.Sequential(\n",
        "            ResnetBlock(128, 256),\n",
        "            ResnetBlock(256, 256)\n",
        "        )\n",
        "        self.layer4 = torch.nn.Sequential(\n",
        "            ResnetBlock(256, 512),\n",
        "            ResnetBlock(512, 512)\n",
        "        )\n",
        "\n",
        "        self.avgpool = torch.nn.AdaptiveAvgPool2d(output_size=(1, 1))\n",
        "        self.fc = torch.nn.Linear(512, num_classes)\n",
        "\n",
        "    def forward(self, x):\n",
        "        x = self.relu(self.bn1(self.conv1(x)))\n",
        "        x = self.maxpool(x)\n",
        "\n",
        "        x = self.layer1(x)\n",
        "        x = self.layer2(x)\n",
        "        x = self.layer3(x)\n",
        "        x = self.layer4(x)\n",
        "        \n",
        "        x = self.avgpool(x)\n",
        "        return self.fc(x.flatten(1))"
      ]
    },
    {
      "cell_type": "markdown",
      "metadata": {
        "id": "y-ZEYsGIyoGV"
      },
      "source": [
        "Обучение модели"
      ]
    },
    {
      "cell_type": "code",
      "execution_count": null,
      "metadata": {
        "id": "PLLHSnxvx5nM",
        "outputId": "037a452c-2b33-466f-8361-001fe97413d7"
      },
      "outputs": [
        {
          "name": "stderr",
          "output_type": "stream",
          "text": [
            "  1%|▏         | 1/75 [01:26<1:46:06, 86.03s/it]"
          ]
        },
        {
          "name": "stdout",
          "output_type": "stream",
          "text": [
            "Train Loss: 5.5323 Acc: 0.0104\n",
            "Val Loss: 5.3806 Acc: 0.0193\n"
          ]
        },
        {
          "name": "stderr",
          "output_type": "stream",
          "text": [
            "  3%|▎         | 2/75 [02:48<1:42:01, 83.85s/it]"
          ]
        },
        {
          "name": "stdout",
          "output_type": "stream",
          "text": [
            "Train Loss: 5.3387 Acc: 0.0217\n",
            "Val Loss: 5.1548 Acc: 0.0430\n"
          ]
        },
        {
          "name": "stderr",
          "output_type": "stream",
          "text": [
            "  4%|▍         | 3/75 [04:13<1:41:26, 84.53s/it]"
          ]
        },
        {
          "name": "stdout",
          "output_type": "stream",
          "text": [
            "Train Loss: 5.2285 Acc: 0.0335\n",
            "Val Loss: 5.2182 Acc: 0.0357\n"
          ]
        },
        {
          "name": "stderr",
          "output_type": "stream",
          "text": [
            "  5%|▌         | 4/75 [05:36<1:39:16, 83.89s/it]"
          ]
        },
        {
          "name": "stdout",
          "output_type": "stream",
          "text": [
            "Train Loss: 5.1198 Acc: 0.0444\n",
            "Val Loss: 5.0047 Acc: 0.0662\n"
          ]
        },
        {
          "name": "stderr",
          "output_type": "stream",
          "text": [
            "  7%|▋         | 5/75 [07:00<1:38:04, 84.06s/it]"
          ]
        },
        {
          "name": "stdout",
          "output_type": "stream",
          "text": [
            "Train Loss: 5.0210 Acc: 0.0575\n",
            "Val Loss: 5.0206 Acc: 0.0699\n"
          ]
        },
        {
          "name": "stderr",
          "output_type": "stream",
          "text": [
            "  8%|▊         | 6/75 [08:23<1:36:13, 83.67s/it]"
          ]
        },
        {
          "name": "stdout",
          "output_type": "stream",
          "text": [
            "Train Loss: 4.9331 Acc: 0.0716\n",
            "Val Loss: 4.7420 Acc: 0.1053\n"
          ]
        },
        {
          "name": "stderr",
          "output_type": "stream",
          "text": [
            "  9%|▉         | 7/75 [09:46<1:34:24, 83.30s/it]"
          ]
        },
        {
          "name": "stdout",
          "output_type": "stream",
          "text": [
            "Train Loss: 4.8240 Acc: 0.0863\n",
            "Val Loss: 4.7978 Acc: 0.1177\n"
          ]
        },
        {
          "name": "stderr",
          "output_type": "stream",
          "text": [
            " 11%|█         | 8/75 [11:13<1:34:25, 84.56s/it]"
          ]
        },
        {
          "name": "stdout",
          "output_type": "stream",
          "text": [
            "Train Loss: 4.7363 Acc: 0.1000\n",
            "Val Loss: 4.4149 Acc: 0.1576\n"
          ]
        },
        {
          "name": "stderr",
          "output_type": "stream",
          "text": [
            " 12%|█▏        | 9/75 [12:40<1:33:43, 85.20s/it]"
          ]
        },
        {
          "name": "stdout",
          "output_type": "stream",
          "text": [
            "Train Loss: 4.6620 Acc: 0.1148\n",
            "Val Loss: 4.2923 Acc: 0.1931\n"
          ]
        },
        {
          "name": "stderr",
          "output_type": "stream",
          "text": [
            " 13%|█▎        | 10/75 [14:05<1:32:26, 85.33s/it]"
          ]
        },
        {
          "name": "stdout",
          "output_type": "stream",
          "text": [
            "Train Loss: 4.5761 Acc: 0.1285\n",
            "Val Loss: 4.2028 Acc: 0.2015\n"
          ]
        },
        {
          "name": "stderr",
          "output_type": "stream",
          "text": [
            " 15%|█▍        | 11/75 [15:31<1:31:06, 85.41s/it]"
          ]
        },
        {
          "name": "stdout",
          "output_type": "stream",
          "text": [
            "Train Loss: 4.4481 Acc: 0.1450\n",
            "Val Loss: 4.1473 Acc: 0.2177\n"
          ]
        },
        {
          "name": "stderr",
          "output_type": "stream",
          "text": [
            " 16%|█▌        | 12/75 [16:56<1:29:39, 85.39s/it]"
          ]
        },
        {
          "name": "stdout",
          "output_type": "stream",
          "text": [
            "Train Loss: 4.3835 Acc: 0.1614\n",
            "Val Loss: 4.0056 Acc: 0.2460\n"
          ]
        },
        {
          "name": "stderr",
          "output_type": "stream",
          "text": [
            " 17%|█▋        | 13/75 [18:22<1:28:17, 85.45s/it]"
          ]
        },
        {
          "name": "stdout",
          "output_type": "stream",
          "text": [
            "Train Loss: 4.2926 Acc: 0.1779\n",
            "Val Loss: 3.8884 Acc: 0.2694\n"
          ]
        },
        {
          "name": "stderr",
          "output_type": "stream",
          "text": [
            " 19%|█▊        | 14/75 [19:45<1:25:59, 84.58s/it]"
          ]
        },
        {
          "name": "stdout",
          "output_type": "stream",
          "text": [
            "Train Loss: 4.1750 Acc: 0.2016\n",
            "Val Loss: 3.9919 Acc: 0.2537\n"
          ]
        },
        {
          "name": "stderr",
          "output_type": "stream",
          "text": [
            " 20%|█▉        | 15/75 [21:09<1:24:38, 84.63s/it]"
          ]
        },
        {
          "name": "stdout",
          "output_type": "stream",
          "text": [
            "Train Loss: 4.0577 Acc: 0.2206\n",
            "Val Loss: 3.8287 Acc: 0.2885\n"
          ]
        },
        {
          "name": "stderr",
          "output_type": "stream",
          "text": [
            " 21%|██        | 16/75 [22:34<1:23:16, 84.69s/it]"
          ]
        },
        {
          "name": "stdout",
          "output_type": "stream",
          "text": [
            "Train Loss: 3.9858 Acc: 0.2362\n",
            "Val Loss: 3.8828 Acc: 0.2641\n"
          ]
        },
        {
          "name": "stderr",
          "output_type": "stream",
          "text": [
            " 23%|██▏       | 17/75 [23:53<1:20:17, 83.06s/it]"
          ]
        },
        {
          "name": "stdout",
          "output_type": "stream",
          "text": [
            "Train Loss: 3.9023 Acc: 0.2595\n",
            "Val Loss: 3.7143 Acc: 0.3050\n"
          ]
        },
        {
          "name": "stderr",
          "output_type": "stream",
          "text": [
            " 24%|██▎       | 18/75 [25:12<1:17:46, 81.88s/it]"
          ]
        },
        {
          "name": "stdout",
          "output_type": "stream",
          "text": [
            "Train Loss: 3.7760 Acc: 0.2766\n",
            "Val Loss: 3.6209 Acc: 0.3190\n"
          ]
        },
        {
          "name": "stderr",
          "output_type": "stream",
          "text": [
            " 25%|██▍       | 19/75 [26:34<1:16:14, 81.69s/it]"
          ]
        },
        {
          "name": "stdout",
          "output_type": "stream",
          "text": [
            "Train Loss: 3.7466 Acc: 0.2894\n",
            "Val Loss: 3.6141 Acc: 0.3224\n"
          ]
        },
        {
          "name": "stderr",
          "output_type": "stream",
          "text": [
            " 27%|██▌       | 20/75 [28:00<1:16:10, 83.10s/it]"
          ]
        },
        {
          "name": "stdout",
          "output_type": "stream",
          "text": [
            "Train Loss: 3.6398 Acc: 0.3160\n",
            "Val Loss: 3.5889 Acc: 0.3454\n"
          ]
        },
        {
          "name": "stderr",
          "output_type": "stream",
          "text": [
            " 28%|██▋       | 21/75 [29:26<1:15:25, 83.80s/it]"
          ]
        },
        {
          "name": "stdout",
          "output_type": "stream",
          "text": [
            "Train Loss: 3.6029 Acc: 0.3255\n",
            "Val Loss: 3.4019 Acc: 0.3826\n"
          ]
        },
        {
          "name": "stderr",
          "output_type": "stream",
          "text": [
            " 29%|██▊       | 22/75 [30:51<1:14:20, 84.17s/it]"
          ]
        },
        {
          "name": "stdout",
          "output_type": "stream",
          "text": [
            "Train Loss: 3.5397 Acc: 0.3422\n",
            "Val Loss: 3.5941 Acc: 0.3378\n"
          ]
        },
        {
          "name": "stderr",
          "output_type": "stream",
          "text": [
            " 31%|███       | 23/75 [32:16<1:13:19, 84.60s/it]"
          ]
        },
        {
          "name": "stdout",
          "output_type": "stream",
          "text": [
            "Train Loss: 3.4948 Acc: 0.3487\n",
            "Val Loss: 3.3483 Acc: 0.3944\n"
          ]
        },
        {
          "name": "stderr",
          "output_type": "stream",
          "text": [
            " 32%|███▏      | 24/75 [33:39<1:11:20, 83.94s/it]"
          ]
        },
        {
          "name": "stdout",
          "output_type": "stream",
          "text": [
            "Train Loss: 3.3116 Acc: 0.3897\n",
            "Val Loss: 3.2767 Acc: 0.4110\n"
          ]
        },
        {
          "name": "stderr",
          "output_type": "stream",
          "text": [
            " 33%|███▎      | 25/75 [34:57<1:08:34, 82.30s/it]"
          ]
        },
        {
          "name": "stdout",
          "output_type": "stream",
          "text": [
            "Train Loss: 3.2642 Acc: 0.4002\n",
            "Val Loss: 3.2631 Acc: 0.4110\n"
          ]
        },
        {
          "name": "stderr",
          "output_type": "stream",
          "text": [
            " 35%|███▍      | 26/75 [36:16<1:06:20, 81.24s/it]"
          ]
        },
        {
          "name": "stdout",
          "output_type": "stream",
          "text": [
            "Train Loss: 3.2613 Acc: 0.3986\n",
            "Val Loss: 3.3356 Acc: 0.4031\n"
          ]
        },
        {
          "name": "stderr",
          "output_type": "stream",
          "text": [
            " 36%|███▌      | 27/75 [37:37<1:04:59, 81.24s/it]"
          ]
        },
        {
          "name": "stdout",
          "output_type": "stream",
          "text": [
            "Train Loss: 3.1602 Acc: 0.4254\n",
            "Val Loss: 3.2475 Acc: 0.4229\n"
          ]
        },
        {
          "name": "stderr",
          "output_type": "stream",
          "text": [
            " 37%|███▋      | 28/75 [38:58<1:03:30, 81.08s/it]"
          ]
        },
        {
          "name": "stdout",
          "output_type": "stream",
          "text": [
            "Train Loss: 3.0942 Acc: 0.4459\n",
            "Val Loss: 3.1515 Acc: 0.4408\n"
          ]
        },
        {
          "name": "stderr",
          "output_type": "stream",
          "text": [
            " 39%|███▊      | 29/75 [40:19<1:02:08, 81.05s/it]"
          ]
        },
        {
          "name": "stdout",
          "output_type": "stream",
          "text": [
            "Train Loss: 3.0378 Acc: 0.4622\n",
            "Val Loss: 3.4608 Acc: 0.3779\n"
          ]
        },
        {
          "name": "stderr",
          "output_type": "stream",
          "text": [
            " 40%|███▉      | 30/75 [41:38<1:00:21, 80.47s/it]"
          ]
        },
        {
          "name": "stdout",
          "output_type": "stream",
          "text": [
            "Train Loss: 3.0467 Acc: 0.4584\n",
            "Val Loss: 3.1222 Acc: 0.4645\n"
          ]
        },
        {
          "name": "stderr",
          "output_type": "stream",
          "text": [
            " 41%|████      | 31/75 [43:01<59:35, 81.26s/it]  "
          ]
        },
        {
          "name": "stdout",
          "output_type": "stream",
          "text": [
            "Train Loss: 2.9701 Acc: 0.4818\n",
            "Val Loss: 3.0622 Acc: 0.4594\n"
          ]
        },
        {
          "name": "stderr",
          "output_type": "stream",
          "text": [
            " 43%|████      | 32/75 [44:28<59:31, 83.06s/it]"
          ]
        },
        {
          "name": "stdout",
          "output_type": "stream",
          "text": [
            "Train Loss: 2.9606 Acc: 0.4887\n",
            "Val Loss: 3.0459 Acc: 0.4684\n"
          ]
        },
        {
          "name": "stderr",
          "output_type": "stream",
          "text": [
            " 44%|████▏     | 33/75 [45:52<58:11, 83.13s/it]"
          ]
        },
        {
          "name": "stdout",
          "output_type": "stream",
          "text": [
            "Train Loss: 2.9097 Acc: 0.4992\n",
            "Val Loss: 3.0558 Acc: 0.4724\n"
          ]
        },
        {
          "name": "stderr",
          "output_type": "stream",
          "text": [
            " 45%|████▍     | 34/75 [47:10<55:48, 81.67s/it]"
          ]
        },
        {
          "name": "stdout",
          "output_type": "stream",
          "text": [
            "Train Loss: 2.8620 Acc: 0.5087\n",
            "Val Loss: 3.0158 Acc: 0.4852\n"
          ]
        },
        {
          "name": "stderr",
          "output_type": "stream",
          "text": [
            " 47%|████▌     | 35/75 [48:28<53:40, 80.52s/it]"
          ]
        },
        {
          "name": "stdout",
          "output_type": "stream",
          "text": [
            "Train Loss: 2.7361 Acc: 0.5372\n",
            "Val Loss: 3.0407 Acc: 0.4858\n"
          ]
        },
        {
          "name": "stderr",
          "output_type": "stream",
          "text": [
            " 48%|████▋     | 36/75 [49:45<51:46, 79.67s/it]"
          ]
        },
        {
          "name": "stdout",
          "output_type": "stream",
          "text": [
            "Train Loss: 2.7393 Acc: 0.5424\n",
            "Val Loss: 2.9682 Acc: 0.5002\n"
          ]
        },
        {
          "name": "stderr",
          "output_type": "stream",
          "text": [
            " 49%|████▉     | 37/75 [51:03<50:08, 79.18s/it]"
          ]
        },
        {
          "name": "stdout",
          "output_type": "stream",
          "text": [
            "Train Loss: 2.6196 Acc: 0.5693\n",
            "Val Loss: 3.0204 Acc: 0.4800\n"
          ]
        },
        {
          "name": "stderr",
          "output_type": "stream",
          "text": [
            " 51%|█████     | 38/75 [52:24<49:08, 79.70s/it]"
          ]
        },
        {
          "name": "stdout",
          "output_type": "stream",
          "text": [
            "Train Loss: 2.6296 Acc: 0.5713\n",
            "Val Loss: 2.8791 Acc: 0.5189\n"
          ]
        },
        {
          "name": "stderr",
          "output_type": "stream",
          "text": [
            " 52%|█████     | 39/75 [53:46<48:13, 80.39s/it]"
          ]
        },
        {
          "name": "stdout",
          "output_type": "stream",
          "text": [
            "Train Loss: 2.5765 Acc: 0.5796\n",
            "Val Loss: 2.9788 Acc: 0.4957\n"
          ]
        },
        {
          "name": "stderr",
          "output_type": "stream",
          "text": [
            " 53%|█████▎    | 40/75 [55:12<47:47, 81.93s/it]"
          ]
        },
        {
          "name": "stdout",
          "output_type": "stream",
          "text": [
            "Train Loss: 2.5672 Acc: 0.5927\n",
            "Val Loss: 2.8887 Acc: 0.5164\n"
          ]
        },
        {
          "name": "stderr",
          "output_type": "stream",
          "text": [
            " 55%|█████▍    | 41/75 [56:38<47:07, 83.16s/it]"
          ]
        },
        {
          "name": "stdout",
          "output_type": "stream",
          "text": [
            "Train Loss: 2.4810 Acc: 0.6156\n",
            "Val Loss: 2.9536 Acc: 0.5084\n"
          ]
        },
        {
          "name": "stderr",
          "output_type": "stream",
          "text": [
            " 56%|█████▌    | 42/75 [58:02<45:52, 83.42s/it]"
          ]
        },
        {
          "name": "stdout",
          "output_type": "stream",
          "text": [
            "Train Loss: 2.4621 Acc: 0.6208\n",
            "Val Loss: 2.9257 Acc: 0.5206\n"
          ]
        },
        {
          "name": "stderr",
          "output_type": "stream",
          "text": [
            " 57%|█████▊    | 43/75 [59:26<44:40, 83.75s/it]"
          ]
        },
        {
          "name": "stdout",
          "output_type": "stream",
          "text": [
            "Train Loss: 2.4402 Acc: 0.6224\n",
            "Val Loss: 2.8573 Acc: 0.5334\n"
          ]
        },
        {
          "name": "stderr",
          "output_type": "stream",
          "text": [
            " 59%|█████▉    | 44/75 [1:00:52<43:30, 84.20s/it]"
          ]
        },
        {
          "name": "stdout",
          "output_type": "stream",
          "text": [
            "Train Loss: 2.3765 Acc: 0.6402\n",
            "Val Loss: 2.8130 Acc: 0.5415\n"
          ]
        },
        {
          "name": "stderr",
          "output_type": "stream",
          "text": [
            " 60%|██████    | 45/75 [1:02:17<42:19, 84.64s/it]"
          ]
        },
        {
          "name": "stdout",
          "output_type": "stream",
          "text": [
            "Train Loss: 2.3675 Acc: 0.6474\n",
            "Val Loss: 2.8504 Acc: 0.5254\n"
          ]
        },
        {
          "name": "stderr",
          "output_type": "stream",
          "text": [
            " 61%|██████    | 46/75 [1:03:44<41:08, 85.13s/it]"
          ]
        },
        {
          "name": "stdout",
          "output_type": "stream",
          "text": [
            "Train Loss: 2.2875 Acc: 0.6659\n",
            "Val Loss: 2.7814 Acc: 0.5421\n"
          ]
        },
        {
          "name": "stderr",
          "output_type": "stream",
          "text": [
            " 63%|██████▏   | 47/75 [1:05:05<39:11, 83.99s/it]"
          ]
        },
        {
          "name": "stdout",
          "output_type": "stream",
          "text": [
            "Train Loss: 2.2742 Acc: 0.6774\n",
            "Val Loss: 2.8241 Acc: 0.5415\n"
          ]
        },
        {
          "name": "stderr",
          "output_type": "stream",
          "text": [
            " 64%|██████▎   | 48/75 [1:06:25<37:17, 82.88s/it]"
          ]
        },
        {
          "name": "stdout",
          "output_type": "stream",
          "text": [
            "Train Loss: 2.1802 Acc: 0.7026\n",
            "Val Loss: 2.8179 Acc: 0.5437\n"
          ]
        },
        {
          "name": "stderr",
          "output_type": "stream",
          "text": [
            " 65%|██████▌   | 49/75 [1:07:45<35:32, 82.03s/it]"
          ]
        },
        {
          "name": "stdout",
          "output_type": "stream",
          "text": [
            "Train Loss: 2.3208 Acc: 0.6700\n",
            "Val Loss: 2.7502 Acc: 0.5527\n"
          ]
        },
        {
          "name": "stderr",
          "output_type": "stream",
          "text": [
            " 67%|██████▋   | 50/75 [1:09:05<33:53, 81.35s/it]"
          ]
        },
        {
          "name": "stdout",
          "output_type": "stream",
          "text": [
            "Train Loss: 2.1892 Acc: 0.6998\n",
            "Val Loss: 2.7258 Acc: 0.5635\n"
          ]
        },
        {
          "name": "stderr",
          "output_type": "stream",
          "text": [
            " 68%|██████▊   | 51/75 [1:10:23<32:07, 80.32s/it]"
          ]
        },
        {
          "name": "stdout",
          "output_type": "stream",
          "text": [
            "Train Loss: 2.1573 Acc: 0.7120\n",
            "Val Loss: 2.6879 Acc: 0.5672\n"
          ]
        },
        {
          "name": "stderr",
          "output_type": "stream",
          "text": [
            " 69%|███████   | 52/75 [1:11:39<30:20, 79.17s/it]"
          ]
        },
        {
          "name": "stdout",
          "output_type": "stream",
          "text": [
            "Train Loss: 2.1783 Acc: 0.7049\n",
            "Val Loss: 2.7458 Acc: 0.5527\n"
          ]
        },
        {
          "name": "stderr",
          "output_type": "stream",
          "text": [
            " 71%|███████   | 53/75 [1:12:56<28:45, 78.41s/it]"
          ]
        },
        {
          "name": "stdout",
          "output_type": "stream",
          "text": [
            "Train Loss: 2.1434 Acc: 0.7239\n",
            "Val Loss: 2.6736 Acc: 0.5711\n"
          ]
        },
        {
          "name": "stderr",
          "output_type": "stream",
          "text": [
            " 72%|███████▏  | 54/75 [1:14:13<27:16, 77.92s/it]"
          ]
        },
        {
          "name": "stdout",
          "output_type": "stream",
          "text": [
            "Train Loss: 2.0699 Acc: 0.7400\n",
            "Val Loss: 2.6464 Acc: 0.5745\n"
          ]
        },
        {
          "name": "stderr",
          "output_type": "stream",
          "text": [
            " 73%|███████▎  | 55/75 [1:15:33<26:12, 78.64s/it]"
          ]
        },
        {
          "name": "stdout",
          "output_type": "stream",
          "text": [
            "Train Loss: 1.9880 Acc: 0.7584\n",
            "Val Loss: 2.6806 Acc: 0.5679\n"
          ]
        },
        {
          "name": "stderr",
          "output_type": "stream",
          "text": [
            " 75%|███████▍  | 56/75 [1:16:53<25:02, 79.08s/it]"
          ]
        },
        {
          "name": "stdout",
          "output_type": "stream",
          "text": [
            "Train Loss: 1.9910 Acc: 0.7623\n",
            "Val Loss: 2.6196 Acc: 0.5819\n"
          ]
        },
        {
          "name": "stderr",
          "output_type": "stream",
          "text": [
            " 76%|███████▌  | 57/75 [1:18:15<23:57, 79.86s/it]"
          ]
        },
        {
          "name": "stdout",
          "output_type": "stream",
          "text": [
            "Train Loss: 2.0116 Acc: 0.7586\n",
            "Val Loss: 2.6147 Acc: 0.5882\n"
          ]
        },
        {
          "name": "stderr",
          "output_type": "stream",
          "text": [
            " 77%|███████▋  | 58/75 [1:19:37<22:47, 80.47s/it]"
          ]
        },
        {
          "name": "stdout",
          "output_type": "stream",
          "text": [
            "Train Loss: 1.9556 Acc: 0.7716\n",
            "Val Loss: 2.6249 Acc: 0.5785\n"
          ]
        },
        {
          "name": "stderr",
          "output_type": "stream",
          "text": [
            " 79%|███████▊  | 59/75 [1:20:57<21:26, 80.39s/it]"
          ]
        },
        {
          "name": "stdout",
          "output_type": "stream",
          "text": [
            "Train Loss: 1.9165 Acc: 0.7822\n",
            "Val Loss: 2.6055 Acc: 0.5861\n"
          ]
        },
        {
          "name": "stderr",
          "output_type": "stream",
          "text": [
            " 80%|████████  | 60/75 [1:22:17<20:06, 80.41s/it]"
          ]
        },
        {
          "name": "stdout",
          "output_type": "stream",
          "text": [
            "Train Loss: 1.9798 Acc: 0.7738\n",
            "Val Loss: 2.5929 Acc: 0.5901\n"
          ]
        },
        {
          "name": "stderr",
          "output_type": "stream",
          "text": [
            " 81%|████████▏ | 61/75 [1:23:38<18:46, 80.46s/it]"
          ]
        },
        {
          "name": "stdout",
          "output_type": "stream",
          "text": [
            "Train Loss: 1.9274 Acc: 0.7851\n",
            "Val Loss: 2.5548 Acc: 0.5969\n"
          ]
        },
        {
          "name": "stderr",
          "output_type": "stream",
          "text": [
            " 83%|████████▎ | 62/75 [1:24:58<17:25, 80.44s/it]"
          ]
        },
        {
          "name": "stdout",
          "output_type": "stream",
          "text": [
            "Train Loss: 1.8351 Acc: 0.8075\n",
            "Val Loss: 2.5322 Acc: 0.5993\n"
          ]
        },
        {
          "name": "stderr",
          "output_type": "stream",
          "text": [
            " 84%|████████▍ | 63/75 [1:26:19<16:05, 80.47s/it]"
          ]
        },
        {
          "name": "stdout",
          "output_type": "stream",
          "text": [
            "Train Loss: 1.8191 Acc: 0.8089\n",
            "Val Loss: 2.5460 Acc: 0.5979\n"
          ]
        },
        {
          "name": "stderr",
          "output_type": "stream",
          "text": [
            " 85%|████████▌ | 64/75 [1:27:39<14:45, 80.46s/it]"
          ]
        },
        {
          "name": "stdout",
          "output_type": "stream",
          "text": [
            "Train Loss: 1.8299 Acc: 0.8031\n",
            "Val Loss: 2.5418 Acc: 0.5952\n"
          ]
        },
        {
          "name": "stderr",
          "output_type": "stream",
          "text": [
            " 87%|████████▋ | 65/75 [1:29:01<13:28, 80.84s/it]"
          ]
        },
        {
          "name": "stdout",
          "output_type": "stream",
          "text": [
            "Train Loss: 1.8613 Acc: 0.8023\n",
            "Val Loss: 2.5371 Acc: 0.5989\n"
          ]
        },
        {
          "name": "stderr",
          "output_type": "stream",
          "text": [
            " 88%|████████▊ | 66/75 [1:30:37<12:48, 85.39s/it]"
          ]
        },
        {
          "name": "stdout",
          "output_type": "stream",
          "text": [
            "Train Loss: 1.8159 Acc: 0.8116\n",
            "Val Loss: 2.5277 Acc: 0.6058\n"
          ]
        },
        {
          "name": "stderr",
          "output_type": "stream",
          "text": [
            " 89%|████████▉ | 67/75 [1:31:57<11:10, 83.85s/it]"
          ]
        },
        {
          "name": "stdout",
          "output_type": "stream",
          "text": [
            "Train Loss: 1.7984 Acc: 0.8181\n",
            "Val Loss: 2.5320 Acc: 0.6003\n"
          ]
        },
        {
          "name": "stderr",
          "output_type": "stream",
          "text": [
            " 91%|█████████ | 68/75 [1:33:18<09:39, 82.85s/it]"
          ]
        },
        {
          "name": "stdout",
          "output_type": "stream",
          "text": [
            "Train Loss: 1.8472 Acc: 0.8079\n",
            "Val Loss: 2.5191 Acc: 0.6034\n"
          ]
        },
        {
          "name": "stderr",
          "output_type": "stream",
          "text": [
            " 92%|█████████▏| 69/75 [1:34:39<08:13, 82.19s/it]"
          ]
        },
        {
          "name": "stdout",
          "output_type": "stream",
          "text": [
            "Train Loss: 1.7737 Acc: 0.8224\n",
            "Val Loss: 2.5096 Acc: 0.6109\n"
          ]
        },
        {
          "name": "stderr",
          "output_type": "stream",
          "text": [
            " 93%|█████████▎| 70/75 [1:35:59<06:48, 81.69s/it]"
          ]
        },
        {
          "name": "stdout",
          "output_type": "stream",
          "text": [
            "Train Loss: 1.7544 Acc: 0.8301\n",
            "Val Loss: 2.5185 Acc: 0.6082\n"
          ]
        },
        {
          "name": "stderr",
          "output_type": "stream",
          "text": [
            " 95%|█████████▍| 71/75 [1:37:22<05:27, 81.98s/it]"
          ]
        },
        {
          "name": "stdout",
          "output_type": "stream",
          "text": [
            "Train Loss: 1.6929 Acc: 0.8423\n",
            "Val Loss: 2.5016 Acc: 0.6163\n"
          ]
        },
        {
          "name": "stderr",
          "output_type": "stream",
          "text": [
            " 96%|█████████▋| 72/75 [1:38:42<04:04, 81.45s/it]"
          ]
        },
        {
          "name": "stdout",
          "output_type": "stream",
          "text": [
            "Train Loss: 1.7405 Acc: 0.8337\n",
            "Val Loss: 2.5013 Acc: 0.6126\n"
          ]
        },
        {
          "name": "stderr",
          "output_type": "stream",
          "text": [
            " 97%|█████████▋| 73/75 [1:40:02<02:42, 81.16s/it]"
          ]
        },
        {
          "name": "stdout",
          "output_type": "stream",
          "text": [
            "Train Loss: 1.7324 Acc: 0.8359\n",
            "Val Loss: 2.5044 Acc: 0.6131\n"
          ]
        },
        {
          "name": "stderr",
          "output_type": "stream",
          "text": [
            " 99%|█████████▉| 74/75 [1:41:23<01:21, 81.11s/it]"
          ]
        },
        {
          "name": "stdout",
          "output_type": "stream",
          "text": [
            "Train Loss: 1.7312 Acc: 0.8347\n",
            "Val Loss: 2.4919 Acc: 0.6146\n"
          ]
        },
        {
          "name": "stderr",
          "output_type": "stream",
          "text": [
            "100%|██████████| 75/75 [1:42:44<00:00, 82.19s/it]"
          ]
        },
        {
          "name": "stdout",
          "output_type": "stream",
          "text": [
            "Train Loss: 1.7335 Acc: 0.8348\n",
            "Val Loss: 2.4974 Acc: 0.6109\n"
          ]
        }
      ],
      "source": [
        "rn = Resnet18(257)\n",
        "rn = rn.to(device)\n",
        "\n",
        "criterion = torch.nn.CrossEntropyLoss(label_smoothing=0.1)\n",
        "optimizer = torch.optim.SGD(rn.parameters(), lr=0.1, weight_decay=0.0001, momentum=0.9)\n",
        "scheduler = torch.optim.lr_scheduler.CosineAnnealingLR(optimizer, 75, eta_min=5e-4)\n",
        "num_epochs = 75\n",
        "\n",
        "\n",
        "rn.train()\n",
        "\n",
        "for epoch in tqdm.tqdm(range(num_epochs)):\n",
        "    l_loss_tr = 0\n",
        "    l_acc_tr = 0\n",
        "    for inputs, labels in data_train:\n",
        "        inputs = inputs.to(device)\n",
        "        labels = labels.to(device)\n",
        "        optimizer.zero_grad()\n",
        "\n",
        "        p = np.random.rand()\n",
        "        if p < 0.2:\n",
        "            if np.random.rand() < 0.5:\n",
        "                inds = torch.randperm(inputs.size(0))\n",
        "                inputs = inputs * np.random.beta(0.2, 0.2) + inputs[inds] * (1 - np.random.beta(0.2, 0.2))\n",
        "                labels = [labels, labels[inds], np.random.beta(0.2, 0.2)]\n",
        "\n",
        "            else:\n",
        "                inds = torch.randperm(inputs.size(0))\n",
        "                ind1 = np.clip(np.random.randint(inputs.size()[2]) - int(inputs.size()[2] * np.sqrt(1. - np.random.beta(1, 1))) // 2, 0, inputs.size()[2])\n",
        "                ind2 = np.clip(np.random.randint(inputs.size()[3]) - int(inputs.size()[3] * np.sqrt(1. - np.random.beta(1, 1))) // 2, 0, inputs.size()[3])\n",
        "                ind3 = np.clip(np.random.randint(inputs.size()[2]) + int(inputs.size()[2] * np.sqrt(1. - np.random.beta(1, 1))) // 2, 0, inputs.size()[2])\n",
        "                ind4 = np.clip(np.random.randint(inputs.size()[3]) + int(inputs.size()[3] * np.sqrt(1. - np.random.beta(1, 1))) // 2, 0, inputs.size()[3])\n",
        "                inputs[:, :, ind1:ind3, ind2:ind4] = inputs[inds, :, ind1:ind3, ind2:ind4]\n",
        "                labels = [labels, labels[inds], 1 - ((ind3 - ind1) * (ind4 - ind2) / (inputs.size()[-1] * inputs.size()[-2]))]\n",
        "\n",
        "        output = rn(inputs)\n",
        "        _, pred = torch.max(output, 1)\n",
        "        if p < 0.2:\n",
        "            loss =  labels[2] * criterion(output, labels[0]) + (1 - labels[2]) * criterion(output, labels[1])\n",
        "        else:\n",
        "            loss = criterion(output, labels)\n",
        "        \n",
        "        loss.backward()\n",
        "        \n",
        "        optimizer.step()\n",
        "        l_loss_tr += loss.item() * len(inputs) / len(data_train)\n",
        "        if p < 0.2:\n",
        "            l_acc_tr += (labels[2] * (pred == labels[0]).sum() + (1 - labels[2]) * (pred == labels[1]).sum()).item()\n",
        "        else:\n",
        "            l_acc_tr += torch.sum(labels == pred).item()\n",
        "\n",
        "    train_loss = l_loss_tr\n",
        "    train_acc = l_acc_tr / len(data_train)\n",
        "\n",
        "    if scheduler is not None:\n",
        "        scheduler.step()\n",
        "    \n",
        "    rn.eval()\n",
        "    l_loss_vl = 0\n",
        "    l_acc_vl = 0\n",
        "    with torch.no_grad():\n",
        "        for inputs, labels in data_val:\n",
        "            inputs = inputs.to(device)\n",
        "            labels = labels.to(device)\n",
        "\n",
        "            output = rn(inputs)\n",
        "            _, pred = torch.max(output, 1)\n",
        "            loss = criterion(output, labels)\n",
        "\n",
        "            l_loss_vl += loss.item() * len(inputs) / len(data_val)\n",
        "            l_acc_vl += torch.sum(labels == pred).item()\n",
        "\n",
        "    val_loss = l_loss_vl\n",
        "    val_acc = l_acc_vl / len(data_val)\n",
        "    print(f\"Train Loss: {train_loss:.4f} Acc: {val_loss:.4f}\")\n",
        "    print(f\"Val Loss: {train_loss:.4f} Acc: {val_loss:.4f}\")\n",
        "    \n",
        "    rn.train()\n",
        "    with torch.no_grad():\n",
        "        torch.cuda.empty_cache()"
      ]
    },
    {
      "cell_type": "markdown",
      "metadata": {
        "id": "taVe3YHsyoGX"
      },
      "source": [
        "ONNX формат, проверка совпадения результатов"
      ]
    },
    {
      "cell_type": "code",
      "execution_count": null,
      "metadata": {
        "id": "qxajf0jHyoGX"
      },
      "outputs": [],
      "source": [
        "rn.eval() \n",
        "\n",
        "# Let's create a dummy input tensor  \n",
        "dummy_input = torch.randn(10, 3, 224, 224, device=\"cuda\")  \n",
        "\n",
        "# Export the model   \n",
        "torch.onnx.export(rn,                                 # model being run \n",
        "      dummy_input,                                        # model input (or a tuple for multiple inputs) \n",
        "      '__resnet18.onnx',                                          # where to save the model  \n",
        "      export_params=True,                                 # store the trained parameter weights inside the model file \n",
        "      opset_version=10,                                   # the ONNX version to export the model to \n",
        "      do_constant_folding=True,                           # whether to execute constant folding for optimization \n",
        "      input_names = ['modelInput'],                       # the model's input names \n",
        "      output_names = ['modelOutput'],                     # the model's output names \n",
        "      dynamic_axes={'modelInput' : {0 : 'batch_size'},    # variable length axes \n",
        "                            'modelOutput' : {0 : 'batch_size'}}) \n"
      ]
    },
    {
      "cell_type": "code",
      "execution_count": null,
      "metadata": {
        "id": "yyDZ4rRlyoGY"
      },
      "outputs": [],
      "source": [
        "model_onnx = onnx.load(\"__resnet18.onnx\")\n",
        "onnx.checker.check_model(model_onnx)"
      ]
    },
    {
      "cell_type": "code",
      "execution_count": null,
      "metadata": {
        "id": "yn7eYL_dyoGZ"
      },
      "outputs": [],
      "source": [
        "x = torch.randn(bs, 3, 224, 224, requires_grad=True).to(device)\n",
        "torch_out = rn(x)\n",
        "\n",
        "ort_session = ort.InferenceSession('__resnet18.onnx')\n",
        "\n",
        "def to_numpy(tensor):\n",
        "    return tensor.detach().cpu().numpy() if tensor.requires_grad else tensor.cpu().numpy()\n",
        "\n",
        "# compute ONNX Runtime output prediction\n",
        "ort_inputs = {ort_session.get_inputs()[0].name: to_numpy(x)}\n",
        "ort_outs = ort_session.run(None, ort_inputs)\n",
        "\n",
        "# compare ONNX Runtime and PyTorch results\n",
        "np.testing.assert_allclose(to_numpy(torch_out), ort_outs[0], rtol=1e-03, atol=1e-05)"
      ]
    }
  ],
  "metadata": {
    "accelerator": "GPU",
    "colab": {
      "gpuType": "T4",
      "provenance": []
    },
    "gpuClass": "standard",
    "kernelspec": {
      "display_name": "Python 3",
      "name": "python3"
    },
    "language_info": {
      "codemirror_mode": {
        "name": "ipython",
        "version": 3
      },
      "file_extension": ".py",
      "mimetype": "text/x-python",
      "name": "python",
      "nbconvert_exporter": "python",
      "pygments_lexer": "ipython3",
      "version": "3.8.2"
    }
  },
  "nbformat": 4,
  "nbformat_minor": 0
}