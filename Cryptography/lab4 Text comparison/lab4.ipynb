{
 "cells": [
  {
   "cell_type": "markdown",
   "metadata": {},
   "source": [
    "### Лабораторная работа 4\n",
    "\n",
    "#### Будникова Валерия\n",
    "\n",
    "Группа: М8О-307Б-19"
   ]
  },
  {
   "cell_type": "markdown",
   "metadata": {},
   "source": [
    "Функции, для подготовки словаря и чтения текста из файла "
   ]
  },
  {
   "cell_type": "code",
   "execution_count": 50,
   "metadata": {},
   "outputs": [],
   "source": [
    "def GetText(file):\n",
    "    f = open(file, \"r\")\n",
    "    t = f.read()\n",
    "    f.close()\n",
    "    t.replace(\"\\n\", \" \")\n",
    "    return t\n",
    "\n",
    "def ModifyText(text):\n",
    "    new_text = \"\"\n",
    "    for ch in text:\n",
    "        ch = ch.lower()\n",
    "        if ord(ch) >= ord('a') and ord(ch) <= ord('я'):\n",
    "            new_text += ch\n",
    "    return new_text\n",
    "\n",
    "def Compare(text1, text2, size = -1):\n",
    "    if size == -1: size = len(text1)\n",
    "    size = min(size, len(text1), len(text2))\n",
    "    count = 0\n",
    "    for i in range(size):\n",
    "        if text1[i] == text2[i]:\n",
    "            count += 1\n",
    "    return int(count * 100 / size)"
   ]
  },
  {
   "cell_type": "markdown",
   "metadata": {},
   "source": [
    "Класс - для получения всех слов из текстов"
   ]
  },
  {
   "cell_type": "code",
   "execution_count": 44,
   "metadata": {},
   "outputs": [],
   "source": [
    "import re\n",
    "class Dict():\n",
    "    def __init__(self):\n",
    "        self.dict = {\"и\"}\n",
    "    \n",
    "    def AddWords(self, text):\n",
    "        new_words = re.findall('[a-zа-яё]+', text, flags=re.IGNORECASE)\n",
    "        for w in new_words:\n",
    "            self.dict.add(w)\n",
    "        "
   ]
  },
  {
   "cell_type": "code",
   "execution_count": 45,
   "metadata": {},
   "outputs": [],
   "source": [
    "d = Dict()\n",
    "\n",
    "text1 = GetText('Turgenev_Ivan_Otcy_i_deti.txt')\n",
    "text2 = GetText('TomSowyer.txt')\n",
    "\n",
    "d.AddWords(text1)\n",
    "d.AddWords(text2)"
   ]
  },
  {
   "cell_type": "code",
   "execution_count": 46,
   "metadata": {},
   "outputs": [
    {
     "name": "stdout",
     "output_type": "stream",
     "text": [
      "279423\n",
      "30727\n"
     ]
    }
   ],
   "source": [
    "text1 = ModifyText(text1)\n",
    "text2 = ModifyText(text2)\n",
    "print(len(text1))\n",
    "print(len(text2))"
   ]
  },
  {
   "cell_type": "markdown",
   "metadata": {},
   "source": [
    "Функции, для создания рандобных текстов"
   ]
  },
  {
   "cell_type": "code",
   "execution_count": 47,
   "metadata": {},
   "outputs": [],
   "source": [
    "import random as rnd\n",
    "\n",
    "def rndTextChar(len):\n",
    "    new_text = \"\"\n",
    "    for i in range(len):\n",
    "        ch = chr(ord('а') + rnd.randint(0, 31))\n",
    "        new_text += ch\n",
    "    return new_text\n",
    "\n",
    "def rndTextWord(size, dict):\n",
    "    new_text = \"\"\n",
    "    while len(new_text) < size:\n",
    "        pos = rnd.randint(0, len(dict) - 1)\n",
    "        new_text += dict[pos]\n",
    "    return new_text\n"
   ]
  },
  {
   "cell_type": "code",
   "execution_count": 53,
   "metadata": {},
   "outputs": [],
   "source": [
    "def Ans(text1, text2, N, d):\n",
    "    print(\"1) Сравнение двух осмысленных текстов:\")\n",
    "    for n in N:\n",
    "        print(f\"Длина текста: {n}\\t Процент совпадения: {Compare(text1, text2, n)}%\")\n",
    "\n",
    "    print(\"\\n2) Сравнение осмысленного текста и текста из случайных букв:\")\n",
    "    for n in N:\n",
    "        rnd_text_ch = rndTextChar(n)\n",
    "        print(f\"Длина текста: {n}\\t Процент совпадения: {Compare(text1, rnd_text_ch)}%\")\n",
    "\n",
    "    print(\"\\n3) Сравнение осмысленного текста и текста из случайных слов:\")\n",
    "    for n in N:\n",
    "        rnd_text_word = rndTextWord(n, list(d.dict))\n",
    "        print(f\"Длина текста: {n}\\t Процент совпадения: {Compare(rnd_text_word, text2)}%\")\n",
    "\n",
    "\n",
    "    print(f\"\\n4) Сравнение двух текстов из случайных букв:\")\n",
    "    for n in N:\n",
    "        rnd_text_ch1 = rndTextChar(n)\n",
    "        rnd_text_ch2 = rndTextChar(n)\n",
    "        print(f\"Длина текста: {n}\\t Процент совпадения: {Compare(rnd_text_ch1, rnd_text_ch2)}%\")\n",
    "\n",
    "    print(f\"\\n5) Сравнение двух текстов из случайных слов:\")\n",
    "    for n in N:\n",
    "        rnd_text_word1 = rndTextWord(n, list(d.dict))\n",
    "        rnd_text_word2 = rndTextWord(n, list(d.dict))\n",
    "        print(f\"Длина текста: {n}\\t Процент совпадения: {Compare(rnd_text_word1, rnd_text_word2)}%\")"
   ]
  },
  {
   "cell_type": "code",
   "execution_count": 54,
   "metadata": {},
   "outputs": [
    {
     "name": "stdout",
     "output_type": "stream",
     "text": [
      "1) Сравнение двух осмысленных текстов:\n",
      "Длина текста: 10\t Процент совпадения: 0%\n",
      "Длина текста: 100\t Процент совпадения: 1%\n",
      "Длина текста: 1000\t Процент совпадения: 4%\n",
      "Длина текста: 10000\t Процент совпадения: 5%\n",
      "Длина текста: 20000\t Процент совпадения: 5%\n",
      "Длина текста: 30000\t Процент совпадения: 5%\n",
      "Длина текста: 30727\t Процент совпадения: 5%\n",
      "\n",
      "2) Сравнение осмысленного текста и текста из случайных букв:\n",
      "Длина текста: 10\t Процент совпадения: 0%\n",
      "Длина текста: 100\t Процент совпадения: 5%\n",
      "Длина текста: 1000\t Процент совпадения: 2%\n",
      "Длина текста: 10000\t Процент совпадения: 3%\n",
      "Длина текста: 20000\t Процент совпадения: 3%\n",
      "Длина текста: 30000\t Процент совпадения: 3%\n",
      "Длина текста: 30727\t Процент совпадения: 3%\n",
      "\n",
      "3) Сравнение осмысленного текста и текста из случайных слов:\n",
      "Длина текста: 10\t Процент совпадения: 5%\n",
      "Длина текста: 100\t Процент совпадения: 9%\n",
      "Длина текста: 1000\t Процент совпадения: 4%\n",
      "Длина текста: 10000\t Процент совпадения: 5%\n",
      "Длина текста: 20000\t Процент совпадения: 5%\n",
      "Длина текста: 30000\t Процент совпадения: 5%\n",
      "Длина текста: 30727\t Процент совпадения: 5%\n",
      "\n",
      "4) Сравнение двух текстов из случайных букв:\n",
      "Длина текста: 10\t Процент совпадения: 0%\n",
      "Длина текста: 100\t Процент совпадения: 3%\n",
      "Длина текста: 1000\t Процент совпадения: 3%\n",
      "Длина текста: 10000\t Процент совпадения: 3%\n",
      "Длина текста: 20000\t Процент совпадения: 2%\n",
      "Длина текста: 30000\t Процент совпадения: 3%\n",
      "Длина текста: 30727\t Процент совпадения: 3%\n",
      "\n",
      "5) Сравнение двух текстов из случайных слов:\n",
      "Длина текста: 10\t Процент совпадения: 0%\n",
      "Длина текста: 100\t Процент совпадения: 7%\n",
      "Длина текста: 1000\t Процент совпадения: 4%\n",
      "Длина текста: 10000\t Процент совпадения: 4%\n",
      "Длина текста: 20000\t Процент совпадения: 5%\n",
      "Длина текста: 30000\t Процент совпадения: 5%\n",
      "Длина текста: 30727\t Процент совпадения: 5%\n"
     ]
    }
   ],
   "source": [
    "Ans(text1, text2, [10, 100, 1000, 10000, 20000, 30000, min(len(text1), len(text2))], d)"
   ]
  },
  {
   "cell_type": "code",
   "execution_count": null,
   "metadata": {},
   "outputs": [],
   "source": []
  }
 ],
 "metadata": {
  "interpreter": {
   "hash": "752579dbebe7f4dfe7c1aa72eac13e23fc88be2cc1ea7ab14e1f8d69b2d97d12"
  },
  "kernelspec": {
   "display_name": "Python 3",
   "language": "python",
   "name": "python3"
  },
  "language_info": {
   "codemirror_mode": {
    "name": "ipython",
    "version": 3
   },
   "file_extension": ".py",
   "mimetype": "text/x-python",
   "name": "python",
   "nbconvert_exporter": "python",
   "pygments_lexer": "ipython3",
   "version": "3.8.2"
  },
  "orig_nbformat": 4
 },
 "nbformat": 4,
 "nbformat_minor": 2
}
